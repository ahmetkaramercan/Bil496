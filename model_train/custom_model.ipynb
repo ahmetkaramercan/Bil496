{
 "cells": [
  {
   "cell_type": "code",
   "execution_count": 1,
   "metadata": {},
   "outputs": [
    {
     "name": "stderr",
     "output_type": "stream",
     "text": [
      "c:\\Users\\GamerPc\\.conda\\envs\\tensorflow\\lib\\site-packages\\tqdm\\auto.py:21: TqdmWarning: IProgress not found. Please update jupyter and ipywidgets. See https://ipywidgets.readthedocs.io/en/stable/user_install.html\n",
      "  from .autonotebook import tqdm as notebook_tqdm\n"
     ]
    }
   ],
   "source": [
    "import torch.nn as nn\n",
    "from transformers.modeling_outputs import BaseModelOutput\n",
    "\n",
    "class CustomModel(nn.Module):\n",
    "    def __init__(self, original_model):\n",
    "        super(CustomModel, self).__init__()\n",
    "        self.original_model = original_model\n",
    "        # Assuming the original model outputs its last hidden state\n",
    "        self.new_layer = nn.Linear(original_model.config.hidden_size, original_model.config.hidden_size)\n",
    "        self.layer_norm = nn.LayerNorm(original_model.config.hidden_size)\n",
    "\n",
    "    def forward(self, input_ids, attention_mask=None):\n",
    "        outputs = self.original_model(input_ids, attention_mask=attention_mask)\n",
    "        last_hidden_state = outputs.last_hidden_state\n",
    "        new_hidden_state = self.new_layer(last_hidden_state)\n",
    "        norm_hidden_state = self.layer_norm(new_hidden_state)\n",
    "        return BaseModelOutput(last_hidden_state=norm_hidden_state)"
   ]
  },
  {
   "cell_type": "code",
   "execution_count": null,
   "metadata": {},
   "outputs": [],
   "source": []
  }
 ],
 "metadata": {
  "kernelspec": {
   "display_name": "tensorflow",
   "language": "python",
   "name": "python3"
  },
  "language_info": {
   "codemirror_mode": {
    "name": "ipython",
    "version": 3
   },
   "file_extension": ".py",
   "mimetype": "text/x-python",
   "name": "python",
   "nbconvert_exporter": "python",
   "pygments_lexer": "ipython3",
   "version": "3.10.12"
  }
 },
 "nbformat": 4,
 "nbformat_minor": 2
}
