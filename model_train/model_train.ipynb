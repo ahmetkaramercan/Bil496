{
 "cells": [
  {
   "cell_type": "code",
   "execution_count": null,
   "metadata": {},
   "outputs": [],
   "source": [
    "from datasets import load_dataset\n",
    "\n",
    "dataset = load_dataset(\"QuyenAnhDE/Diseases_Symptoms\")"
   ]
  },
  {
   "cell_type": "code",
   "execution_count": null,
   "metadata": {},
   "outputs": [],
   "source": [
    "dataset_org = load_dataset(\"gretelai/symptom_to_diagnosis\")"
   ]
  },
  {
   "cell_type": "code",
   "execution_count": null,
   "metadata": {},
   "outputs": [],
   "source": [
    "dataset_org"
   ]
  },
  {
   "cell_type": "code",
   "execution_count": null,
   "metadata": {},
   "outputs": [],
   "source": [
    "#show the number of Name column which is not duplicated\n",
    "#show that unique element of dataset[\"train\"]['Name'] which is list type\n",
    "labels= dataset_org[\"train\"]['output_text']\n",
    "\n",
    "unique_names = set(labels)\n"
   ]
  },
  {
   "cell_type": "code",
   "execution_count": null,
   "metadata": {},
   "outputs": [],
   "source": [
    "len(unique_names)"
   ]
  },
  {
   "cell_type": "code",
   "execution_count": null,
   "metadata": {},
   "outputs": [],
   "source": [
    "dataset"
   ]
  },
  {
   "cell_type": "code",
   "execution_count": null,
   "metadata": {},
   "outputs": [],
   "source": [
    "#show the number of Name column which is not duplicated\n",
    "#show that unique element of dataset[\"train\"]['Name'] which is list type\n",
    "labels= dataset[\"train\"]['Name']\n",
    "\n",
    "unique_names = set(labels)\n",
    "\n",
    "len(unique_names)"
   ]
  },
  {
   "cell_type": "code",
   "execution_count": null,
   "metadata": {},
   "outputs": [],
   "source": [
    "dataset = dataset[\"train\"]"
   ]
  },
  {
   "cell_type": "code",
   "execution_count": null,
   "metadata": {},
   "outputs": [],
   "source": [
    "dataset[2]"
   ]
  },
  {
   "cell_type": "code",
   "execution_count": null,
   "metadata": {},
   "outputs": [],
   "source": [
    "from datasets import load_dataset\n",
    "from transformers import AutoTokenizer\n",
    "\n",
    "tokenizer = AutoTokenizer.from_pretrained(\"Zabihin/Symptom_to_Diagnosis\")\n",
    "\n",
    "def preprocess_function(examples):\n",
    "    # Tokenizing the text\n",
    "    result = tokenizer(examples['Symptoms'], padding='max_length', truncation=True, max_length=512)\n",
    "    # Assuming \"Code\" is what you want to predict and it's categorical data\n",
    "    if 'Code' in examples:\n",
    "        result[\"labels\"] = [label_to_id[label] for label in examples['Name']]  # Convert labels to numerical IDs\n",
    "    return result\n",
    "\n",
    "# Assuming `dataset` is your loaded dataset\n",
    "# Convert label strings to integers (if they aren't already)\n",
    "label_list = dataset['Name']  # Adjust based on your actual dataset structure\n",
    "label_to_id = {label: i for i, label in enumerate(set(label_list))}\n",
    "id_to_label = {i: label for label, i in label_to_id.items()}\n",
    "\n",
    "# Map the preprocessing function over the whole dataset\n",
    "tokenized_dataset = dataset.map(preprocess_function, batched=True)\n",
    "\n"
   ]
  },
  {
   "cell_type": "code",
   "execution_count": null,
   "metadata": {},
   "outputs": [],
   "source": [
    "from transformers import AutoModelForSequenceClassification, AutoConfig, AutoTokenizer\n",
    "from transformers import AutoModel\n",
    "import torch\n",
    "\n",
    "# Load the base model\n",
    "model_base = AutoModelForSequenceClassification.from_pretrained(\"Zabihin/Symptom_to_Diagnosis\",from_tf=True)\n",
    "\n",
    "# Replace the classifier for PyTorch (assuming the base model is similar to BERT)\n",
    "model_base.classifier = torch.nn.Linear(model_base.config.hidden_size, 392)\n",
    "\n",
    "\n",
    "config = AutoConfig.from_pretrained(\"Zabihin/Symptom_to_Diagnosis\")\n",
    "config.num_labels = 392  # Update the number of labels in the configuration\n"
   ]
  },
  {
   "cell_type": "code",
   "execution_count": null,
   "metadata": {},
   "outputs": [],
   "source": [
    "# import torch.nn as nn\n",
    "\n",
    "# # Assuming the model's classifier is a single linear layer\n",
    "# # This replaces it with a new linear layer with 392 output features\n",
    "# model.config.num_labels = len(set(label_list))\n",
    "# model.classifier = nn.Linear(model.config.hidden_size, 392)\n"
   ]
  },
  {
   "cell_type": "code",
   "execution_count": null,
   "metadata": {},
   "outputs": [],
   "source": [
    "#model.config.num_labels = 392\n",
    "model = model_base"
   ]
  },
  {
   "cell_type": "code",
   "execution_count": null,
   "metadata": {},
   "outputs": [],
   "source": [
    "print(model)"
   ]
  },
  {
   "cell_type": "code",
   "execution_count": null,
   "metadata": {},
   "outputs": [],
   "source": [
    "from sklearn.metrics import accuracy_score, precision_recall_fscore_support\n",
    "import numpy as np\n",
    "def compute_metrics(eval_pred):\n",
    "    logits, labels = eval_pred\n",
    "    predictions = np.argmax(logits, axis=-1)\n",
    "    precision, recall, f1, _ = precision_recall_fscore_support(labels, predictions, average='weighted')\n",
    "    acc = accuracy_score(labels, predictions)\n",
    "    return {'accuracy': acc, 'f1': f1, 'precision': precision, 'recall': recall}\n"
   ]
  },
  {
   "cell_type": "code",
   "execution_count": null,
   "metadata": {},
   "outputs": [],
   "source": [
    "from datasets import DatasetDict\n",
    "\n",
    "# Split the dataset into training and testing\n",
    "train_test_split = tokenized_dataset.train_test_split(test_size=0.15)  # 80% training, 20% testing\n",
    "\n",
    "# Split the test set into validation and test\n",
    "validation_test_split = train_test_split['test'].train_test_split(test_size=0.5)  # Splits the 20% into two parts of 10% each\n",
    "\n",
    "# Now, assemble the final tokenized_datasetDict including all splits\n",
    "split_dataset = DatasetDict({\n",
    "    'train': train_test_split['train'],\n",
    "    'validation': validation_test_split['train'],  # Using 'train' here because it's the training part of the split\n",
    "    'test': validation_test_split['test']\n",
    "})\n"
   ]
  },
  {
   "cell_type": "code",
   "execution_count": null,
   "metadata": {},
   "outputs": [],
   "source": [
    "split_dataset"
   ]
  },
  {
   "cell_type": "code",
   "execution_count": null,
   "metadata": {},
   "outputs": [],
   "source": [
    "tokenized_dataset"
   ]
  },
  {
   "cell_type": "code",
   "execution_count": null,
   "metadata": {},
   "outputs": [],
   "source": [
    "\n",
    "from transformers import TrainingArguments, Trainer\n",
    "\n",
    "training_args = TrainingArguments(\n",
    "    output_dir='./results',          # Directory for saving logs and model checkpoints\n",
    "    evaluation_strategy='epoch',     # Evaluation is done at the end of each epoch\n",
    "    learning_rate=2e-5,              # Fine-tuning learning rate\n",
    "    per_device_train_batch_size=8,   # Batch size per device during training\n",
    "    per_device_eval_batch_size=8,    # Batch size for evaluation\n",
    "    num_train_epochs=3,              # Total number of training epochs\n",
    "    weight_decay=0.01,               # Strength of weight decay regularization\n",
    ")\n",
    "\n",
    "trainer = Trainer(\n",
    "    model=model,\n",
    "    args=training_args,\n",
    "    train_dataset=tokenized_dataset,  # Assuming your dataset has a train split\n",
    "    eval_dataset=tokenized_dataset,  # Assuming your dataset has a validation split\n",
    "    compute_metrics=compute_metrics,  # Define your own function to compute metrics\n",
    ")\n"
   ]
  },
  {
   "cell_type": "code",
   "execution_count": null,
   "metadata": {},
   "outputs": [],
   "source": [
    "# Assuming 'labels' is the field in your dataset containing the target labels\n",
    "unique_labels = set(tokenized_dataset['Name'])\n",
    "num_labels = len(unique_labels)\n",
    "print(\"Number of unique labels:\", num_labels)\n"
   ]
  },
  {
   "cell_type": "code",
   "execution_count": null,
   "metadata": {},
   "outputs": [],
   "source": [
    "trainer.train()\n"
   ]
  },
  {
   "cell_type": "code",
   "execution_count": null,
   "metadata": {},
   "outputs": [],
   "source": [
    "trainer.evaluate(tokenized_dataset['test'])  # Assuming your dataset has a test split\n"
   ]
  },
  {
   "cell_type": "code",
   "execution_count": null,
   "metadata": {},
   "outputs": [],
   "source": []
  },
  {
   "cell_type": "code",
   "execution_count": null,
   "metadata": {},
   "outputs": [],
   "source": []
  }
 ],
 "metadata": {
  "kernelspec": {
   "display_name": "tensorflow",
   "language": "python",
   "name": "python3"
  },
  "language_info": {
   "codemirror_mode": {
    "name": "ipython",
    "version": 3
   },
   "file_extension": ".py",
   "mimetype": "text/x-python",
   "name": "python",
   "nbconvert_exporter": "python",
   "pygments_lexer": "ipython3",
   "version": "3.10.12"
  }
 },
 "nbformat": 4,
 "nbformat_minor": 2
}
