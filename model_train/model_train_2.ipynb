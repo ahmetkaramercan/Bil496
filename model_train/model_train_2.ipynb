{
 "cells": [
  {
   "cell_type": "code",
   "execution_count": 1,
   "metadata": {},
   "outputs": [
    {
     "name": "stderr",
     "output_type": "stream",
     "text": [
      "C:\\Users\\GamerPc\\AppData\\Roaming\\Python\\Python310\\site-packages\\tqdm\\auto.py:21: TqdmWarning: IProgress not found. Please update jupyter and ipywidgets. See https://ipywidgets.readthedocs.io/en/stable/user_install.html\n",
      "  from .autonotebook import tqdm as notebook_tqdm\n"
     ]
    }
   ],
   "source": [
    "from datasets import load_dataset\n",
    "\n",
    "dataset = load_dataset(\"duxprajapati/symptom-disease-dataset\")"
   ]
  },
  {
   "cell_type": "code",
   "execution_count": 2,
   "metadata": {},
   "outputs": [
    {
     "data": {
      "text/plain": [
       "DatasetDict({\n",
       "    train: Dataset({\n",
       "        features: ['text', 'label'],\n",
       "        num_rows: 5634\n",
       "    })\n",
       "    test: Dataset({\n",
       "        features: ['text', 'label'],\n",
       "        num_rows: 1409\n",
       "    })\n",
       "})"
      ]
     },
     "execution_count": 2,
     "metadata": {},
     "output_type": "execute_result"
    }
   ],
   "source": [
    "dataset"
   ]
  },
  {
   "cell_type": "code",
   "execution_count": 3,
   "metadata": {},
   "outputs": [],
   "source": [
    "#show the number of Name column which is not duplicated\n",
    "#show that unique element of dataset[\"train\"]['Name'] which is list type\n",
    "labels= dataset[\"train\"]['label']\n",
    "\n",
    "unique_names = set(labels)\n"
   ]
  },
  {
   "cell_type": "code",
   "execution_count": 4,
   "metadata": {},
   "outputs": [
    {
     "data": {
      "text/plain": [
       "866"
      ]
     },
     "execution_count": 4,
     "metadata": {},
     "output_type": "execute_result"
    }
   ],
   "source": [
    "len(unique_names)"
   ]
  },
  {
   "cell_type": "code",
   "execution_count": 5,
   "metadata": {},
   "outputs": [],
   "source": [
    "labels= dataset[\"test\"]['label']"
   ]
  },
  {
   "cell_type": "code",
   "execution_count": 6,
   "metadata": {},
   "outputs": [],
   "source": [
    "from transformers import AutoModelForSequenceClassification, AutoConfig, AutoTokenizer\n",
    "from transformers import AutoModel\n",
    "import torch\n",
    "\n",
    "# Load the base model\n",
    "model_base = AutoModelForSequenceClassification.from_pretrained(\"duxprajapati/symptom-disease-model\")\n",
    "\n",
    "\n",
    "config = AutoConfig.from_pretrained(\"duxprajapati/symptom-disease-model\")"
   ]
  },
  {
   "cell_type": "code",
   "execution_count": 7,
   "metadata": {},
   "outputs": [
    {
     "name": "stdout",
     "output_type": "stream",
     "text": [
      "DistilBertForSequenceClassification(\n",
      "  (distilbert): DistilBertModel(\n",
      "    (embeddings): Embeddings(\n",
      "      (word_embeddings): Embedding(30522, 768, padding_idx=0)\n",
      "      (position_embeddings): Embedding(512, 768)\n",
      "      (LayerNorm): LayerNorm((768,), eps=1e-12, elementwise_affine=True)\n",
      "      (dropout): Dropout(p=0.1, inplace=False)\n",
      "    )\n",
      "    (transformer): Transformer(\n",
      "      (layer): ModuleList(\n",
      "        (0-5): 6 x TransformerBlock(\n",
      "          (attention): MultiHeadSelfAttention(\n",
      "            (dropout): Dropout(p=0.1, inplace=False)\n",
      "            (q_lin): Linear(in_features=768, out_features=768, bias=True)\n",
      "            (k_lin): Linear(in_features=768, out_features=768, bias=True)\n",
      "            (v_lin): Linear(in_features=768, out_features=768, bias=True)\n",
      "            (out_lin): Linear(in_features=768, out_features=768, bias=True)\n",
      "          )\n",
      "          (sa_layer_norm): LayerNorm((768,), eps=1e-12, elementwise_affine=True)\n",
      "          (ffn): FFN(\n",
      "            (dropout): Dropout(p=0.1, inplace=False)\n",
      "            (lin1): Linear(in_features=768, out_features=3072, bias=True)\n",
      "            (lin2): Linear(in_features=3072, out_features=768, bias=True)\n",
      "            (activation): GELUActivation()\n",
      "          )\n",
      "          (output_layer_norm): LayerNorm((768,), eps=1e-12, elementwise_affine=True)\n",
      "        )\n",
      "      )\n",
      "    )\n",
      "  )\n",
      "  (pre_classifier): Linear(in_features=768, out_features=768, bias=True)\n",
      "  (classifier): Linear(in_features=768, out_features=1082, bias=True)\n",
      "  (dropout): Dropout(p=0.2, inplace=False)\n",
      ")\n"
     ]
    }
   ],
   "source": [
    "print(model_base)"
   ]
  },
  {
   "cell_type": "code",
   "execution_count": 8,
   "metadata": {},
   "outputs": [
    {
     "name": "stderr",
     "output_type": "stream",
     "text": [
      "[nltk_data] Downloading package averaged_perceptron_tagger to\n",
      "[nltk_data]     C:\\Users\\GamerPc\\AppData\\Roaming\\nltk_data...\n",
      "[nltk_data]   Package averaged_perceptron_tagger is already up-to-\n",
      "[nltk_data]       date!\n",
      "[nltk_data] Downloading package wordnet to\n",
      "[nltk_data]     C:\\Users\\GamerPc\\AppData\\Roaming\\nltk_data...\n",
      "[nltk_data]   Package wordnet is already up-to-date!\n"
     ]
    },
    {
     "name": "stdout",
     "output_type": "stream",
     "text": [
      "Original: Fever and cough might indicate a flu infection.\n",
      "Augmented: febricity and coughing might indicate a flu infection .\n"
     ]
    }
   ],
   "source": [
    "import nltk\n",
    "from nltk.corpus import wordnet\n",
    "from random import randint\n",
    "\n",
    "nltk.download('averaged_perceptron_tagger')\n",
    "nltk.download('wordnet')\n",
    "\n",
    "def get_synonyms(word):\n",
    "    synonyms = set()\n",
    "    for syn in wordnet.synsets(word):\n",
    "        for lemma in syn.lemmas():\n",
    "            synonyms.add(lemma.name())\n",
    "    if word in synonyms:\n",
    "        synonyms.remove(word)\n",
    "    return list(synonyms)\n",
    "\n",
    "def synonym_replacement(sentence, num_replacements=1):\n",
    "    words = nltk.word_tokenize(sentence)\n",
    "    pos_tags = nltk.pos_tag(words)\n",
    "\n",
    "    replacements = 0\n",
    "    for i, (word, tag) in enumerate(pos_tags):\n",
    "        if replacements >= num_replacements or wordnet.synsets(word) == []:\n",
    "            continue\n",
    "        synonyms = get_synonyms(word)\n",
    "        if synonyms:\n",
    "            synonym = synonyms[randint(0, len(synonyms) - 1)]\n",
    "            words[i] = synonym\n",
    "            replacements += 1\n",
    "\n",
    "    return ' '.join(words)\n",
    "\n",
    "# Example usage\n",
    "sentence = \"Fever and cough might indicate a flu infection.\"\n",
    "augmented_sentence = synonym_replacement(sentence, 2)\n",
    "print(\"Original:\", sentence)\n",
    "print(\"Augmented:\", augmented_sentence)\n"
   ]
  },
  {
   "cell_type": "code",
   "execution_count": 9,
   "metadata": {},
   "outputs": [],
   "source": [
    "from datasets import load_dataset\n",
    "\n",
    "# Assuming the functions `get_synonyms` and `synonym_replacement` are defined as above\n",
    "\n",
    "# Load your dataset\n",
    "dataset = load_dataset(\"duxprajapati/symptom-disease-dataset\")\n",
    "\n",
    "# Function to augment the data\n",
    "def augment_dataset(data, augmentation_function, num_replacements=1):\n",
    "    augmented_texts = []\n",
    "    labels = []\n",
    "    for example in data:\n",
    "        augmented_text = augmentation_function(example['text'], num_replacements)\n",
    "        augmented_texts.append(augmented_text)\n",
    "        labels.append(example['label'])\n",
    "    return augmented_texts, labels\n",
    "\n",
    "# Augment the training data\n",
    "augmented_texts, labels = augment_dataset(dataset['train'], synonym_replacement, 2)\n",
    "\n",
    "# Create a new dataset from the augmented texts and labels\n",
    "augmented_dataset = {\n",
    "    'text': augmented_texts + [example['text'] for example in dataset['train']],\n",
    "    'label': labels + [example['label'] for example in dataset['train']]\n",
    "}\n"
   ]
  },
  {
   "cell_type": "code",
   "execution_count": 10,
   "metadata": {},
   "outputs": [
    {
     "data": {
      "text/plain": [
       "{'text': [\"single cause been having migraines and headaches . I ca n't sleep . My whole body is shaking and shivering . I feel dizzy sometimes .\",\n",
       "  'iodin own asthma and I get wheezing and breathing problems . I also have fevers , headaches , and I feel tired all the time .',\n",
       "  \"contract and symptom of primary ovarian insufficiency are similar to those of menopause or estrogen deficiency . They include : Irregular or skipped periods , which might be present for years or develop after a pregnancy or after stopping birth control pills Difficulty getting pregnant Hot flashes Night sweats Vaginal dryness Dry eyes Irritability or difficulty concentrating Decreased sexual desire When to see a health care provider If you 've missed your period for three months or more , see your health care provider to determine the cause . You can miss your period for a number of reasons — including pregnancy , stress , or a change in diet or exercise habits — but it 's best to get evaluated whenever your menstrual cycle changes . Even if you do n't mind not having periods , it 's advisable to see your provider to find out what 's causing the change . Low estrogen levels can lead to bone loss and an increased risk of heart disease .\",\n",
       "  'coughing , high_fever , SOB , family_history , mucoid_sputum',\n",
       "  'thrill , chuck , high_fever , sweating , headache , nausea , diarrhoea , muscle_pain',\n",
       "  \"buns cortical withering symptoms vary among people . Symptoms also can vary over time . They tend to gradually get worse . Common symptoms include having trouble with : Reading , spelling or math . Driving . Getting dressed . Telling the difference between objects that are moving and those that are still . Judging how far away objects are . Using everyday objects or tools . Identifying left from right . Other common symptoms include : Anxiety . Confusion . Changes in behavior and personality . Memory problems may occur later in the disease . Causes The most common cause of posterior cortical atrophy is a form of Alzheimer 's disease that 's not typical . It affects the back of the brain . Other less common causes include corticobasal degeneration , Lewy body dementia and Creutzfeldt-Jakob disease . Researchers are looking at potential gene variations that may be related to the condition . Risk factors Further study is needed to determine whether the risk factors for Alzheimer 's disease may play a role in posterior cortical atrophy . By Mayo Clinic Staff By Mayo Clinic Staff Posterior cortical atrophy care at Mayo Clinic\",\n",
       "  \"atomic_number_53 've cost having back pain , a cough , and numbness in my arms and legs . My neck hurts too , and I 've been feeling dizzy and off balance .\",\n",
       "  'yellowish_skin , sickness , loss_of_appetite , yellowing_of_eyes , family_history',\n",
       "  'joint_pain , neck_pain , knee_pain , hip_joint_pain , swelling_joints , painful_walking',\n",
       "  \"AN strange sensation ( aura ) may precede a temporal lobe seizure , acting as a warning . Not everyone who has temporal lobe seizures has auras , and not everyone who has auras remembers them . The aura is actually the first part of a focal seizure before consciousness is impaired . Examples of auras include : A sudden sense of unprovoked fear or joy A deja vu experience — a feeling that what 's happening has happened before A sudden or strange odor or taste A rising sensation in the abdomen , similar to being on a roller coaster Sometimes temporal lobe seizures impair your ability to respond to others . This type of temporal lobe seizure usually lasts 30 seconds to two minutes . Characteristic signs and symptoms include : Loss of awareness of surroundings Staring Lip smacking Repeated swallowing or chewing Unusual finger movements , such as picking motions After a temporal lobe seizure , you may have : A period of confusion and difficulty speaking Inability to recall what occurred during the seizure Unawareness of having had a seizure Extreme sleepiness In extreme cases , what starts as a temporal lobe seizure evolves into a generalized tonic-clonic ( grand mal ) seizure — featuring convulsions and loss of consciousness .\",\n",
       "  'regorge , yellowish_skin , abdominal_pain , swelling_of_stomach , distention_of_abdomen , history_of_alcohol_consumption , fluid_overload',\n",
       "  'vomit , wear_down , anxiety , sweating , headache , nausea , excessive_hunger , drying_and_tingling_lips , slurred_speech , irritability , palpitations',\n",
       "  'tire_out , mood_swings , weight_loss , queasiness , sweating , diarrhoea , excessive_hunger , muscle_weakness , irritability , abnormal_menstruation',\n",
       "  'joint_pain , sick , yellowish_skin , dark_urine , sickness , loss_of_appetite , abdominal_pain , diarrhoea , mild_fever , yellowing_of_eyes , muscle_pain',\n",
       "  'efflorescence , cool_down , joint_pain , vomiting , fatigue , high_fever , headache , nausea , loss_of_appetite , pain_behind_the_eyes , back_pain , malaise , muscle_pain , red_spots_over_body',\n",
       "  'itch , spue , yellowish_skin , nausea , loss_of_appetite , abdominal_pain , yellowing_of_eyes',\n",
       "  'You mightiness acquire signs and symptoms of an intracranial hematoma right after a head injury , or they may take weeks or longer to appear . You might seem fine after a head injury . This period is called the lucid interval . Over time , pressure on your brain increases , producing some or all of the following signs and symptoms : Headache that gets worse Vomiting Drowsiness and progressive loss of consciousness Dizziness Confusion Unequal pupil size Slurred speech Loss of movement ( paralysis ) on the opposite side of the body from the head injury As more blood fills your brain or the narrow space between your brain and skull , other signs and symptoms may appear , such as : Lethargy Seizures Unconsciousness',\n",
       "  'muscle_weakness , stiff_neck , swelling_joints , movement_stiffness , painful_walking',\n",
       "  'disgorgement , upset_stomach , loss_of_appetite , abdominal_pain , passage_of_gases , internal_itching',\n",
       "  'iciness , spue , fatigue , weight_loss , cough , high_fever , breathlessness , sweating , loss_of_appetite , mild_fever , yellowing_of_eyes , swelled_lymph_nodes , malaise , phlegm , chest_pain , blood_in_sputum',\n",
       "  'weariness , coughing , high_fever , breathlessness , family_history , mucoid_sputum',\n",
       "  'spoil , rash , stomach_pain , burning_micturition , spotting__urination',\n",
       "  'disgorgement , shortness_of_breath , sweating , chest_pain',\n",
       "  \"unity 've embody feeling really run down lately . I 've been having a lot of trouble breathing and my nose is constantly running . I also have a lot of throat mucus and my lymph nodes are inflamed .\",\n",
       "  'roseola , high_fever , whip , red_sore_around_nose , yellow_crust_ooze',\n",
       "  '1 give been having a lot of pain in my joints and muscles . My neck is stiff and I have a hard time moving around . I also have a lot of pain when I try to steer my car .',\n",
       "  'barf , dyspepsia , loss_of_appetite , abdominal_pain , passage_of_gases , internal_itching',\n",
       "  'sour , dyspepsia , headache , blurred_and_distorted_vision , excessive_hunger , stiff_neck , irritability , visual_disturbances',\n",
       "  'subscribe and symptom of myofascial pain syndrome may include : Deep , aching pain in a muscle Pain that persists or worsens A tender knot in a muscle Difficulty sleeping due to pain',\n",
       "  'muscle_weakness , stiff_neck , swelling_joints , movement_stiffness , painful_walking',\n",
       "  'efflorescence , pus_filled_pimples , comedo , scurring',\n",
       "  'roseola , stomach_pain , burning_micturition , spotting__urination',\n",
       "  'scratch , efflorescence , fatigue , lethargy , high_fever , headache , loss_of_appetite , mild_fever , swelled_lymph_nodes , malaise , red_spots_over_body',\n",
       "  'outwear , yellowish_skin , loss_of_appetite , yellowing_of_eyes , family_history',\n",
       "  'cystic acne subject pop-up dialog box Close Cystic acne Cystic acne Cystic acne — the most severe form of acne — occurs when oil and dead skin cells build up deep within hair follicles . The resulting rupture within your skin may form boil-like inflammation . Cystic acne Open pop-up dialog box Cystic acne Open pop-up dialog box Open pop-up dialog box Close Cystic acne Cystic acne Cystic acne — the most severe form of acne — occurs when oil and dead skin cells build up deep within hair follicles . The resulting rupture within your skin may form boil-like inflammation . Close Cystic acne Cystic acne Cystic acne — the most severe form of acne — occurs when oil and dead skin cells build up deep within hair follicles . The resulting rupture within your skin may form boil-like inflammation . Close Cystic acne Cystic acne Cystic acne — the most severe form of acne — occurs when oil and dead skin cells build up deep within hair follicles . The resulting rupture within your skin may form boil-like inflammation . Close Close Close Cystic acne Cystic acne Cystic acne — the most severe form of acne — occurs when oil and dead skin cells build up deep within hair follicles . The resulting rupture within your skin may form boil-like inflammation . Cystic acne Cystic acne — the most severe form of acne — occurs when oil and dead skin cells build up deep within hair follicles . The resulting rupture within your skin may form boil-like inflammation . Cystic acne — the most severe form of acne — occurs when oil and dead skin cells build up deep within hair follicles . The resulting rupture within your skin may form boil-like inflammation . Acne signs vary depending on the severity of your condition : Whiteheads ( closed plugged pores ) Blackheads ( open plugged pores ) Small red , tender bumps ( papules ) Pimples ( pustules ) , which are papules with pus at their tips Large , solid , painful lumps under the skin ( nodules ) Painful , pus-filled lumps under the skin ( cystic lesions ) Acne usually appears on the face , forehead , chest , upper back and shoulders .',\n",
       "  'pall , yellowish_skin , sickness , yellowing_of_eyes , family_history',\n",
       "  'be_sick , anxiousness , sweating , headache , nausea , blurred_and_distorted_vision , excessive_hunger , drying_and_tingling_lips , slurred_speech , irritability , palpitations',\n",
       "  'The symptom of actinotherapy enteritis include diarrhea , nausea , vomiting and stomach cramps . Symptoms occur because of irritation of the intestines from radiation therapy for cancer . Symptoms usually go away several weeks after treatment ends . But sometimes they last longer . Radiation enteritis that goes on for longer can cause anemia and bowel obstruction . Risk factors The risk of radiation enteritis is higher in people undergoing radiation treatments for cancers in the belly and the pelvis . Radiation enteritis occurs because radiation therapy can cause irritation of the intestines . By Mayo Clinic Staff By Mayo Clinic Staff Radiation enteritis care at Mayo Clinic',\n",
       "  'fag_out , mood_swings , weight_loss , impatience , sweating , diarrhoea , fast_heart_rate , excessive_hunger , muscle_weakness , irritability , abnormal_menstruation',\n",
       "  'one sustain been having a high fever for the past few days . It is especially bad at night . I also have a mild headache and have been constipated and having diarrhea .',\n",
       "  'i take_in been having frequent headaches and blurred vision . I also have a stiff neck , anxiety , irritability , and visual disturbance . I have also been having stomach problems , including indigestion and acidity .',\n",
       "  'retch , yellowish_skin , abdominal_pain , swelling_of_stomach , distention_of_abdomen , fluid_overload',\n",
       "  'disgorge , sunken_eyes , desiccation , diarrhoea',\n",
       "  'itchiness , efflorescence , stomach_pain , burning_micturition , spotting__urination',\n",
       "  'joint_pain , spew , fatigue_duty , yellowish_skin , dark_urine , nausea , loss_of_appetite , abdominal_pain , yellowing_of_eyes',\n",
       "  'rub , efflorescence , fatigue , lethargy , high_fever , headache , loss_of_appetite , mild_fever , swelled_lymph_nodes , malaise , red_spots_over_body',\n",
       "  'barf , fag_out , anxiety , sweating , headache , nausea , blurred_and_distorted_vision , excessive_hunger , drying_and_tingling_lips , slurred_speech , irritability , palpitations',\n",
       "  'continuous_sneezing , thrill , gelidity , watering_from_eyes',\n",
       "  \"adenine haemangioma may be present at birth , but more often appears during the first several months of life . It starts as a flat red mark anywhere on the body , most often on the face , scalp , chest or back . Usually a child has only one mark . Some children may have more than one , particularly if they 're part of a multiple birth . During your child 's first year , the red mark grows rapidly into a spongy , rubbery-looking bump that sticks out from the skin . The hemangioma then enters a rest phase and , eventually , it begins to slowly disappear . Many hemangiomas disappear by age 5 , and most are gone by age 10 . The skin may be slightly discolored or raised after the hemangioma goes away .\",\n",
       "  'tingle , upchuck , fatigue , weight_loss , cough , high_fever , breathlessness , sweating , loss_of_appetite , mild_fever , yellowing_of_eyes , swelled_lymph_nodes , malaise , phlegm , chest_pain , blood_in_sputum',\n",
       "  \"ace 've embody having a headache , chest pain , dizziness , and trouble concentrating .\",\n",
       "  'allergy symptom , which depend on the substance involved , can affect your airways , sinuses and nasal passages , skin , and digestive system . Allergic reactions can range from mild to severe . In some severe cases , allergies can trigger a life-threatening reaction known as anaphylaxis . Hay fever , also called allergic rhinitis , can cause : Hay fever , Sneezing Itching of the nose , eyes or roof of the mouth Runny , stuffy nose Watery , red or swollen eyes ( conjunctivitis ) A food allergy can cause : A food allergy Tingling in the mouth Swelling of the lips , tongue , face or throat Hives Anaphylaxis An insect sting allergy can cause : An insect sting allergy A large area of swelling ( edema ) at the sting site Itching or hives all over the body Cough , chest tightness , wheezing or shortness of breath Anaphylaxis A drug allergy can cause : A drug allergy Hives Itchy skin Rash Facial swelling Wheezing Anaphylaxis Atopic dermatitis , an allergic skin condition also called eczema , can cause skin to : Atopic dermatitis , Itch Redden Flake or peel Anaphylaxis Some types of allergies , including allergies to foods and insect stings , can trigger a severe reaction known as anaphylaxis . A life-threatening medical emergency , anaphylaxis can cause you to go into shock . Signs and symptoms of anaphylaxis include : Loss of consciousness A drop in blood pressure Severe shortness of breath Skin rash Lightheadedness A rapid , weak pulse Nausea and vomiting',\n",
       "  'joint_pain , disgorgement , fag_out , dark_urine , nausea , loss_of_appetite , abdominal_pain , yellowing_of_eyes',\n",
       "  'regorge , sunken_eyes , diarrhea',\n",
       "  'scratch , upchuck , fatigue , weight_loss , high_fever , yellowish_skin , dark_urine , abdominal_pain',\n",
       "  'i possess been having a headache for the past few days . It feels like a sharp pain in my temples . I also have chest pain and dizziness .',\n",
       "  'continuous_sneezing , thrill , outwear , cough , high_fever , headache , swelled_lymph_nodes , malaise , phlegm , throat_irritation , redness_of_eyes , sinus_pressure , runny_nose , congestion , chest_pain , loss_of_smell , muscle_pain',\n",
       "  \"polarity and symptom of gastroparesis include : Vomiting Nausea Abdominal bloating Abdominal pain A feeling of fullness after eating just a few bites Vomiting undigested food eaten a few hours earlier Acid reflux Changes in blood sugar levels Lack of appetite Weight loss and malnutrition Many people with gastroparesis do n't have any noticeable signs and symptoms .\",\n",
       "  'gelidity , honk , fatigue , high_fever , headache , nausea , constipation , abdominal_pain , diarrhoea , toxic_look_ ( typhos ) , belly_pain',\n",
       "  \"many multitude with peripheral artery disease have mild or no symptoms . Some people have leg pain when walking ( claudication ) . Claudication symptoms include muscle pain or cramping in the legs or arms that begins during exercise and ends with rest . The pain is most commonly felt in the calf . The pain ranges from mild to severe . Severe leg pain may make it hard to walk or do other types of physical activity . Other peripheral artery disease symptoms may include : Coldness in the lower leg or foot , especially when compared with the other side Leg numbness or weakness No pulse or a weak pulse in the legs or feet Painful cramping in one or both of the hips , thighs or calf muscles after certain activities , such as walking or climbing stairs Shiny skin on the legs Skin color changes on the legs Slower growth of the toenails Sores on the toes , feet or legs that wo n't heal Pain when using the arms , such as aching and cramping when knitting , writing or doing other manual tasks Erectile dysfunction Hair loss or slower hair growth on the legs If peripheral artery disease gets worse , pain may occur during rest or when lying down . The pain may interrupt sleep . Hanging the legs over the edge of the bed or walking may temporarily relieve the pain .\",\n",
       "  'continuous_sneezing , trembling , watering_from_eyes',\n",
       "  'fag , yellowish_skin , sickness , loss_of_appetite , yellowing_of_eyes , family_history',\n",
       "  'The primary mansion of low sperm count is the inability to conceive a child . There might be no other obvious signs or symptoms . In some men , an underlying problem such as an inherited chromosomal abnormality , a hormonal imbalance , dilated testicular veins or a condition that blocks the passage of sperm may cause signs and symptoms . Low sperm count symptoms might include : Problems with sexual function — for example , low sex drive or difficulty maintaining an erection ( erectile dysfunction ) Pain , swelling or a lump in the testicle area Decreased facial or body hair or other signs of a chromosome or hormone abnormality',\n",
       "  'muscle_wasting , patches_in_throat , high_fever , extra_marital_contacts',\n",
       "  'tiredness , coughing , high_fever , breathlessness , family_history , mucoid_sputum',\n",
       "  'outwear , mood_swings , weight_loss , fidgetiness , sweating , diarrhoea , fast_heart_rate , excessive_hunger , muscle_weakness , irritability , abnormal_menstruation',\n",
       "  \"iodine 've exist feeling really sick for the past few days . I 've had a high fever , chills , and intense itching . I 've also been vomiting and sweating a lot . I have a headache and my muscles are sore .\",\n",
       "  'scratch , retch , yellowish_skin , nausea , loss_of_appetite , abdominal_pain , yellowing_of_eyes',\n",
       "  'My struggle exist really itchy , and it sometimes breaks out into a rash . I also have some weird areas of skin that are a different color than the rest of me , and sometimes I get little bumps that look like nodules .',\n",
       "  \"multiple scheme atrophy ( MSA ) affects many parts of your body . Symptoms usually start in adulthood , usually in the 50s or 60s . There are two types of MSA : parkinsonian and cerebellar . The type depends on the symptoms you have when you 're diagnosed . MSA Parkinsonian type This is the most common type of MSA . The signs and symptoms are similar to those of Parkinson 's disease , such as : MSA Stiff muscles Difficulty bending your arms and legs Slow movement ( bradykinesia ) Tremors can occur at rest or when moving your arms or legs Soft voice Problems with posture and balance Cerebellar type The main signs and symptoms are problems with muscle coordination ( ataxia ) , but others may include : Impaired movement and coordination , such as unsteady gait and loss of balance Slurred , slow or low-volume speech ( dysarthria ) Visual disturbances , such as blurred or double vision and difficulty focusing your eyes Difficulty swallowing ( dysphagia ) or chewing Changes in speech , such as slurred speech General signs and symptoms In addition , the primary sign of multiple system atrophy is autonomic failure , which may cause problems with body functions you ca n't control . This may include : Postural ( orthostatic ) hypotension Postural hypotension is a form of low blood pressure that makes you feel dizzy or lightheaded , or even faint , when you stand up from sitting or lying down . Not everyone with MSA has postural hypotension . MSA You can also develop dangerously high blood pressure levels while lying down ( supine hypertension ) . Urinary and bowel dysfunction Constipation Loss of bladder or bowel control ( incontinence ) Changes in sweat production Producing less sweat Heat intolerance due to reduced sweating Impaired body temperature control , often causing cold hands or feet Sleep disorders Agitated sleep due to `` acting out '' dreams Abnormal breathing at night or a harsh breathing sound ( stridor ) Sexual dysfunction Inability to achieve or maintain an erection ( impotence ) Loss of libido Cardiovascular problems Color changes in hands and feet caused by pooling of blood Psychiatric problems Difficulty controlling emotions , such as laughing or crying inappropriately\",\n",
       "  'throw_up , head_ache , nausea , spinning_movements , loss_of_balance , unsteadiness',\n",
       "  \"group_A popliteal arteria aneurysm may not cause any noticeable symptoms . The first symptom may be pain the lower leg that occurs with walking ( claudication ) . Other signs and symptoms of a popliteal artery aneurysm include : Knee pain Lower leg pain Swelling behind the knee Pulsing sensation behind the knee Causes An aneurysm is a ballooning in a weak spot in an artery wall . Many different things can cause the popliteal artery wall to become weak , including : Clogged arteries ( atherosclerosis ) High blood pressure Wear and tear of the popliteal artery due to repetitive use of the knee joint Weakening of the artery wall Risk factors Popliteal artery aneurysms are rare . They are more common in men than in women . Popiteal artery aneurysms often occur in men with abdominal aortic aneurysm ( AAA ) , a swelling of the wall of the body 's main artery ( aorta ) . Anyone diagnosed with popliteal artery aneurysm should be screened for AAA . AAA Other risk factors for popliteal artery aneurysm include : Increasing age High blood pressure ( hypertension ) Smoking Narrowing of a heart valve ( stenotic disease ) Having three or more aneurysms anywhere in the body Complications Complications of popliteal artery aneurysm include blood clots ( thrombosis ) and , rarely , rupture of the aneurysm . Thrombosis of a popliteal artery aneurysm can cause a severe lack of blood flow ( ischemia ) in the lower leg , which may result in loss of the limb . Sudden leg ischemia can cause the following signs and symptoms : A change in skin color in the affected area No pulse behind the knee Skin in the affected area feels cold Numbness in the leg Inability to move the foot The risk of popliteal artery aneurysm rupture is low . Prevention Smoking and high blood pressure ( hypertension ) increase the risk of blood vessel ( vascular ) problems that can lead to popliteal artery and other aneurysms . Following a heart-healthy lifestyle — such as not smoking , eating a nutritious diet and getting regular exercise — can help prevent heart disease and blood vessel damage . By Mayo Clinic Staff By Mayo Clinic Staff Popliteal artery aneurysm care at Mayo Clinic\",\n",
       "  \"iodine 've comprise having back pain , a cough , and weakness in my arms and legs . My neck hurts , and I 've been feeling dizzy and off-balance .\",\n",
       "  'sour , stomach_upset , headache , blurred_and_distorted_vision , excessive_hunger , stiff_neck , depression , irritability , visual_disturbances',\n",
       "  'spew , stomach_upset , loss_of_appetite , abdominal_pain , passage_of_gases , internal_itching',\n",
       "  'throw_up , cephalalgia , weakness_of_one_body_side , altered_sensorium',\n",
       "  'wear_upon , high_fever , SOB , family_history , mucoid_sputum',\n",
       "  'single let pain in my stomach after eating certain foods , like hot or acidic food . I also have loose stools sometimes . Bending over or lying down makes my stomach feel worse .',\n",
       "  'vomit_up , worry , nausea , spinning_movements , loss_of_balance , unsteadiness',\n",
       "  'stomach_pain , acidulousness , ulcers_on_tongue , cast , cough , chest_pain',\n",
       "  'rash , high_fever , bleb , red_sore_around_nose , yellow_crust_ooze',\n",
       "  'regurgitate , upset_stomach , loss_of_appetite , abdominal_pain , passage_of_gases , internal_itching',\n",
       "  'iciness , disgorge , fatigue , high_fever , headache , nausea , constipation , abdominal_pain , diarrhoea , toxic_look_ ( typhos ) , belly_pain',\n",
       "  'iodin possess a lot of pain in my neck and my muscles feel weak . My joints are swollen and I have a lot of stiffness when I walk . Walking is also very uncomfortable .',\n",
       "  \"preindication and symptom of lip cancer include : A flat or slightly raised whitish discoloration of the lip A sore on your lip that wo n't heal Tingling , pain or numbness of the lips or the skin around the mouth\",\n",
       "  \"atomic_number_53 've be having a lot of pain in my joints , especially in my neck and shoulders . It 's hard to move around and I 'm always feeling stiff . I 've also been having trouble sleeping because of the pain .\",\n",
       "  'joint_pain , neck_pain , knee_pain , hip_joint_pain , swelling_joints , painful_walking',\n",
       "  'joint_pain , neck_pain , knee_pain , swelling_joints , painful_walking',\n",
       "  'tire , coughing , high_fever , breathlessness , mucoid_sputum',\n",
       "  'scratch , roseola , fatigue , lethargy , headache , loss_of_appetite , mild_fever , swelled_lymph_nodes , malaise , red_spots_over_body',\n",
       "  'continuous_sneezing , shaky , thrill , watering_from_eyes',\n",
       "  'tire_out , yellowish_skin , sickness , loss_of_appetite , yellowing_of_eyes , family_history',\n",
       "  \"symptom of heights blood sugar or low blood sugar usually develop before a diabetic coma . High blood sugar ( hyperglycemia ) If your blood sugar level is too high , you may have : Increased thirst Frequent urination Blurred vision Tiredness or weakness Headache Nausea and vomiting Shortness of breath Stomach pain Fruity breath odor A very dry mouth Low blood sugar ( hypoglycemia ) If your blood sugar is too low , you may have : Shakiness Anxiety Tiredness or drowsiness Weakness Sweating Hunger A feeling of tingling on your skin Dizziness or lightheadedness Headache Difficulty speaking Blurry vision Confusion Loss of consciousness Some people , especially those who 've had diabetes for a long time , develop a condition known as hypoglycemia unawareness . That means they do n't have warning symptoms that signal a drop in blood sugar . If you have any symptoms of high or low blood sugar , test your blood sugar right away . Based on the test results , follow your diabetes treatment . If you do n't start to feel better quickly , or you start to feel worse , get medical care right away .\",\n",
       "  'rash , pus_filled_pimples , blackhead , scurring',\n",
       "  'wear_down , mood_swings , weight_loss , fidgetiness , sweating , diarrhoea , fast_heart_rate , excessive_hunger , muscle_weakness , irritability , abnormal_menstruation',\n",
       "  'burning_micturition , bladder_discomfort , continuous_feel_of_urine',\n",
       "  'muscle_wasting , patches_in_throat , high_fever , extra_marital_contacts',\n",
       "  'The symptom of cyclical vomiting syndrome often begin in the morning . Signs and symptoms include : Three or more recurrent episodes of vomiting that start around the same time and last for a similar length of time Varying intervals of generally normal health without nausea between episodes Intense nausea and sweating before an episode starts Other signs and symptoms during a vomiting episode may include : Abdominal pain Diarrhea Dizziness Sensitivity to light Headache Retching or gagging',\n",
       "  'spue , concern , nausea , spinning_movements , unsteadiness',\n",
       "  \"streptococci pharynx infection Open pop-up dialog box Close Strep throat infection Strep throat infection Strep throat usually causes throat pain and difficulty swallowing . This photo of strep throat shows inflammation and red spots , caused by the infection . Strep throat infection Open pop-up dialog box Strep throat infection Open pop-up dialog box Open pop-up dialog box Close Strep throat infection Strep throat infection Strep throat usually causes throat pain and difficulty swallowing . This photo of strep throat shows inflammation and red spots , caused by the infection . Close Strep throat infection Strep throat infection Strep throat usually causes throat pain and difficulty swallowing . This photo of strep throat shows inflammation and red spots , caused by the infection . Close Strep throat infection Strep throat infection Strep throat usually causes throat pain and difficulty swallowing . This photo of strep throat shows inflammation and red spots , caused by the infection . Close Close Close Strep throat infection Strep throat infection Strep throat usually causes throat pain and difficulty swallowing . This photo of strep throat shows inflammation and red spots , caused by the infection . Strep throat infection Strep throat usually causes throat pain and difficulty swallowing . This photo of strep throat shows inflammation and red spots , caused by the infection . Strep throat usually causes throat pain and difficulty swallowing . This photo of strep throat shows inflammation and red spots , caused by the infection . Signs and symptoms of strep throat can include : Throat pain that usually comes on quickly Painful swallowing Red and swollen tonsils , sometimes with white patches or streaks of pus Tiny red spots on the area at the back of the roof of the mouth ( soft or hard palate ) Swollen , tender lymph nodes in your neck Fever Headache Rash Nausea or vomiting , especially in younger children Body aches It 's possible for you or your child to have many of these signs and symptoms but not have strep throat . The cause of these signs and symptoms could be a viral infection or some other illness . That 's why your doctor generally tests specifically for strep throat . It 's also possible for you to be exposed to a person who carries strep but shows no symptoms .\",\n",
       "  'joint_pain , honk , pall , high_fever , yellowish_skin , dark_urine , nausea , loss_of_appetite , abdominal_pain , yellowing_of_eyes , acute_liver_failure , coma , stomach_bleeding',\n",
       "  'cast , SOB , chest_pain',\n",
       "  \"ane rich_person a fever and a rash on my face . The rash is red and painful , and it 's oozing yellow fluid .\",\n",
       "  'i get a rash that started out as small red sores near my nose and neck . The sores have gotten more painful and inflamed in recent days , and I have a high temperature .',\n",
       "  'burning_micturition , bladder_discomfort , foul_smell_of_urine , continuous_feel_of_urine',\n",
       "  \"single throw been having back pain for a while now . It 's been getting worse lately . I also have a cough that wo n't go away . I 've been feeling weak in my arms and legs . My neck hurts and I 've been feeling dizzy and off balance .\",\n",
       "  'be_sick , dyspepsia , loss_of_appetite , abdominal_pain , passage_of_gases , internal_itching',\n",
       "  'puke , vexation , weakness_of_one_body_side , altered_sensorium',\n",
       "  'itch , fatigue_duty , lethargy , yellowish_skin , dark_urine , loss_of_appetite , yellow_urine , yellowing_of_eyes , malaise , receiving_blood_transfusion , receiving_unsterile_injections',\n",
       "  'disgorge , cephalalgia , spinning_movements , loss_of_balance , unsteadiness',\n",
       "  'irregularity , pain_during_bowel_movements , pain_in_anal_region , bloody_stool , irritation_in_anus',\n",
       "  'puking , concern , nausea , spinning_movements , loss_of_balance , unsteadiness',\n",
       "  \"1 'm truly tired and weak . I can barely keep my eyes open . I have a fever and I do n't feel like eating anything . I think I 've lost my appetite .\",\n",
       "  'scratch , purge , yellowish_skin , nausea , loss_of_appetite , abdominal_pain , yellowing_of_eyes',\n",
       "  'scratch , efflorescence , nodal_skin_eruptions , dischromic__patches',\n",
       "  'deadening , pain_during_bowel_movements , bloody_stool , irritation_in_anus',\n",
       "  'impairment , pain_during_bowel_movements , pain_in_anal_region , bloody_stool , irritation_in_anus',\n",
       "  'angstrom youngster or adult with wheat allergy is likely to develop signs and symptoms within minutes to hours after eating something containing wheat . Wheat allergy signs and symptoms include : Swelling , itching or irritation of the mouth or throat Hives , itchy rash or swelling of the skin Nasal congestion Headache Difficulty breathing Cramps , nausea or vomiting Diarrhea Anaphylaxis Anaphylaxis For some people , wheat allergy may cause a life-threatening reaction called anaphylaxis . In addition to other signs and symptoms of wheat allergy , anaphylaxis may cause : Swelling or tightness of the throat Chest pain or tightness Severe difficulty breathing Trouble swallowing Pale , blue skin color Dizziness or fainting',\n",
       "  \"i have_got a stomach pain that keeps me up at night . I get tired after using the bathroom and I do n't want to eat . I worry all the time .\",\n",
       "  'shudder , weariness , cough , high_fever , breathlessness , sweating , malaise , phlegm , chest_pain , fast_heart_rate , rusty_sputum',\n",
       "  'ane birth a rash on my skin that is itchy and uncomfortable . It is also red and flaky . It has been spreading to other parts of my body , including my chest and abdomen . I am also facing skin peeling .',\n",
       "  'ane rich_person a sour acidic taste in my mouth . I have frequent belching and burping . I have a feeling of pressure or fullness in my upper abdomen that last for a few hours . I have a pain in my upper abdomen that is worse when I eat .',\n",
       "  'head_ache , chest_pain , lightheadedness , loss_of_balance , lack_of_concentration',\n",
       "  'single own been developing sores on my face and nose area for a few days now . I am not sure what is causing this . The sores on my face are swollen and tender to the touch , and I have a burning sensation and redness of the skin . I am also feeling a little bit feverish and have a headache .',\n",
       "  'puke , fag_out , yellowish_skin , dark_urine , nausea , loss_of_appetite , abdominal_pain , yellowing_of_eyes',\n",
       "  \"atomic_number_53 stimulate a rash all over my body . It 's really itchy and I feel really sick .\",\n",
       "  \"uncouth symptom of BPH include : BPH Frequent or urgent need to pee , also called urination . Peeing more often at night . Trouble starting to pee . Weak urine stream , or a stream that stops and starts . Dribbling at the end of urination . Not being able to fully empty the bladder . Less common symptoms include : Urinary tract infection . Not being able to pee . Blood in the urine . The symptoms of BPH tend to slowly get worse . But sometimes they stay the same or even improve over time . BPH The size of the prostate does n't always determine how serious the symptoms are . Some people with slightly enlarged prostates can have major symptoms . Others who have very enlarged prostates can have minor problems . And some people with enlarged prostates do n't have any symptoms at all . Other possible causes of urinary symptoms Some other health problems can lead to symptoms that are like those caused by enlarged prostate . These include : Urinary tract infection . Inflamed prostate . Narrowing of the urethra , the tube that carries urine out of the body . Scarring in the bladder neck due to past surgery . Bladder or kidney stones . Problems with nerves that control the bladder . Cancer of the prostate or bladder . Some medicines also may lead to symptoms that seem like those caused by BPH . These include : BPH Powerful pain-relieving medicines called opioids . Cold and allergy medicines . Older medicines for depression called tricyclic antidepressants .\",\n",
       "  'spoil , throw_up , fatigue , weight_loss , high_fever , yellowish_skin , dark_urine , abdominal_pain',\n",
       "  \"Dupuytren contracture engender unfit slowly , over years . The condition begins with a firm lump in the palm of the hand . This lump might be a little tender , but usually is n't painful . Over time , the lump can extend into a hard cord under the skin and up into the finger . This cord tightens and pulls the finger toward the palm , sometimes severely . Dupuytren contracture most commonly affects the two fingers farthest from the thumb . The condition often occurs in both hands .\",\n",
       "  'efflorescence , joint_pain , skin_peeling , silver_like_dusting , small_dents_in_nails',\n",
       "  'outwear , mood_swings , weight_loss , impatience , sweating , diarrhoea , fast_heart_rate , excessive_hunger , muscle_weakness , irritability , abnormal_menstruation',\n",
       "  \"unity 've follow feeling really sick lately . I 've been sneezing a lot and my nose is running . My throat is also really scratchy and I 've been feeling really tired .\",\n",
       "  'ace birth a rash all over my body that is very itchy . It is red and bumpy , and there are some darkened spots and a few tiny , nodular breakouts . It has been happening for several days and is getting worse .',\n",
       "  'chill , puke , fatigue , high_fever , headache , nausea , constipation , abdominal_pain , diarrhoea , toxic_look_ ( typhos ) , belly_pain',\n",
       "  'vomit , worry , weakness_of_one_body_side , altered_sensorium',\n",
       "  'chuck , cephalalgia , weakness_of_one_body_side , altered_sensorium',\n",
       "  'joint_pain , spew , yellowish_skin , dark_urine , sickness , loss_of_appetite , abdominal_pain , diarrhoea , mild_fever , yellowing_of_eyes , muscle_pain',\n",
       "  'stomach_pain , sourness , ulcers_on_tongue , coughing , chest_pain',\n",
       "  'back_pain , neck_pain , vertigo , loss_of_balance',\n",
       "  \"The severeness of foetal alcohol syndrome symptoms varies , with some children experiencing them to a far greater degree than others . Signs and symptoms of fetal alcohol syndrome may include any mix of physical defects , intellectual or cognitive disabilities , and problems functioning and coping with daily life . Physical defects Physical defects may include : Distinctive facial features , including small eyes , an exceptionally thin upper lip , a short , upturned nose , and a smooth skin surface between the nose and upper lip Deformities of joints , limbs and fingers Slow physical growth before and after birth Vision difficulties or hearing problems Small head circumference and brain size Heart defects and problems with kidneys and bones Brain and central nervous system problemsProblems with the brain and central nervous system may include : Poor coordination or balance Intellectual disability , learning disorders and delayed development Poor memory Trouble with attention and with processing information Difficulty with reasoning and problem-solving Difficulty identifying consequences of choices Poor judgment skills Jitteriness or hyperactivity Rapidly changing moods Social and behavioral issuesProblems in functioning , coping and interacting with others may include : Difficulty in school Trouble getting along with others Poor social skills Trouble adapting to change or switching from one task to another Problems with behavior and impulse control Poor concept of time Problems staying on task Difficulty planning or working toward a goal When to see a doctorIf you 're pregnant and ca n't stop drinking , ask your obstetrician , primary care doctor or mental health professional for help . Because early diagnosis may help reduce the risk of long-term problems for children with fetal alcohol syndrome , let your child 's doctor know if you drank alcohol while you were pregnant . Do n't wait for problems to arise before seeking help . If you have adopted a child or are providing foster care , you may not know if the biological mother drank alcohol while pregnant — and it may not initially occur to you that your child may have fetal alcohol syndrome . However , if your child has problems with learning and behavior , talk with his or her doctor so that the underlying cause might be identified . Request an appointment There is a problem with information submitted for this request . Review/update the information highlighted below and resubmit the form . From Mayo Clinic to your inbox Sign up for free , and stay up to date on research advancements , health tips and current health topics , like COVID-19 , plus expertise on managing health . Click here for an email preview . Email ErrorEmail field is required ErrorInclude a valid email address Learn more about Mayo Clinic ’ s use of data . To provide you with the most relevant and helpful information , and understand which information is beneficial , we may combine your email and website usage information with other information we have about you . If you are a Mayo Clinic patient , this could include protected health information . If we combine this information with your protected health information , we will treat all of that information as protected health information and will only use or disclose that information as set forth in our notice of privacy practices . You may opt-out of email communications at any time by clicking on the unsubscribe link in the e-mail . Subscribe ! Thank you for subscribing ! You 'll soon start receiving the latest Mayo Clinic health information you requested in your inbox . Distinctive facial features , including small eyes , an exceptionally thin upper lip , a short , upturned nose , and a smooth skin surface between the nose and upper lip Deformities of joints , limbs and fingers Slow physical growth before and after birth Vision difficulties or hearing problems Small head circumference and brain size Heart defects and problems with kidneys and bones Brain and central nervous system problemsProblems with the brain and central nervous system may include : Poor coordination or balance Intellectual disability , learning disorders and delayed development Poor memory Trouble with attention and with processing information Difficulty with reasoning and problem-solving Difficulty identifying consequences of choices Poor judgment skills Jitteriness or hyperactivity Rapidly changing moods Social and behavioral issuesProblems in functioning , coping and interacting with others may include : Difficulty in school Trouble getting along with others Poor social skills Trouble adapting to change or switching from one task to another Problems with behavior and impulse control Poor concept of time Problems staying on task Difficulty planning or working toward a goal When to see a doctorIf you 're pregnant and ca n't stop drinking , ask your obstetrician , primary care doctor or mental health professional for help . Because early diagnosis may help reduce the risk of long-term problems for children with fetal alcohol syndrome , let your child 's doctor know if you drank alcohol while you were pregnant . Do n't wait for problems to arise before seeking help . If you have adopted a child or are providing foster care , you may not know if the biological mother drank alcohol while pregnant — and it may not initially occur to you that your child may have fetal alcohol syndrome . However , if your child has problems with learning and behavior , talk with his or her doctor so that the underlying cause might be identified . Request an appointment There is a problem with information submitted for this request . Review/update the information highlighted below and resubmit the form . From Mayo Clinic to your inbox Sign up for free , and stay up to date on research advancements , health tips and current health topics , like COVID-19 , plus expertise on managing health . Click here for an email preview . Email ErrorEmail field is required ErrorInclude a valid email address Learn more about Mayo Clinic ’ s use of data . To provide you with the most relevant and helpful information , and understand which information is beneficial , we may combine your email and website usage information with other information we have about you . If you are a Mayo Clinic patient , this could include protected health information . If we combine this information with your protected health information , we will treat all of that information as protected health information and will only use or disclose that information as set forth in our notice of privacy practices . You may opt-out of email communications at any time by clicking on the unsubscribe link in the e-mail . Subscribe ! Thank you for subscribing ! Distinctive facial features , including small eyes , an exceptionally thin upper lip , a short , upturned nose , and a smooth skin surface between the nose and upper lip Deformities of joints , limbs and fingers Slow physical growth before and after birth Vision difficulties or hearing problems Small head circumference and brain size Heart defects and problems with kidneys and bones Brain and central nervous system problems Problems with the brain and central nervous system may include : Poor coordination or balance Intellectual disability , learning disorders and delayed development Poor memory Trouble with attention and with processing information Difficulty with reasoning and problem-solving Difficulty identifying consequences of choices Poor judgment skills Jitteriness or hyperactivity Rapidly changing moods Social and behavioral issues Problems in functioning , coping and interacting with others may include : Difficulty in school Trouble getting along with others Poor social skills Trouble adapting to change or switching from one task to another Problems with behavior and impulse control Poor concept of time Problems staying on task Difficulty planning or working toward a goal\",\n",
       "  'The about mutual pink eye symptoms include : Redness in one or both eyes . Itchiness in one or both eyes . A gritty feeling in one or both eyes . A discharge in one or both eyes that forms a crust during the night that may prevent your eye or eyes from opening in the morning . Tearing . Sensitivity to light , called photophobia .',\n",
       "  'back_pain , weakness_in_limbs , neck_pain , lightheadedness , loss_of_balance',\n",
       "  'continuous_sneezing , outwear , coughing , high_fever , headache , swelled_lymph_nodes , malaise , phlegm , throat_irritation , redness_of_eyes , sinus_pressure , runny_nose , congestion , chest_pain , loss_of_smell , muscle_pain',\n",
       "  \"Cardiogenic take_aback subscribe and symptoms include : Rapid breathing Severe shortness of breath Sudden , rapid heartbeat ( tachycardia ) Loss of consciousness Weak pulse Low blood pressure ( hypotension ) Sweating Pale skin Cold hands or feet Urinating less than normal or not at all Symptoms of a heart attack Because cardiogenic shock usually occurs in people who are having a severe heart attack , it 's important to know the signs and symptoms of a heart attack . These include : Pressure , fullness or a squeezing pain in the center of your chest that lasts for more than a few minutes Pain spreading to your shoulder , one or both of your arms , your back , or even your teeth and jaw Increasing episodes of chest pain Shortness of breath Sweating Lightheadedness or sudden dizziness Nausea and vomiting Seek medical attention quickly when having these signs or symptoms to decrease your risk of developing cardiogenic shock .\",\n",
       "  'acidulousness , upset_stomach , headache , blurred_and_distorted_vision , stiff_neck , depression , irritability , visual_disturbances',\n",
       "  'thrill , cast , fatigue , high_fever , headache , constipation , abdominal_pain , diarrhoea , toxic_look_ ( typhos ) , belly_pain',\n",
       "  \"iodin 'm possess trouble breathing and I 'm really uncomfortable . My throat is full of phlegm and I 'm sweating a lot . My heart is racing and my chest hurts . I 'm coughing up red mucus .\",\n",
       "  'scratch , regurgitation , yellowish_skin , nausea , loss_of_appetite , abdominal_pain , yellowing_of_eyes',\n",
       "  'pall , mood_swings , weight_loss , impatience , sweating , diarrhoea , fast_heart_rate , excessive_hunger , muscle_weakness , irritability , abnormal_menstruation',\n",
       "  'burning_micturition , bladder_discomfort , foul_smell_of_urine , continuous_feel_of_urine',\n",
       "  'joint_pain , puking , tire_out , yellowish_skin , dark_urine , nausea , loss_of_appetite , abdominal_pain , yellowing_of_eyes',\n",
       "  'muscle_wasting , patches_in_throat , high_fever , extra_marital_contacts',\n",
       "  'spue , shortness_of_breath , sweating , chest_pain',\n",
       "  'wear_out , coughing , high_fever , breathlessness , mucoid_sputum',\n",
       "  'sour , stomach_upset , headache , blurred_and_distorted_vision , excessive_hunger , stiff_neck , depression , irritability , visual_disturbances',\n",
       "  'efflorescence , pus_filled_pimples , comedo , scurring',\n",
       "  'sour , stomach_upset , headache , blurred_and_distorted_vision , excessive_hunger , stiff_neck , depression , irritability , visual_disturbances',\n",
       "  'itchiness , vomit , fatigue , weight_loss , high_fever , yellowish_skin , dark_urine , abdominal_pain',\n",
       "  \"iodin 've equal having a lot of pain in my neck and back , and my arms and legs are numb . I 've also been having problems with my balance and vertigo .\",\n",
       "  'burning_micturition , bladder_discomfort , foul_smell_of_urine , continuous_feel_of_urine',\n",
       "  'sour , upset_stomach , headache , blurred_and_distorted_vision , excessive_hunger , stiff_neck , depression , irritability , visual_disturbances',\n",
       "  'iciness , throw_up , fatigue , high_fever , headache , nausea , constipation , abdominal_pain , diarrhoea , toxic_look_ ( typhos )',\n",
       "  'puking , yellowish_skin , abdominal_pain , swelling_of_stomach , distention_of_abdomen , history_of_alcohol_consumption , fluid_overload',\n",
       "  'frisson , vomit_up , fatigue , high_fever , headache , nausea , constipation , diarrhoea , toxic_look_ ( typhos ) , belly_pain',\n",
       "  'presbyopia rise gradually . You may first notice these signs and symptoms after age 40 : A tendency to hold reading material farther away to make the letters clearer Blurred vision at normal reading distance Eyestrain or headaches after reading or doing close-up work You may notice these symptoms are worse if you are tired or are in an area with dim lighting .',\n",
       "  'shiver , honk , fatigue , high_fever , headache , constipation , abdominal_pain , diarrhoea , toxic_look_ ( typhos ) , belly_pain',\n",
       "  'sick , sweat , chest_pain',\n",
       "  'tire_out , weight_loss , uneasiness , lethargy , irregular_sugar_level , blurred_and_distorted_vision , obesity , excessive_hunger , increased_appetite , polyuria',\n",
       "  'puking , yellowish_skin , abdominal_pain , swelling_of_stomach , distention_of_abdomen , history_of_alcohol_consumption , fluid_overload',\n",
       "  'The position and rigourousness of knee pain may vary , depending on the cause of the problem . Signs and symptoms that sometimes accompany knee pain include : Swelling and stiffness Redness and warmth to the touch Weakness or instability Popping or crunching noises Inability to fully straighten the knee',\n",
       "  'wear_down , weight_gain , cold_hands_and_feets , mood_swings , languor , dizziness , puffy_face_and_eyes , enlarged_thyroid , brittle_nails , swollen_extremeties , depression , irritability , abnormal_menstruation',\n",
       "  'muscle_weakness , stiff_neck , swelling_joints , movement_stiffness , painful_walking',\n",
       "  'acidulousness , upset_stomach , headache , blurred_and_distorted_vision , excessive_hunger , stiff_neck , irritability , visual_disturbances',\n",
       "  'wear_out , yellowish_skin , sickness , loss_of_appetite , yellowing_of_eyes , family_history',\n",
       "  'itchiness , roseola , nodal_skin_eruptions , dischromic__patches',\n",
       "  'symptom of truncus arteriosus normally occur in the first few days of life . They include : Blue or gray skin due to low oxygen levels . Excessive sleepiness . Poor feeding . Poor growth . Pounding heartbeat . Fast breathing . Shortness of breath .',\n",
       "  'roseola , high_fever , bleb , red_sore_around_nose , yellow_crust_ooze',\n",
       "  'efflorescence , high_fever , vesicate , yellow_crust_ooze',\n",
       "  'rash , thrill , joint_pain , vomiting , fatigue , high_fever , headache , nausea , loss_of_appetite , pain_behind_the_eyes , back_pain , malaise , muscle_pain , red_spots_over_body',\n",
       "  \"iodine 've represent having back pain , a persistent cough , and weakness in my limbs . I also have problems with vertigo and losing my balance , and my neck hurts .\",\n",
       "  'regurgitation , sunken_eyes , desiccation , diarrhoea',\n",
       "  'continuous_sneezing , shudder , wear_down , cough , high_fever , headache , malaise , phlegm , throat_irritation , redness_of_eyes , sinus_pressure , runny_nose , congestion , chest_pain , loss_of_smell , muscle_pain',\n",
       "  'one suffer trouble focusing and remembering things . I feel like I have brain fog .',\n",
       "  'regurgitation , yellowish_skin , abdominal_pain , swelling_of_stomach , distention_of_abdomen , history_of_alcohol_consumption , fluid_overload',\n",
       "  'rub , rash , fatigue , lethargy , headache , loss_of_appetite , mild_fever , swelled_lymph_nodes , malaise , red_spots_over_body',\n",
       "  \"terms to the protective medulla covering the nerves results in progressive worsening of brain and nervous system functions , including : Loss of the ability to detect sensations , such as touch , pain , heat and sound Loss of intellectual , thinking and memory skills Loss of motor skills , such as walking , moving , speaking and swallowing Stiff , rigid muscles , poor muscle function and paralysis Loss of bladder and bowel function Gallbladder problems Blindness Hearing loss Seizures Emotional and behavioral problems , including unstable emotions and substance misuse Each form of metachromatic leukodystrophy occurs at a different age and can have different initial signs and symptoms and rates of progression : Late infantile form . This is the most common form of metachromatic leukodystrophy , starting around 2 years of age or younger . Progressive loss of speech and muscle function occurs rapidly . Children with this form often do not survive beyond childhood . Juvenile form . This is the second most common form and starts in children between 3 and 16 years of age . Early signs are behavior and cognitive problems and increasing difficulty in school . Loss of the ability to walk may occur . Although the juvenile form does n't progress as fast as the late infantile form , survival is generally less than 20 years after symptoms begin . Adult form . This form is less common and typically starts after age 16 . Signs progress slowly and may begin with behavior and psychiatric problems , drug and alcohol misuse , and issues with school and work . Psychotic symptoms such as delusions and hallucinations may occur . The course of this form varies , with periods of stable symptoms and periods of rapid decline in functioning . Adults may survive for several decades after initial symptoms .\",\n",
       "  'efflorescence , high_fever , bulla , red_sore_around_nose , yellow_crust_ooze',\n",
       "  'shudder , frisson , watering_from_eyes',\n",
       "  \"1 've exist experiencing neck pain , balance issues , and dizziness .\",\n",
       "  'deadening , pain_during_bowel_movements , pain_in_anal_region , bloody_stool , irritation_in_anus',\n",
       "  '1 have_got red spots all over my body , and they are itchy . Some of the spots are a different color than my skin . I also have some lumps or pimples on my skin .',\n",
       "  'cast , wear_out , anxiety , sweating , headache , nausea , blurred_and_distorted_vision , excessive_hunger , drying_and_tingling_lips , slurred_speech , irritability , palpitations',\n",
       "  'spoil , outwear , lethargy , yellowish_skin , loss_of_appetite , abdominal_pain , yellow_urine , yellowing_of_eyes , malaise , receiving_blood_transfusion , receiving_unsterile_injections',\n",
       "  'sign and symptom associated with galactorrhea include : Persistent or intermittent milky nipple discharge Nipple discharge involving multiple milk ducts Spontaneously leaked or manually expressed nipple discharge One or both breasts affected Absent or irregular menstrual periods Headaches or vision problems',\n",
       "  'be_sick , shortness_of_breath , sweating , chest_pain',\n",
       "  'scratch , efflorescence , nodal_skin_eruptions , dischromic__patches',\n",
       "  'fag , weight_gain , mood_swings , sluggishness , dizziness , puffy_face_and_eyes , enlarged_thyroid , brittle_nails , swollen_extremeties , depression , irritability , abnormal_menstruation',\n",
       "  'rash , iciness , joint_pain , vomiting , fatigue , high_fever , headache , nausea , loss_of_appetite , pain_behind_the_eyes , back_pain , malaise , muscle_pain , red_spots_over_body',\n",
       "  'joint_pain , emesis , fatigue_duty , yellowish_skin , dark_urine , nausea , loss_of_appetite , abdominal_pain , yellowing_of_eyes , acute_liver_failure , coma , stomach_bleeding',\n",
       "  'vexation , chest_pain , giddiness , loss_of_balance , lack_of_concentration',\n",
       "  \"ace 've cost having a hard time breathing . I 've been coughing a lot and I 'm coughing up a lot of thick , sticky mucus . I 've also been feeling really tired and weak .\",\n",
       "  \"one consume a terrible pain in my stomach and I feel really sick . I 'm also running a fever . I 'm worried that I might have typhoid .\",\n",
       "  'throw_up , loss_of_appetite , abdominal_pain , passage_of_gases , internal_itching',\n",
       "  'worry , weakness_of_one_body_side , altered_sensorium',\n",
       "  'quiver , vomit_up , fatigue , high_fever , headache , nausea , constipation , abdominal_pain , diarrhoea , toxic_look_ ( typhos ) , belly_pain',\n",
       "  'tire_out , phlegm , yellowish_skin , dark_urine , loss_of_appetite , abdominal_pain , yellow_urine , yellowing_of_eyes , malaise , receiving_blood_transfusion , receiving_unsterile_injections',\n",
       "  'patches_in_throat , high_fever , extra_marital_contacts',\n",
       "  'rash , joint_pain , skin_peeling , silver_like_dusting , small_dents_in_nails , inflammatory_nails',\n",
       "  'spoil , rash , stomach_pain , burning_micturition , spotting__urination',\n",
       "  'acidulousness , upset_stomach , headache , blurred_and_distorted_vision , excessive_hunger , stiff_neck , depression , irritability , visual_disturbances',\n",
       "  \"mittelschmerz infliction usually lasts a few minutes to a few hours , but it may continue for as long as a day or two . Pain from mittelschmerz may be : On one side of your lower abdomen Dull and achy , similar to menstrual cramps Sharp and sudden Accompanied by slight vaginal bleeding or discharge Rarely , severe Mittelschmerz pain occurs on the side of the ovary that 's releasing an egg ( ovulating ) . The pain may switch sides every other month , or you may feel pain on the same side for several months . Keep track of your menstrual cycle for several months and note when you feel lower abdominal pain . If it occurs midcycle and goes away without treatment , it 's most likely mittelschmerz .\",\n",
       "  \"kidney genus_Cancer usually does n't have signs or symptoms in its early stages . In time , signs and symptoms may develop , including : Blood in your urine , which may appear pink , red or cola colored Pain in your back or side that does n't go away Loss of appetite Unexplained weight loss Tiredness Fever\",\n",
       "  'stomach_pain , sourness , ulcers_on_tongue , cast , cough , chest_pain',\n",
       "  'tire , mood_swings , weight_loss , uneasiness , sweating , diarrhoea , excessive_hunger , muscle_weakness , irritability , abnormal_menstruation',\n",
       "  'joint_pain , regurgitation , yellowish_skin , dark_urine , sickness , loss_of_appetite , abdominal_pain , diarrhoea , mild_fever , yellowing_of_eyes , muscle_pain',\n",
       "  \"1 've comprise having back pain , a dry cough , and weakness in my arms and legs . I 've also been feeling dizzy and unsteady on my feet , and my neck hurts .\",\n",
       "  \"atomic_number_53 've exist feeling really sick lately . I have a fever , swollen lymph nodes , and a headache . I do n't feel like eating anything , and I 'm really weak and tired . It 's hard for me to concentrate on my daily life .\",\n",
       "  'efflorescence , iciness , joint_pain , vomiting , fatigue , high_fever , headache , nausea , loss_of_appetite , pain_behind_the_eyes , back_pain , malaise , muscle_pain , red_spots_over_body',\n",
       "  'burning_micturition , bladder_discomfort , continuous_feel_of_urine',\n",
       "  'roseola , pus_filled_pimples , comedo , scurring',\n",
       "  'nigh levelheaded people who are infected with CMV may experience no symptoms . Some experience minor symptoms . People who are more likely to experience signs and symptoms of CMV include : CMV CMV Newborns who became infected with CMV before they were born ( congenital CMV ) . Infants who become infected during birth or shortly afterward ( perinatal CMV ) . This group includes babies infected through breast milk . People who have weakened immune systems , such as those who have had an organ , bone marrow or stem cell transplant , or those who are infected with HIV . Babies Most babies who have congenital CMV appear healthy at birth . CMV A few babies who have congenital CMV who appear healthy at birth develop signs over time — sometimes not for months or years after birth . The most common of these late-occurring signs are hearing loss and developmental delay . A small number of babies may also develop vision problems . CMV The following signs and symptoms are more common in babies who have congenital CMV and who are sick at birth : CMV Premature birth Low birth weight Yellow skin and eyes ( jaundice ) Enlarged and poorly functioning liver Purple skin splotches or a rash or both Abnormally small head ( microencephaly ) Enlarged spleen Pneumonia Seizures People who have weakened immunity If your immune system is weakened , you might experience serious problems that affect your : Eyes Lungs Liver Esophagus Stomach Intestines Brain Healthy adults Most people who are infected with CMV who are otherwise healthy experience few if any symptoms . When first infected , some adults may have symptoms similar to infectious mononucleosis , including : CMV Fatigue Fever Sore throat Muscle aches',\n",
       "  'thrill , pall , high_fever , breathlessness , sweating , malaise , phlegm , chest_pain , fast_heart_rate , rusty_sputum',\n",
       "  'back_pain , neck_pain , vertigo , loss_of_balance',\n",
       "  'efflorescence , pus_filled_pimples , comedo , scurring',\n",
       "  'joint_pain , cast , yellowish_skin , dark_urine , sickness , loss_of_appetite , abdominal_pain , diarrhoea , mild_fever , yellowing_of_eyes , muscle_pain',\n",
       "  'chuck , loss_of_appetite , abdominal_pain , passage_of_gases , internal_itching',\n",
       "  'tiredness , weight_loss , uneasiness , lethargy , irregular_sugar_level , blurred_and_distorted_vision , obesity , excessive_hunger , increased_appetite , polyuria',\n",
       "  'thither equal different types of Gaucher disease , and signs and symptoms of disease vary widely , even within the same type . Type 1 is by far the most common . Siblings , even identical twins , with the disease can have different levels of severity . Some people who have Gaucher disease have only mild or no symptoms . Most people who have Gaucher disease have varying degrees of the following problems : Abdominal complaints . Because the liver and especially the spleen can enlarge dramatically , the abdomen can become painfully distended . Skeletal abnormalities . Gaucher disease can weaken bone , increasing the risk of painful fractures . It can also interfere with the blood supply to your bones , which can cause portions of the bone to die . Blood disorders . A decrease in healthy red blood cells ( anemia ) can result in severe fatigue . Gaucher disease also affects the cells responsible for clotting , which can cause easy bruising and nosebleeds . More rarely , Gaucher disease affects the brain , which can cause abnormal eye movements , muscle rigidity , swallowing difficulties and seizures . One rare subtype of Gaucher disease begins in infancy and typically results in death by 2 years of age .',\n",
       "  'stultification , pain_during_bowel_movements , pain_in_anal_region , bloody_stool , irritation_in_anus',\n",
       "  \"spinal_anaesthesia corduroy tumors can cause different signs and symptoms , especially as tumors grow . The tumors may affect your spinal cord or the nerve roots , blood vessels or bones of your spine . Signs and symptoms may include : Pain at the site of the tumor due to tumor growth Back pain , often radiating to other parts of your body Feeling less sensitive to pain , heat and cold Loss of bowel or bladder function Difficulty walking , sometimes leading to falls Back pain that 's worse at night Loss of sensation or muscle weakness , especially in your arms or legs Muscle weakness , which may be mild or severe , in different parts of your body Back pain is a common early symptom of spinal tumors . Pain may also spread beyond your back to your hips , legs , feet or arms and may worsen over time — even with treatment . Spinal tumors progress at different rates depending on the type of tumor .\",\n",
       "  'spue , shortness_of_breath , sweating , chest_pain',\n",
       "  \"unity 've cost feeling really itchy and sick to my stomach . I 've lost a lot of weight and I 'm exhausted . My skin is yellow and I have a fever . My urine is dark and I 've been having stomach pain .\",\n",
       "  \"IN the United_States , because of newborn screening , cystic fibrosis can be diagnosed within the first month of life , before symptoms develop . But people born before newborn screening became available may not be diagnosed until the signs and symptoms of CF show up . CF Cystic fibrosis signs and symptoms vary , depending on the severity of the disease . Even in the same person , symptoms may worsen or improve as time passes . Some people may not experience symptoms until their teenage years or adulthood . People who are not diagnosed until adulthood usually have milder disease and are more likely to have atypical symptoms , such as recurring bouts of an inflamed pancreas ( pancreatitis ) , infertility and recurring pneumonia . People with cystic fibrosis have a higher than normal level of salt in their sweat . Parents often can taste the salt when they kiss their children . Most of the other signs and symptoms of CF affect the respiratory system and digestive system . CF Respiratory signs and symptoms The thick and sticky mucus associated with cystic fibrosis clogs the tubes that carry air in and out of your lungs . This can cause signs and symptoms such as : A persistent cough that produces thick mucus ( sputum ) Wheezing Exercise intolerance Repeated lung infections Inflamed nasal passages or a stuffy nose Recurrent sinusitis Digestive signs and symptoms The thick mucus can also block tubes that carry digestive enzymes from your pancreas to your small intestine . Without these digestive enzymes , your intestines are n't able to completely absorb the nutrients in the food you eat . The result is often : Foul-smelling , greasy stools Poor weight gain and growth Intestinal blockage , particularly in newborns ( meconium ileus ) Chronic or severe constipation , which may include frequent straining while trying to pass stool , eventually causing part of the rectum to protrude outside the anus ( rectal prolapse )\",\n",
       "  'cast , sunken_eyes , evaporation , diarrhoea',\n",
       "  'muscle_wasting , patches_in_throat , high_fever , extra_marital_contacts',\n",
       "  'deadening , pain_during_bowel_movements , pain_in_anal_region , bloody_stool , irritation_in_anus',\n",
       "  'bless and symptom caused by brain metastases can vary based on the location , size and rate of growth of the metastatic tumors . Signs and symptoms of brain metastases include : Headache , sometimes with vomiting or nausea Mental changes , such as increasing memory problems Seizures Weakness or numbness on one side of the body',\n",
       "  'efflorescence , high_fever , bulla , red_sore_around_nose , yellow_crust_ooze',\n",
       "  'wear_upon , mood_swings , weight_loss , fidget , sweating , diarrhoea , fast_heart_rate , excessive_hunger , muscle_weakness , irritability , abnormal_menstruation',\n",
       "  'back_pain , weakness_in_limbs , neck_pain , giddiness , loss_of_balance',\n",
       "  'wear_upon , hamper , bruising , obesity , swollen_legs , swollen_blood_vessels , prominent_veins_on_calf',\n",
       "  'coarse symptom of esophagitis include : Difficulty swallowing . Painful swallowing . Swallowed food becoming stuck in the esophagus , also known as food impaction . Chest pain , particularly behind the breastbone , that occurs with eating . Heartburn . Acid regurgitation . In infants and young children , particularly those too young to explain their discomfort or pain , symptoms of esophagitis may include : Feeding difficulties , such as irritability , arching of the back and not wanting to eat . Failure to thrive . Chest or belly pain in older children .',\n",
       "  'vomit_up , head_ache , nausea , spinning_movements , loss_of_balance , unsteadiness',\n",
       "  'continuous_sneezing , shiver , tiredness , cough , headache , swelled_lymph_nodes , malaise , phlegm , throat_irritation , redness_of_eyes , sinus_pressure , runny_nose , congestion , chest_pain , loss_of_smell , muscle_pain',\n",
       "  \"more_or_less the_great_unwashed with ADHD have fewer symptoms as they age , but some adults continue to have major symptoms that interfere with daily functioning . In adults , the main features of ADHD may include difficulty paying attention , impulsiveness and restlessness . Symptoms can range from mild to severe . ADHD ADHD Many adults with ADHD are n't aware they have it — they just know that everyday tasks can be a challenge . Adults with ADHD may find it difficult to focus and prioritize , leading to missed deadlines and forgotten meetings or social plans . The inability to control impulses can range from impatience waiting in line or driving in traffic to mood swings and outbursts of anger . ADHD ADHD Adult ADHD symptoms may include : ADHD Impulsiveness Disorganization and problems prioritizing Poor time management skills Problems focusing on a task Trouble multitasking Excessive activity or restlessness Poor planning Low frustration tolerance Frequent mood swings Problems following through and completing tasks Hot temper Trouble coping with stress What 's typical behavior and what 's ADHD ? Almost everyone has some symptoms similar to ADHD at some point in their lives . If your difficulties are recent or occurred only occasionally in the past , you probably do n't have ADHD . ADHD is diagnosed only when symptoms are severe enough to cause ongoing problems in more than one area of your life . These persistent and disruptive symptoms can be traced back to early childhood . ADHD ADHD ADHD Diagnosis of ADHD in adults can be difficult because certain ADHD symptoms are similar to those caused by other conditions , such as anxiety or mood disorders . And many adults with ADHD also have at least one other mental health condition , such as depression or anxiety .\",\n",
       "  'one accept a burning sensation in my chest and throat , and I often feel like I have to clear my throat . I also have bad breath and a bad taste in my mouth .',\n",
       "  'joint_pain , disgorgement , yellowish_skin , dark_urine , sickness , loss_of_appetite , abdominal_pain , diarrhoea , mild_fever , yellowing_of_eyes , muscle_pain',\n",
       "  \"unity 'm non interested in sex anymore , and it 's hard for me to get aroused . I also have brain fog and feel confused a lot .\",\n",
       "  'thrill , disgorge , high_fever , headache , nausea , diarrhoea , muscle_pain',\n",
       "  'spoil , regurgitation , weight_loss , high_fever , yellowish_skin , dark_urine , abdominal_pain',\n",
       "  'frisson , chuck , fatigue , high_fever , headache , nausea , constipation , abdominal_pain , toxic_look_ ( typhos ) , belly_pain',\n",
       "  \"atomic_number_53 've live having headaches and chest pain for a few days now , and today I also started to feel dizzy and lightheaded .\",\n",
       "  'fag_out , weight_gain , cold_hands_and_feets , mood_swings , flatness , dizziness , puffy_face_and_eyes , enlarged_thyroid , brittle_nails , swollen_extremeties , depression , irritability , abnormal_menstruation',\n",
       "  'joint_pain , upchuck , wear_down , high_fever , yellowish_skin , dark_urine , nausea , loss_of_appetite , abdominal_pain , yellowing_of_eyes , acute_liver_failure , coma , stomach_bleeding',\n",
       "  'During adenine spicy flash , you might have : A sudden feeling of warmth spreading through your chest , neck and face A flushed appearance with red , blotchy skin Rapid heartbeat Perspiration , mostly on your upper body A chilled feeling as the hot flash lets up Feelings of anxiety The frequency and intensity of hot flashes vary among women . A single episode may last a minute or two — or as long as 5 minutes . Hot flashes may be mild or so intense that they disrupt daily activities . They can happen at any time of day or night . Nighttime hot flashes ( night sweats ) may wake you from sleep and can cause long-term sleep disruptions . How often hot flashes occur varies among women , but most women who report having hot flashes experience them daily . On average , hot flash symptoms persist for more than seven years . Some women have them for more than 10 years .',\n",
       "  'wear , coughing , high_fever , breathlessness , family_history , mucoid_sputum',\n",
       "  'stomach_pain , sour , ulcers_on_tongue , coughing , chest_pain',\n",
       "  'thrill , regurgitate , high_fever , headache , nausea , diarrhoea , muscle_pain',\n",
       "  'sour , stomach_upset , headache , blurred_and_distorted_vision , excessive_hunger , stiff_neck , irritability , visual_disturbances',\n",
       "  'rash , joint_pain , skin_peeling , silver_like_dusting , small_dents_in_nails , inflammatory_nails',\n",
       "  'cast , sunken_eyes , evaporation , diarrhoea',\n",
       "  'atomic_number_53 stimulate been experiencing itching on my skin , which often leads to a rash . I also have some strange patches of skin that are a different color than the rest of my skin , and I frequently get little lumps that look like nodules .',\n",
       "  'joint_pain , regurgitation , yellowish_skin , dark_urine , sickness , loss_of_appetite , diarrhoea , mild_fever , yellowing_of_eyes , muscle_pain',\n",
       "  'joint_pain , be_sick , dark_urine , sickness , loss_of_appetite , abdominal_pain , diarrhoea , mild_fever , yellowing_of_eyes , muscle_pain',\n",
       "  'sourness , stomach_upset , headache , blurred_and_distorted_vision , excessive_hunger , stiff_neck , depression , irritability , visual_disturbances',\n",
       "  'tire , cramp , bruising , swollen_legs , swollen_blood_vessels , prominent_veins_on_calf',\n",
       "  'spoil , retch , yellowish_skin , nausea , loss_of_appetite , abdominal_pain , yellowing_of_eyes',\n",
       "  \"i 've represent having trouble seeing things clearly , and it seems to be getting worse . I 'm also always tired and worn out , and I sometimes get dizzy and lightheaded .\",\n",
       "  'The independent ratify of placenta previa is bright red vaginal bleeding , usually without pain , after 20 weeks of pregnancy . Sometimes , spotting happens before an event with more blood loss . The bleeding may occur with prelabor contractions of the uterus that cause pain . The bleeding may also be triggered by sex or during a medical exam . For some women , bleeding may not occur until labor . Often there is no clear event that leads to bleeding .',\n",
       "  'iodin have_got a feeling of tremors and muscle twitching . I have decreased sense of smell or taste and I feel fatigued . Sometimes I have a feeling of rapid hearbeat or palipatations . I also have a feeling of thirst and I urinate frequently .',\n",
       "  'muscle_weakness , stiff_neck , swelling_joints , movement_stiffness , painful_walking',\n",
       "  'regurgitation , yellowish_skin , abdominal_pain , swelling_of_stomach , distention_of_abdomen , history_of_alcohol_consumption , fluid_overload',\n",
       "  'plantar verruca signs and symptoms include : A small , rough growth on the bottom of your foot , usually at the base of the toes or on the ball or heel On brown and Black skin , the growth may be lighter than unaffected skin Hard , thickened skin ( callus ) over a spot on the skin , where a wart has grown inward Black pinpoints , which are small clotted blood vessels commonly called wart seeds A cluster of growths on the sole of the foot ( mosaic warts ) A growth that interrupts the normal lines and ridges in the skin of your foot Pain or tenderness when walking or standing',\n",
       "  'shudder , wear_out , cough , high_fever , breathlessness , malaise , phlegm , chest_pain , fast_heart_rate , rusty_sputum',\n",
       "  \"The sign and symptom of interstitial cystitis vary from person to person . If you have interstitial cystitis , your symptoms may also vary over time , periodically flaring in response to common triggers , such as menstruation , sitting for a long time , stress , exercise and sexual activity . Interstitial cystitis signs and symptoms include : Pain in your pelvis or between the vagina and anus in women Pain between the scrotum and anus ( perineum ) in men Chronic pelvic pain A persistent , urgent need to urinate Frequent urination , often of small amounts , throughout the day and night ( up to 60 times a day ) Pain or discomfort while the bladder fills and relief after urinating Pain during sex Symptoms severity is different for everyone , and some people may experience symptom-free periods . Although signs and symptoms of interstitial cystitis may resemble those of a chronic urinary tract infection , there 's usually no infection . However , symptoms may worsen if a person with interstitial cystitis gets a urinary tract infection .\",\n",
       "  'tire_out , coughing , high_fever , breathlessness , family_history , mucoid_sputum',\n",
       "  'pall , regurgitation , fatigue , high_fever , headache , nausea , constipation , abdominal_pain , diarrhoea , toxic_look_ ( typhos ) , belly_pain',\n",
       "  'disgorgement , drying_up , diarrhoea',\n",
       "  'stomach_pain , sour , ulcers_on_tongue , be_sick , cough , chest_pain',\n",
       "  'spoil , efflorescence , dischromic__patches',\n",
       "  'rash , pus_filled_pimples , comedo , scurring',\n",
       "  \"ane 've take_in a high fever , especially at night . It 's been really bad . I 've also had a headache , constipation , and diarrhea . I do n't want to eat anything .\",\n",
       "  'patches_in_throat , high_fever , extra_marital_contacts',\n",
       "  'muscle_wasting , patches_in_throat , high_fever , extra_marital_contacts',\n",
       "  \"unity spirit sick to my stomach , lightheaded , and dizzy . My throat is swollen and I ca n't breathe well . I sometimes feel pain in my chest and nausea at night .\",\n",
       "  'high_fever , bleb , red_sore_around_nose , yellow_crust_ooze',\n",
       "  'roseola , pus_filled_pimples , blackhead , scurring',\n",
       "  'purge , head_ache , weakness_of_one_body_side , altered_sensorium',\n",
       "  'joint_pain , retch , fag_out , high_fever , yellowish_skin , dark_urine , nausea , loss_of_appetite , abdominal_pain , yellowing_of_eyes , acute_liver_failure , coma , stomach_bleeding',\n",
       "  \"inwards IT early stages , carotid artery disease often does n't produce any signs or symptoms . The condition may go unnoticed until it 's serious enough to deprive your brain of blood , causing a stroke or TIA . Signs and symptoms of a stroke or TIA include : Sudden numbness or weakness in the face or limbs , often on only one side of the body Sudden trouble speaking and understanding Sudden trouble seeing in one or both eyes Sudden dizziness or loss of balance Sudden , severe headache with no known cause\",\n",
       "  'tire , weight_loss , impatience , lethargy , irregular_sugar_level , blurred_and_distorted_vision , obesity , excessive_hunger , increased_appetite , polyuria',\n",
       "  'fag , weight_loss , queasiness , lethargy , irregular_sugar_level , blurred_and_distorted_vision , obesity , excessive_hunger , increased_appetite , polyuria',\n",
       "  \"single ingest a stuffy nose and nasal congestion . I sometimes have chest discomfort during the night . I ca n't smell or taste anything .\",\n",
       "  'muscle_weakness , stiff_neck , swelling_joints , movement_stiffness , painful_walking',\n",
       "  'single throw a gnawing hunger and apetite . Sometimes I get abdominal cramps and spasms . There is bloating and gas after eating which causes me a great deal of uneasiness',\n",
       "  'worry , chest_pain , lightheadedness , loss_of_balance',\n",
       "  'disgorge , worry , nausea , spinning_movements , loss_of_balance , unsteadiness',\n",
       "  'tire_out , weight_gain , cold_hands_and_feets , mood_swings , inanition , puffy_face_and_eyes , enlarged_thyroid , brittle_nails , swollen_extremeties , depression , irritability , abnormal_menstruation',\n",
       "  'itchiness , efflorescence , stomach_pain , burning_micturition',\n",
       "  \"holdover symptom typically begin when your blood alcohol content drops significantly and is at or near zero . They 're usually in full effect the morning after a night of heavy drinking . Depending on what and how much you drank , you may notice : Fatigue and weakness Excessive thirst and dry mouth Headaches and muscle aches Nausea , vomiting or stomach pain Poor or decreased sleep Increased sensitivity to light and sound Dizziness or a sense of the room spinning Shakiness Decreased ability to concentrate Mood disturbances , such as depression , anxiety and irritability Rapid heartbeat\",\n",
       "  'continuous_sneezing , shiver , wear , cough , high_fever , headache , swelled_lymph_nodes , malaise , phlegm , throat_irritation , redness_of_eyes , sinus_pressure , runny_nose , congestion , chest_pain , loss_of_smell , muscle_pain',\n",
       "  \"salubrious gumwood are firm and fit snugly around teeth . The color of healthy gums can vary . They may range from light pink in some people to dark pink and brown in others . Symptoms of periodontitis can include : Swollen or puffy gums . Bright red , dark red or dark purple gums . Gums that feel tender when touched . Gums that bleed easily . A toothbrush that looks pink after brushing your teeth . Spitting out blood when brushing or flossing your teeth . Bad breath that wo n't go away . Pus between your teeth and gums . Loose teeth or loss of teeth . Painful chewing . New spaces that develop between your teeth that look like black triangles . Gums that pull away from your teeth , making your teeth look longer than usual , called receding gums . A change in the way your teeth fit together when you bite . When to see a dentist Follow your dentist 's recommended schedule for regular checkups . If you notice any symptoms of periodontitis , make an appointment with your dentist as soon as possible . The sooner you get care , the better your chances of reversing damage from periodontitis .\",\n",
       "  'disgorgement , weakness_of_one_body_side , altered_sensorium',\n",
       "  'stomach_pain , sour , ulcers_on_tongue , regurgitate , cough , chest_pain',\n",
       "  'honk , vexation , nausea , spinning_movements , loss_of_balance , unsteadiness',\n",
       "  'gelidity , retch , fatigue , high_fever , headache , nausea , constipation , abdominal_pain , diarrhoea , toxic_look_ ( typhos ) , belly_pain',\n",
       "  'joint_pain , vomit_up , pall , high_fever , yellowish_skin , dark_urine , nausea , loss_of_appetite , abdominal_pain , yellowing_of_eyes , acute_liver_failure , coma , stomach_bleeding',\n",
       "  'joint_pain , regurgitate , yellowish_skin , dark_urine , sickness , loss_of_appetite , abdominal_pain , mild_fever , yellowing_of_eyes , muscle_pain',\n",
       "  'wear_upon , yellowish_skin , sickness , loss_of_appetite , yellowing_of_eyes , family_history',\n",
       "  'spoil , spue , yellowish_skin , nausea , loss_of_appetite , abdominal_pain , yellowing_of_eyes',\n",
       "  'unity accept a fever and chills , and my whole body is aching . I also have a loss of appetite and some red spots on my back and neck .',\n",
       "  'puking , vexation , nausea , spinning_movements , loss_of_balance , unsteadiness',\n",
       "  'stomach_pain , acidulousness , ulcers_on_tongue , regorge , cough , chest_pain',\n",
       "  '1 ingest varicose veins in my legs . They are swollen and painful .',\n",
       "  \"i 've exist sneezing a lot , and my eyes are constantly watering . My nose is stuffy , and it 's hard to breathe . I 'm tired all the time , and I 've been coughing up a lot of phlegm . My lymph nodes are also swollen .\",\n",
       "  'itch , inanition , yellowish_skin , dark_urine , loss_of_appetite , abdominal_pain , yellow_urine , yellowing_of_eyes , malaise , receiving_blood_transfusion , receiving_unsterile_injections',\n",
       "  'scratch , throw_up , fatigue , weight_loss , high_fever , yellowish_skin , dark_urine',\n",
       "  'fatigue_duty , mood_swings , uneasiness , sweating , diarrhoea , fast_heart_rate , excessive_hunger , muscle_weakness , irritability , abnormal_menstruation',\n",
       "  'muscle_weakness , stiff_neck , swelling_joints , movement_stiffness , painful_walking',\n",
       "  \"i 've make_up feeling really sick lately . I 've been throwing up and I 'm itchy all over . I 've also lost a lot of weight and I 'm really exhausted . My skin has turned yellow and I have a fever . My stomach has been hurting too .\",\n",
       "  'spoil , roseola , nodal_skin_eruptions , dischromic__patches',\n",
       "  'itch , efflorescence , fatigue , lethargy , high_fever , loss_of_appetite , mild_fever , swelled_lymph_nodes , malaise , red_spots_over_body',\n",
       "  'rub , cast , yellowish_skin , nausea , loss_of_appetite , abdominal_pain , yellowing_of_eyes',\n",
       "  'iodin wealthy_person a rash on my skin that is itchy and uncomfortable . There are also some odd patches of skin that are a different color . I also have a few pimples on my skin that resemble little knots .',\n",
       "  'iodin take been having a lot of pain in my neck and back . I also have a dry cough and I feel weak and dizzy .',\n",
       "  'tire_out , hamper , bruising , obesity , swollen_legs , swollen_blood_vessels , prominent_veins_on_calf',\n",
       "  \"1 've represent feeling really cold and shivery . My back and eyes hurt a lot . I 've also noticed some red spots on my back and neck .\",\n",
       "  'throw_up , stomach_upset , loss_of_appetite , abdominal_pain , internal_itching',\n",
       "  'one stimulate been having bloody stools for a while now , and I am also feeling quite weak . I think I may have anemia .',\n",
       "  'jade , mood_swings , weight_loss , fidgetiness , diarrhoea , fast_heart_rate , excessive_hunger , muscle_weakness , irritability , abnormal_menstruation',\n",
       "  \"iodine 've live feeling very sick . I have a high fever , chills , and severe itching . I 've also been sweating a lot and have a headache . I 've also been feeling nauseous and have muscle aches .\",\n",
       "  'joint_pain , regurgitation , fatigue_duty , dark_urine , nausea , loss_of_appetite , abdominal_pain , yellowing_of_eyes',\n",
       "  'stomach_pain , acidulousness , ulcers_on_tongue , upchuck , cough , chest_pain',\n",
       "  'joint_pain , be_sick , wear_down , yellowish_skin , dark_urine , nausea , loss_of_appetite , abdominal_pain , yellowing_of_eyes',\n",
       "  'muscle_wasting , patches_in_throat , high_fever , extra_marital_contacts',\n",
       "  'The number_one sign_of_the_zodiac of the common cold in a baby are often : A congested or runny nose Nasal discharge that may be clear at first but might thicken and turn yellow or green Other signs and symptoms of a common cold in a baby may include : Fever Sneezing Coughing Decreased appetite Irritability Difficulty sleeping Trouble nursing or taking a bottle due to nasal congestion',\n",
       "  'shudder , chuck , high_fever , sweating , headache , nausea , muscle_pain',\n",
       "  'fatigue_duty , coughing , high_fever , breathlessness , family_history , mucoid_sputum',\n",
       "  'scratch , wear_out , lethargy , yellowish_skin , dark_urine , loss_of_appetite , abdominal_pain , yellow_urine , yellowing_of_eyes , malaise , receiving_blood_transfusion , receiving_unsterile_injections',\n",
       "  'irregularity , pain_during_bowel_movements , pain_in_anal_region , bloody_stool , irritation_in_anus',\n",
       "  \"i experience breathing problems , especially when I 'm outside . I 'm suddenly flushed and perspiring . I get yeast infections and urinary tract infections a lot .\",\n",
       "  'quiver , tire , cough , high_fever , breathlessness , sweating , malaise , phlegm , chest_pain , fast_heart_rate , rusty_sputum',\n",
       "  'signalize and symptom of mastitis can appear suddenly . They may include : Breast tenderness or warmth to the touch Breast swelling Thickening of breast tissue , or a breast lump Pain or a burning sensation continuously or while breast-feeding Skin redness , often in a wedge-shaped pattern Generally feeling ill Fever of 101 F ( 38.3 C ) or greater',\n",
       "  'rash , joint_pain , skin_peeling , silver_like_dusting , small_dents_in_nails , inflammatory_nails',\n",
       "  'cool_down , wear_down , high_fever , breathlessness , sweating , malaise , phlegm , chest_pain , fast_heart_rate , rusty_sputum',\n",
       "  'gelidity , regurgitation , fatigue , high_fever , headache , nausea , constipation , abdominal_pain , diarrhoea , toxic_look_ ( typhos ) , belly_pain',\n",
       "  'shivering , chuck , fatigue , weight_loss , cough , high_fever , breathlessness , sweating , loss_of_appetite , mild_fever , yellowing_of_eyes , swelled_lymph_nodes , malaise , phlegm , chest_pain , blood_in_sputum',\n",
       "  'joint_pain , neck_pain , knee_pain , hip_joint_pain , swelling_joints',\n",
       "  \"immobilize shoulder_joint typically develops slowly in three stages . Freezing stage . Any movement of the shoulder causes pain , and the shoulder 's ability to move becomes limited . This stage lasts from 2 to 9 months . Frozen stage . Pain might lessen during this stage . However , the shoulder becomes stiffer . Using it becomes more difficult . This stage lasts from 4 to 12 months . Thawing stage . The shoulder 's ability to move begins to improve . This stage lasts from 5 to 24 months . For some people , the pain worsens at night , sometimes disrupting sleep .\",\n",
       "  'star_sign and symptom of Ewing sarcoma include : Pain , swelling or tenderness near the affected area Bone pain Unexplained tiredness Fever with no known cause Losing weight without trying',\n",
       "  'spue , loss_of_appetite , abdominal_pain , passage_of_gases , internal_itching',\n",
       "  'wear , hamper , bruising , obesity , swollen_legs , swollen_blood_vessels , prominent_veins_on_calf',\n",
       "  'muscle_wasting , patches_in_throat , high_fever , extra_marital_contacts',\n",
       "  'cat , tire , anxiety , sweating , nausea , blurred_and_distorted_vision , excessive_hunger , drying_and_tingling_lips , slurred_speech , irritability , palpitations',\n",
       "  'itch , roseola , stomach_pain , burning_micturition',\n",
       "  \"i 've be having a headache all day , and I feel sick to my stomach . I 'm also having trouble concentrating and focusing on my work .\",\n",
       "  'weary , weight_loss , queasiness , lethargy , irregular_sugar_level , blurred_and_distorted_vision , obesity , increased_appetite , polyuria',\n",
       "  'joint_pain , disgorge , yellowish_skin , sickness , loss_of_appetite , abdominal_pain , diarrhoea , mild_fever , yellowing_of_eyes , muscle_pain',\n",
       "  'itchiness , tiredness , lethargy , yellowish_skin , dark_urine , loss_of_appetite , abdominal_pain , yellow_urine , yellowing_of_eyes , malaise , receiving_blood_transfusion , receiving_unsterile_injections',\n",
       "  'atomic_number_53 make heartburn and indigestion . I vomit everything I eat . Food gets stuck in my throat , making it difficult for me to swallow . I have a pain in my upper abdomen .',\n",
       "  'spoil , rash , stomach_pain , burning_micturition , spotting__urination',\n",
       "  'tire , weight_loss , impatience , lethargy , irregular_sugar_level , blurred_and_distorted_vision , obesity , excessive_hunger , increased_appetite , polyuria',\n",
       "  'itchiness , regorge , yellowish_skin , nausea , loss_of_appetite , abdominal_pain , yellowing_of_eyes',\n",
       "  'muscle_weakness , stiff_neck , swelling_joints , movement_stiffness , painful_walking',\n",
       "  'shudder , upchuck , high_fever , sweating , headache , nausea , diarrhoea , muscle_pain',\n",
       "  \"single 've be having trouble seeing things clearly , and it seems to be getting worse . I 'm also always tired and worn out , and I get dizzy and lightheaded a lot .\",\n",
       "  'jade , weight_gain , cold_hands_and_feets , mood_swings , lassitude , dizziness , puffy_face_and_eyes , enlarged_thyroid , brittle_nails , swollen_extremeties , depression , irritability , abnormal_menstruation',\n",
       "  'itch , puke , yellowish_skin , nausea , loss_of_appetite , abdominal_pain',\n",
       "  'acidulousness , dyspepsia , headache , blurred_and_distorted_vision , excessive_hunger , stiff_neck , depression , irritability , visual_disturbances',\n",
       "  'kidney I._F._Stone Open pop-up dialog box Close Kidney stones Kidney stones Kidney stones form in your kidneys . As stones move into your ureters — the thin tubes that allow urine to pass from your kidneys to your bladder — signs and symptoms can result . Signs and symptoms of kidney stones can include severe pain , nausea , vomiting , fever , chills and blood in your urine . Kidney stones Open pop-up dialog box Kidney stones Open pop-up dialog box Open pop-up dialog box Close Kidney stones Kidney stones Kidney stones form in your kidneys . As stones move into your ureters — the thin tubes that allow urine to pass from your kidneys to your bladder — signs and symptoms can result . Signs and symptoms of kidney stones can include severe pain , nausea , vomiting , fever , chills and blood in your urine . Close Kidney stones Kidney stones Kidney stones form in your kidneys . As stones move into your ureters — the thin tubes that allow urine to pass from your kidneys to your bladder — signs and symptoms can result . Signs and symptoms of kidney stones can include severe pain , nausea , vomiting , fever , chills and blood in your urine . Close Kidney stones Kidney stones Kidney stones form in your kidneys . As stones move into your ureters — the thin tubes that allow urine to pass from your kidneys to your bladder — signs and symptoms can result . Signs and symptoms of kidney stones can include severe pain , nausea , vomiting , fever , chills and blood in your urine . Close Close Close Kidney stones Kidney stones Kidney stones form in your kidneys . As stones move into your ureters — the thin tubes that allow urine to pass from your kidneys to your bladder — signs and symptoms can result . Signs and symptoms of kidney stones can include severe pain , nausea , vomiting , fever , chills and blood in your urine . Kidney stones Kidney stones form in your kidneys . As stones move into your ureters — the thin tubes that allow urine to pass from your kidneys to your bladder — signs and symptoms can result . Signs and symptoms of kidney stones can include severe pain , nausea , vomiting , fever , chills and blood in your urine . Kidney stones form in your kidneys . As stones move into your ureters — the thin tubes that allow urine to pass from your kidneys to your bladder — signs and symptoms can result . Signs and symptoms of kidney stones can include severe pain , nausea , vomiting , fever , chills and blood in your urine . A kidney stone usually will not cause symptoms until it moves around within the kidney or passes into one of the ureters . The ureters are the tubes that connect the kidneys and bladder . If a kidney stone becomes lodged in the ureters , it may block the flow of urine and cause the kidney to swell and the ureter to spasm , which can be very painful . At that point , you may experience these symptoms : Severe , sharp pain in the side and back , below the ribs Pain that radiates to the lower abdomen and groin Pain that comes in waves and fluctuates in intensity Pain or burning sensation while urinating Other signs and symptoms may include : Pink , red or brown urine Cloudy or foul-smelling urine A persistent need to urinate , urinating more often than usual or urinating in small amounts Nausea and vomiting Fever and chills if an infection is present Pain caused by a kidney stone may change — for instance , shifting to a different location or increasing in intensity — as the stone moves through your urinary tract .',\n",
       "  'joint_pain , purge , yellowish_skin , dark_urine , sickness , loss_of_appetite , abdominal_pain , diarrhoea , mild_fever , yellowing_of_eyes , muscle_pain',\n",
       "  'efflorescence , high_fever , red_sore_around_nose , yellow_crust_ooze',\n",
       "  'joint_pain , neck_pain , knee_pain , hip_joint_pain , swelling_joints , painful_walking',\n",
       "  \"ace 've exist sneezing a lot and I 'm really tired . My throat hurts and I have a lot of mucus in my nose and throat . My neck is also swollen and puffy .\",\n",
       "  \"Behcet 's disease symptom motley from person to person , can come and go or become less severe over time . Signs and symptoms depend on which parts of your body are affected . Areas commonly affected by Behcet 's disease include : Mouth . Painful mouth sores that look similar to canker sores are the most common sign of Behcet 's disease . They begin as raised , round lesions in the mouth that quickly turn into painful ulcers . The sores usually heal in one to three weeks , though they do recur . Skin . Some people develop acnelike sores on their bodies . Others develop red , raised and tender nodules on their skin , especially on the lower legs . Genitals . Red , open sores can occur on the scrotum or the vulva . The sores are usually painful and can leave scars . Eyes . Inflammation in the eye ( uveitis ) causes redness , pain and blurred vision , typically in both eyes . In people with Behcet 's disease , the condition can come and go . Joints . Joint swelling and pain often affect the knees in people with Behcet 's disease . The ankles , elbows or wrists also might be involved . Signs and symptoms can last one to three weeks and go away on their own . Blood vessels . Inflammation in veins and arteries can cause redness , pain , and swelling in the arms or legs when a blood clot results . Inflammation in the large arteries can lead to complications , such as aneurysms and narrowing or blockage of the vessel . Digestive system . A variety of signs and symptoms can affect the digestive system , including abdominal pain , diarrhea and bleeding . Brain . Inflammation in the brain and nervous system can cause headache , fever , disorientation , poor balance or stroke .\",\n",
       "  'roseola , cool_down , joint_pain , vomiting , fatigue , high_fever , headache , nausea , loss_of_appetite , pain_behind_the_eyes , back_pain , malaise , muscle_pain , red_spots_over_body',\n",
       "  'cephalalgia , chest_pain , lightheadedness , loss_of_balance , lack_of_concentration',\n",
       "  'roseola , high_fever , red_sore_around_nose , yellow_crust_ooze',\n",
       "  'continuous_sneezing , frisson , weariness , cough , high_fever , headache , swelled_lymph_nodes , malaise , phlegm , throat_irritation , redness_of_eyes , sinus_pressure , runny_nose , congestion , chest_pain , loss_of_smell , muscle_pain',\n",
       "  '1 take trouble swallowing food and it feels like food is getting stuck in my throat . I also feel bloated and belch a lot . I have a bad aftertaste every time I eat .',\n",
       "  'retch , worry , weakness_of_one_body_side , altered_sensorium',\n",
       "  'shiver , shiver , watering_from_eyes',\n",
       "  'symptom of useable dyspepsia may include : Pain or burning in the stomach , bloating , excessive belching , or nausea after eating An early feeling of fullness when eating . The feeling of fullness also is called satiety . Stomach pain that occurs unrelated to meals or goes away when eating .',\n",
       "  'fag_out , coughing , high_fever , breathlessness , family_history , mucoid_sputum',\n",
       "  'wear_upon , yellowish_skin , sickness , loss_of_appetite , yellowing_of_eyes , family_history',\n",
       "  'spoil , efflorescence , nodal_skin_eruptions , dischromic__patches',\n",
       "  'joint_pain , upchuck , yellowish_skin , dark_urine , sickness , loss_of_appetite , abdominal_pain , mild_fever , yellowing_of_eyes , muscle_pain',\n",
       "  'wear , weight_gain , cold_hands_and_feets , mood_swings , inanition , dizziness , puffy_face_and_eyes , enlarged_thyroid , brittle_nails , swollen_extremeties , depression , irritability , abnormal_menstruation',\n",
       "  'The primary symptom of a pneumothorax are sudden chest pain and shortness of breath . Severity of symptoms may depend on how much of the lung is collapsed .',\n",
       "  \"ane 've equal having chest pains , headaches , and dizziness .\",\n",
       "  'chuck , fag , anxiety , sweating , headache , nausea , blurred_and_distorted_vision , excessive_hunger , drying_and_tingling_lips , slurred_speech , irritability , palpitations',\n",
       "  'back_pain , weakness_in_limbs , neck_pain , lightheadedness , loss_of_balance',\n",
       "  'stomach_pain , sour , ulcers_on_tongue , coughing , chest_pain',\n",
       "  'unity cause been feeling very sick lately . I have been vomiting and have a high fever . I have also lost a lot of weight and my skin has become yellow . I have been feeling very tired and have been having abdominal pain .',\n",
       "  'fag_out , muscle_spasm , bruising , obesity , swollen_legs , swollen_blood_vessels , prominent_veins_on_calf',\n",
       "  'scratch , roseola , nodal_skin_eruptions , dischromic__patches',\n",
       "  'gelidity , vomit , weight_loss , cough , high_fever , breathlessness , sweating , loss_of_appetite , mild_fever , yellowing_of_eyes , swelled_lymph_nodes , malaise , phlegm , chest_pain , blood_in_sputum',\n",
       "  \"iodin give_birth a rash all over my body . It 's red and swollen , and it 's worse in some places , like my arms and legs . I also do n't feel like eating .\",\n",
       "  'back_pain , neck_pain , giddiness , loss_of_balance',\n",
       "  'burning_micturition , bladder_discomfort , foul_smell_of_urine , continuous_feel_of_urine',\n",
       "  \"atomic_number_53 induce a really bad cold . My nose is stuffy , my eyes are red and watery , and I have a hard time breathing . My chest hurts , and my muscles are sore . I ca n't smell anything .\",\n",
       "  'roseola , pus_filled_pimples , comedo , scurring',\n",
       "  'tiredness , cramp_iron , bruising , obesity , swollen_legs , swollen_blood_vessels',\n",
       "  'joint_pain , neck_pain , hip_joint_pain , swelling_joints , painful_walking',\n",
       "  'fag , coughing , high_fever , breathlessness , family_history , mucoid_sputum',\n",
       "  'The mansion and symptom of entropion result from the friction of your eyelashes and outer eyelid against the surface of your eye . You may experience : The feeling that something is in your eye Eye redness Eye irritation or pain Sensitivity to light and wind Watery eyes ( excessive tearing ) Mucous discharge and eyelid crusting',\n",
       "  \"shivering make_up likely the first thing you 'll notice as the temperature starts to drop because it 's your body 's automatic defense against cold temperature — an attempt to warm itself . Signs and symptoms of hypothermia include : Shivering Slurred speech or mumbling Slow , shallow breathing Weak pulse Clumsiness or lack of coordination Drowsiness or very low energy Confusion or memory loss Loss of consciousness Bright red , cold skin ( in infants ) Someone with hypothermia usually is n't aware of his or her condition because the symptoms often begin gradually . Also , the confused thinking associated with hypothermia prevents self-awareness . The confused thinking can also lead to risk-taking behavior .\",\n",
       "  'rub , rash , nodal_skin_eruptions , dischromic__patches',\n",
       "  'continuous_sneezing , shudder , fag , cough , high_fever , headache , swelled_lymph_nodes , malaise , phlegm , throat_irritation , redness_of_eyes , sinus_pressure , runny_nose , congestion , chest_pain , loss_of_smell , muscle_pain',\n",
       "  'continuous_sneezing , cool_down , outwear , cough , high_fever , headache , swelled_lymph_nodes , malaise , phlegm , throat_irritation , redness_of_eyes , sinus_pressure , runny_nose , congestion , chest_pain , loss_of_smell , muscle_pain',\n",
       "  'back_pain , weakness_in_limbs , neck_pain , vertigo , loss_of_balance',\n",
       "  \"The liver-colored out-of-doors pop-up dialog box Close The liver The liver The liver is your largest internal organ . About the size of a football , it 's located mainly in the upper right portion of your abdomen , beneath the diaphragm and above your stomach . The liver Open pop-up dialog box The liver Open pop-up dialog box Open pop-up dialog box Close The liver The liver The liver is your largest internal organ . About the size of a football , it 's located mainly in the upper right portion of your abdomen , beneath the diaphragm and above your stomach . Close The liver The liver The liver is your largest internal organ . About the size of a football , it 's located mainly in the upper right portion of your abdomen , beneath the diaphragm and above your stomach . Close The liver The liver The liver is your largest internal organ . About the size of a football , it 's located mainly in the upper right portion of your abdomen , beneath the diaphragm and above your stomach . Close Close Close The liver The liver The liver is your largest internal organ . About the size of a football , it 's located mainly in the upper right portion of your abdomen , beneath the diaphragm and above your stomach . The liver The liver is your largest internal organ . About the size of a football , it 's located mainly in the upper right portion of your abdomen , beneath the diaphragm and above your stomach . The liver is your largest internal organ . About the size of a football , it 's located mainly in the upper right portion of your abdomen , beneath the diaphragm and above your stomach . Cirrhosis often has no symptoms until liver damage is severe . When symptoms do occur , they may include : Fatigue . Easily bleeding or bruising . Loss of appetite . Nausea . Swelling in the legs , feet or ankles , called edema . Weight loss . Itchy skin . Yellow discoloration in the skin and eyes , called jaundice . Fluid accumulation in the abdomen , called ascites ( uh-SAHY-teez ) . Spiderlike blood vessels on the skin . Redness in the palms of the hands . Pale fingernails , especially the thumb and index finger . Clubbing of the fingers , in which the fingertips spread out and become rounder than usual . For women , absence of or loss of periods not related to menopause . For men , loss of sex drive , testicular shrinkage or breast enlargement , known as gynecomastia . Confusion , drowsiness or slurred speech .\",\n",
       "  'Indiana IT early stages , nasopharyngeal carcinoma may not cause any symptoms . Possible noticeable symptoms of nasopharyngeal carcinoma include : A lump in your neck caused by a swollen lymph node Blood in your saliva Bloody discharge from your nose Nasal congestion or ringing in your ears Hearing loss Frequent ear infections Sore throat Headaches',\n",
       "  'single accept a metallic taste in my mouth and my sense of taste and smell have changed . I also have joint and muscle pain .',\n",
       "  'tingle , regurgitate , high_fever , sweating , nausea , diarrhoea , muscle_pain',\n",
       "  'continuous_sneezing , frisson , tiredness , high_fever , headache , swelled_lymph_nodes , malaise , phlegm , throat_irritation , redness_of_eyes , sinus_pressure , runny_nose , congestion , chest_pain , loss_of_smell , muscle_pain',\n",
       "  'itchiness , roseola , stomach_pain , burning_micturition , spotting__urination',\n",
       "  'roseola , joint_pain , skin_peeling , silver_like_dusting , small_dents_in_nails , inflammatory_nails',\n",
       "  \"masses with continuing granulomatous disease experience serious bacterial or fungal infection every few years . An infection in the lungs , including pneumonia , is common . People with CGD may develop a serious type of fungal pneumonia after being exposed to dead leaves , mulch or hay . CGD It 's also common for people with CGD to experience infections of the skin , liver , stomach and intestines , brain , and eyes . Signs and symptoms associated with infections include : CGD Fever Chest pain when inhaling or exhaling Swollen and sore lymph glands A persistent runny nose Skin irritation that may include a rash , swelling or redness Swelling and redness in your mouth Gastrointestinal problems that may include vomiting , diarrhea , stomach pain , bloody stool or a painful pocket of pus near the anus\",\n",
       "  'muscle_weakness , stiff_neck , swelling_joints , movement_stiffness , painful_walking',\n",
       "  'wear , weight_loss , impatience , lethargy , irregular_sugar_level , blurred_and_distorted_vision , obesity , excessive_hunger , increased_appetite , polyuria',\n",
       "  'spoil , fag , lethargy , yellowish_skin , loss_of_appetite , abdominal_pain , yellow_urine , yellowing_of_eyes , malaise , receiving_blood_transfusion , receiving_unsterile_injections',\n",
       "  'vomit_up , yellowish_skin , abdominal_pain , swelling_of_stomach , distention_of_abdomen , history_of_alcohol_consumption , fluid_overload',\n",
       "  'disgorge , head_ache , nausea , spinning_movements , loss_of_balance',\n",
       "  'chuck , cephalalgia , nausea , spinning_movements , loss_of_balance , unsteadiness',\n",
       "  'spoil , sick , weight_loss , high_fever , yellowish_skin , dark_urine , abdominal_pain',\n",
       "  'iciness , retch , sweating , headache , nausea , diarrhoea , muscle_pain',\n",
       "  'chuck , shortness_of_breath , sweating , chest_pain',\n",
       "  \"ane 'm opinion really weak . I 've been having a lot of stomach pain and constipation , and I 've been vomiting a lot . I ca n't eat anything because of the pain .\",\n",
       "  \"Associate_in_Nursing indicant of simple absence seizure is a vacant stare , which may be mistaken for a lapse in attention that lasts about 10 seconds , though it may last as long as 20 seconds , without any confusion , headache or drowsiness afterward . Signs and symptoms of absence seizures include : Sudden stop in motion without falling Lip smacking Eyelid flutters Chewing motions Finger rubbing Small movements of both hands Afterward , there 's no memory of the incident . Some people have many episodes daily , which interfere with school or daily activities . A child may have absence seizures for some time before an adult notices the seizures , because they 're so brief . A decline in a child 's learning ability may be the first sign of this disorder . Teachers may comment about a child 's inability to pay attention or that a child is often daydreaming . When to see a doctor Contact your doctor : The first time you notice a seizure If this is a new type of seizure If the seizures continue to occur despite taking anti-seizure medication Contact 911 or emergency services in your area : If you observe prolonged automatic behaviors lasting minutes to hours — activities such as eating or moving without awareness — or prolonged confusion , possible symptoms of a condition called absence status epilepticus After any seizure lasting more than five minutes\",\n",
       "  'stomach_pain , sourness , ulcers_on_tongue , regurgitate , cough',\n",
       "  'emesis , stomach_upset , loss_of_appetite , abdominal_pain , passage_of_gases , internal_itching',\n",
       "  'chill , regorge , high_fever , sweating , headache , nausea , muscle_pain',\n",
       "  'wear_upon , yellowish_skin , sickness , loss_of_appetite , yellowing_of_eyes , family_history',\n",
       "  'tiredness , mood_swings , weight_loss , uneasiness , sweating , diarrhoea , fast_heart_rate , excessive_hunger , muscle_weakness , irritability , abnormal_menstruation',\n",
       "  \"unity 'm own trouble eating , and it 's hard to swallow . I feel full even after eating a small meal . I also have nausea , heartburn , and a tingling sensation in my throat .\",\n",
       "  'joint_pain , be_sick , tiredness , high_fever , yellowish_skin , dark_urine , nausea , loss_of_appetite , abdominal_pain , yellowing_of_eyes , acute_liver_failure , coma , stomach_bleeding',\n",
       "  'wear_upon , weight_loss , inanition , irregular_sugar_level , blurred_and_distorted_vision , obesity , excessive_hunger , increased_appetite , polyuria',\n",
       "  'joint_pain , disgorge , weary , yellowish_skin , dark_urine , nausea , loss_of_appetite , abdominal_pain , yellowing_of_eyes',\n",
       "  'i get been feeling very tired and weak . I have no appetite . I have been having a fever and chills every night . I have also been vomiting since yesterday .',\n",
       "  'fatigue_duty , weight_gain , cold_hands_and_feets , mood_swings , phlegm , dizziness , puffy_face_and_eyes , enlarged_thyroid , brittle_nails , swollen_extremeties , depression , irritability , abnormal_menstruation',\n",
       "  'roseola , high_fever , scald , red_sore_around_nose , yellow_crust_ooze',\n",
       "  'itchiness , fatigue_duty , lethargy , yellowish_skin , dark_urine , loss_of_appetite , abdominal_pain , yellow_urine , yellowing_of_eyes , malaise , receiving_blood_transfusion , receiving_unsterile_injections',\n",
       "  'stultification , pain_in_anal_region , bloody_stool , irritation_in_anus',\n",
       "  'spoil , wear_down , lethargy , yellowish_skin , dark_urine , loss_of_appetite , abdominal_pain , yellow_urine , yellowing_of_eyes , malaise , receiving_blood_transfusion , receiving_unsterile_injections',\n",
       "  'tingle , disgorgement , fatigue , weight_loss , high_fever , breathlessness , sweating , loss_of_appetite , mild_fever , yellowing_of_eyes , swelled_lymph_nodes , malaise , phlegm , chest_pain , blood_in_sputum',\n",
       "  \"unity 've cost having a lot of itching and rashes on my skin . There are also some strange patches of skin that are a different color than the rest of me , and sometimes I get little bumps that look like nodules .\",\n",
       "  \"one 've embody having a fever for a few days , and it 's been getting worse . I 've also been having chills , and my skin is really itchy . I have a headache , and I 'm sweating a lot . My muscles are sore , and I just feel really sick .\",\n",
       "  \"antiophthalmic_factor pilonidal vesicle may not cause symptoms . But if it 's infected , the skin around the cyst may be swollen and painful . Symptoms of an infected pilonidal cyst include : A pit near the top of the buttocks crease . Pain . Inflamed , swollen skin . Pus or blood leaking from an opening in the skin . An odor from draining pus .\",\n",
       "  'back_pain , weakness_in_limbs , neck_pain , lightheadedness , loss_of_balance',\n",
       "  'puking , wear , anxiety , sweating , headache , blurred_and_distorted_vision , excessive_hunger , drying_and_tingling_lips , slurred_speech , irritability , palpitations',\n",
       "  'rub , tire , lethargy , yellowish_skin , dark_urine , loss_of_appetite , abdominal_pain , yellowing_of_eyes , malaise , receiving_blood_transfusion , receiving_unsterile_injections',\n",
       "  'continuous_sneezing , trembling , shiver , watering_from_eyes',\n",
       "  'muscle_wasting , patches_in_throat , high_fever , extra_marital_contacts',\n",
       "  'rash , pall , joint_pain , vomiting , fatigue , high_fever , headache , nausea , loss_of_appetite , pain_behind_the_eyes , back_pain , malaise , muscle_pain , red_spots_over_body',\n",
       "  \"i live in the middle of a workout when I suddenly felt lightheaded and dizzy . I also had a headache and chest pain . I 've been having trouble balancing myself since then .\",\n",
       "  'disgorgement , stomach_upset , loss_of_appetite , abdominal_pain , passage_of_gases , internal_itching',\n",
       "  'ampere sonant tissue sarcoma may not cause any signs and symptoms in its early stages . As the tumor grows , it may cause : A noticeable lump or swelling Pain , if a tumor presses on nerves or muscles',\n",
       "  'tire , weight_gain , cold_hands_and_feets , mood_swings , phlegm , dizziness , puffy_face_and_eyes , enlarged_thyroid , brittle_nails , swollen_extremeties , depression , irritability , abnormal_menstruation',\n",
       "  'jade , coughing , high_fever , breathlessness , family_history',\n",
       "  \"male_person generative system Open pop-up dialog box Close Male reproductive system Male reproductive system The male reproductive system makes , stores and moves sperm . Testicles produce sperm . Fluid from the seminal vesicles and prostate gland combine with sperm to make semen . The penis ejaculates semen during sexual intercourse . Male reproductive system Open pop-up dialog box Male reproductive system Open pop-up dialog box Open pop-up dialog box Close Male reproductive system Male reproductive system The male reproductive system makes , stores and moves sperm . Testicles produce sperm . Fluid from the seminal vesicles and prostate gland combine with sperm to make semen . The penis ejaculates semen during sexual intercourse . Close Male reproductive system Male reproductive system The male reproductive system makes , stores and moves sperm . Testicles produce sperm . Fluid from the seminal vesicles and prostate gland combine with sperm to make semen . The penis ejaculates semen during sexual intercourse . Close Male reproductive system Male reproductive system The male reproductive system makes , stores and moves sperm . Testicles produce sperm . Fluid from the seminal vesicles and prostate gland combine with sperm to make semen . The penis ejaculates semen during sexual intercourse . Close Close Close Male reproductive system Male reproductive system The male reproductive system makes , stores and moves sperm . Testicles produce sperm . Fluid from the seminal vesicles and prostate gland combine with sperm to make semen . The penis ejaculates semen during sexual intercourse . Male reproductive system The male reproductive system makes , stores and moves sperm . Testicles produce sperm . Fluid from the seminal vesicles and prostate gland combine with sperm to make semen . The penis ejaculates semen during sexual intercourse . The male reproductive system makes , stores and moves sperm . Testicles produce sperm . Fluid from the seminal vesicles and prostate gland combine with sperm to make semen . The penis ejaculates semen during sexual intercourse . Hypogonadism can begin during fetal development , before puberty or during adulthood . Signs and symptoms depend on when the condition develops . Fetal development If the body does n't produce enough testosterone during fetal development , the result may be impaired growth of the external sex organs . Depending on when hypogonadism develops and how much testosterone is present , a child who is genetically male may be born with : Female genitals Genitals that are neither clearly male nor clearly female ( ambiguous genitals ) Underdeveloped male genitals Puberty Male hypogonadism can delay puberty or cause incomplete or lack of normal development . It can hamper : Development of muscle mass Voice deepening Growth of body and facial hair Growth of the penis and testicles And it can cause : Excessive growth of the arms and legs in relation to the trunk of the body Development of breast tissue ( gynecomastia ) Adulthood In adult males , hypogonadism can alter certain masculine physical characteristics and impair normal reproductive function . Early signs and symptoms might include : Decreased sex drive Decreased energy Depression Over time , men with hypogonadism can develop : Erectile dysfunction Infertility Decrease in hair growth on the face and body Decrease in muscle mass Development of breast tissue ( gynecomastia ) Loss of bone mass ( osteoporosis ) Severe hypogonadism can also cause mental and emotional changes . As testosterone decreases , some men have symptoms similar to those of menopause in women . These can include : Difficulty concentrating Hot flashes When to seek help See your health care provider if you have symptoms of male hypogonadism . Finding the cause of hypogonadism is an important first step to getting appropriate treatment .\",\n",
       "  \"atomic_number_53 've constitute feeling really unwell . I have a high fever , chills , nausea , and intense scratching . My muscles hurt a lot , and I feel queasy . I 've also been sweating a lot .\",\n",
       "  \"sign_of_the_zodiac and symptom of Wilms ' tumor vary widely , and some children do n't show any obvious signs . But most children with Wilms ' tumor experience one or more of these signs and symptoms : An abdominal mass you can feel Abdominal swelling Abdominal pain Other signs and symptoms may include : Fever Blood in the urine Nausea or vomiting or both Constipation Loss of appetite Shortness of breath High blood pressure\",\n",
       "  'tingle , retch , fatigue , high_fever , headache , nausea , constipation , abdominal_pain , diarrhoea , toxic_look_ ( typhos ) , belly_pain',\n",
       "  'scratch , regorge , fatigue , weight_loss , high_fever , dark_urine , abdominal_pain',\n",
       "  'cool_down , purge , high_fever , sweating , headache , nausea , muscle_pain',\n",
       "  'honk , worry , weakness_of_one_body_side , altered_sensorium',\n",
       "  'purge , yellowish_skin , abdominal_pain , swelling_of_stomach , distention_of_abdomen , history_of_alcohol_consumption , fluid_overload',\n",
       "  'roseola , chill , joint_pain , vomiting , fatigue , high_fever , headache , nausea , loss_of_appetite , pain_behind_the_eyes , back_pain , malaise , muscle_pain , red_spots_over_body',\n",
       "  'ace possess a rash on my face and sores near my nose . The sores are red , painful , and have a yellow ooze .',\n",
       "  \"ratify and symptom of neuroblastoma vary depending on what part of the body is affected . Neuroblastoma in the abdomen — the most common form — may cause signs and symptoms such as : Neuroblastoma in the abdomen Abdominal pain A mass under the skin that is n't tender when touched Changes in bowel habits , such as diarrhea or constipation Neuroblastoma in the chest may cause signs and symptoms such as : Neuroblastoma in the chest Wheezing Chest pain Changes to the eyes , including drooping eyelids and unequal pupil size Other signs and symptoms that may indicate neuroblastoma include : Lumps of tissue under the skin Eyeballs that seem to protrude from the sockets ( proptosis ) Dark circles , similar to bruises , around the eyes Back pain Fever Unexplained weight loss Bone pain\",\n",
       "  \"iodine 've follow feeling really sick lately . I 've had a fever , chills , and intense itching . I 've also been vomiting and have a headache . I 've been sweating a lot and feel really uncomfortable .\",\n",
       "  \"The liver-colored open_air pop-up dialog box Close The liver The liver The liver is your largest internal organ . About the size of a football , it 's located mainly in the upper right portion of your abdomen , beneath the diaphragm and above your stomach . The liver Open pop-up dialog box The liver Open pop-up dialog box Open pop-up dialog box Close The liver The liver The liver is your largest internal organ . About the size of a football , it 's located mainly in the upper right portion of your abdomen , beneath the diaphragm and above your stomach . Close The liver The liver The liver is your largest internal organ . About the size of a football , it 's located mainly in the upper right portion of your abdomen , beneath the diaphragm and above your stomach . Close The liver The liver The liver is your largest internal organ . About the size of a football , it 's located mainly in the upper right portion of your abdomen , beneath the diaphragm and above your stomach . Close Close Close The liver The liver The liver is your largest internal organ . About the size of a football , it 's located mainly in the upper right portion of your abdomen , beneath the diaphragm and above your stomach . The liver The liver is your largest internal organ . About the size of a football , it 's located mainly in the upper right portion of your abdomen , beneath the diaphragm and above your stomach . The liver is your largest internal organ . About the size of a football , it 's located mainly in the upper right portion of your abdomen , beneath the diaphragm and above your stomach . In most cases , a liver hemangioma does n't cause any signs or symptoms . When a liver hemangioma causes signs and symptoms , they may include : Pain in the upper right abdomen Feeling full after eating only a small amount of food ( early satiety ) Nausea Vomiting However , these symptoms are nonspecific and in most instances are due to something else even if you have a liver hemangioma , as these tend to be asymptomatic .\",\n",
       "  \"low arteriovenous sinus in the legs , arms , lungs , kidneys or brain often wo n't have any signs or symptoms . Small arteriovenous fistulas usually do n't need treatment other than monitoring by a health care provider . Large arteriovenous fistulas may cause signs and symptoms . Arteriovenous fistula signs and symptoms may include : Purplish , bulging veins seen through the skin , similar to varicose veins Swelling in the arms or legs Decreased blood pressure Fatigue Heart failure A significant arteriovenous fistula in the lungs ( pulmonary arteriovenous fistula ) is a serious condition and can cause : Pale gray or blue lips or fingernails due to lack of blood flow ( cyanosis ) Fingertips to spread out and become rounder than normal ( clubbing ) Coughing up blood An arteriovenous fistula in the digestive tract can cause gastrointestinal ( GI ) bleeding .\",\n",
       "  'joint_pain , retch , yellowish_skin , dark_urine , loss_of_appetite , abdominal_pain , diarrhea , mild_fever , yellowing_of_eyes , muscle_pain',\n",
       "  'continuous_sneezing , pall , jade , cough , high_fever , headache , swelled_lymph_nodes , malaise , phlegm , throat_irritation , redness_of_eyes , sinus_pressure , runny_nose , congestion , chest_pain , loss_of_smell , muscle_pain',\n",
       "  'concern , chest_pain , giddiness , loss_of_balance , lack_of_concentration',\n",
       "  'quiver , disgorgement , fatigue , high_fever , headache , nausea , constipation , abdominal_pain , diarrhoea , toxic_look_ ( typhos ) , belly_pain',\n",
       "  \"lineage In the urine can look pink , red or cola-colored . Red blood cells cause the urine to change color . It takes only a small amount of blood to turn urine red . The bleeding often is n't painful . But if blood clots get passed in the urine , that can hurt .\",\n",
       "  'acidulousness , stomach_upset , headache , blurred_and_distorted_vision , excessive_hunger , stiff_neck , depression , irritability , visual_disturbances',\n",
       "  \"i 've embody having a lot of back pain , and it 's been radiating down my arms and legs . I 've also been having trouble staying balanced and experiencing dizziness . My neck hurts , too .\",\n",
       "  'efflorescence , chill , joint_pain , vomiting , fatigue , high_fever , headache , nausea , loss_of_appetite , pain_behind_the_eyes , back_pain , malaise , red_spots_over_body',\n",
       "  'rub , sick , fatigue , weight_loss , high_fever , yellowish_skin , dark_urine , abdominal_pain',\n",
       "  'vomit_up , yellowish_skin , abdominal_pain , swelling_of_stomach , distention_of_abdomen , history_of_alcohol_consumption , fluid_overload',\n",
       "  'muscle_wasting , patches_in_throat , high_fever , extra_marital_contacts',\n",
       "  'The augury and symptom of polymyalgia rheumatica usually occur on both sides of the body and might include : Aches or pain in your shoulders Aches or pain in your neck , upper arms , buttocks , hips or thighs Stiffness in affected areas , particularly in the morning or after being inactive for a time Limited range of motion in affected areas Pain or stiffness in your wrists , elbows or knees You might also have more-general signs and symptoms , including : Mild fever Fatigue A general feeling of not being well ( malaise ) Loss of appetite Unintended weight loss Depression',\n",
       "  'rub , wear_out , lethargy , yellowish_skin , dark_urine , loss_of_appetite , abdominal_pain , yellow_urine , yellowing_of_eyes , malaise , receiving_blood_transfusion , receiving_unsterile_injections',\n",
       "  'sourness , dyspepsia , headache , blurred_and_distorted_vision , excessive_hunger , stiff_neck , depression , irritability , visual_disturbances',\n",
       "  'cast , sunken_eyes , desiccation , diarrhoea',\n",
       "  'fatigue_duty , cramp , bruising , obesity , swollen_legs , swollen_blood_vessels , prominent_veins_on_calf',\n",
       "  \"signalise and symptom of appendicitis may include : Sudden pain that begins on the right side of the lower abdomen Sudden pain that begins around your navel and often shifts to your lower right abdomen Pain that worsens if you cough , walk or make other jarring movements Nausea and vomiting Loss of appetite Low-grade fever that may worsen as the illness progresses Constipation or diarrhea Abdominal bloating Flatulence The site of your pain may vary , depending on your age and the position of your appendix . When you 're pregnant , the pain may seem to come from your upper abdomen because your appendix is higher during pregnancy .\",\n",
       "  '1 stimulate sores on my face that are weeping clear fluid . I also have a high fever and chills every night , which makes it hard for me to sleep .',\n",
       "  'shudder , chuck , fatigue , cough , high_fever , breathlessness , sweating , loss_of_appetite , mild_fever , yellowing_of_eyes , swelled_lymph_nodes , malaise , phlegm , chest_pain , blood_in_sputum',\n",
       "  'throw_up , vexation , nausea , spinning_movements , loss_of_balance',\n",
       "  'dyspepsia , loss_of_appetite , abdominal_pain , passage_of_gases , internal_itching',\n",
       "  'muscle_wasting , patches_in_throat , extra_marital_contacts',\n",
       "  'muscle_weakness , stiff_neck , swelling_joints , movement_stiffness , painful_walking',\n",
       "  'joint_pain , upchuck , weariness , yellowish_skin , dark_urine , loss_of_appetite , abdominal_pain , yellowing_of_eyes',\n",
       "  'continuous_sneezing , chill , tire , cough , high_fever , headache , swelled_lymph_nodes , malaise , phlegm , throat_irritation , redness_of_eyes , sinus_pressure , runny_nose , congestion , chest_pain , loss_of_smell , muscle_pain',\n",
       "  'scratch , pall , lethargy , yellowish_skin , loss_of_appetite , abdominal_pain , yellow_urine , yellowing_of_eyes , malaise , receiving_blood_transfusion , receiving_unsterile_injections',\n",
       "  'muscle_wasting , patches_in_throat , high_fever',\n",
       "  'tire , mood_swings , weight_loss , queasiness , sweating , diarrhoea , fast_heart_rate , excessive_hunger , muscle_weakness , irritability , abnormal_menstruation',\n",
       "  \"unity 've constitute losing weight , feeling really tired , and throwing up a lot . My skin has turned yellow , and I have a fever . My urine is dark , and I 've been having stomach pain .\",\n",
       "  'back_pain , weakness_in_limbs , neck_pain , lightheadedness , loss_of_balance',\n",
       "  'muscle_wasting , high_fever , extra_marital_contacts',\n",
       "  'barf , high_fever , perspiration , headache , nausea , diarrhoea , muscle_pain',\n",
       "  \"ab_initio , jumper_lead poisoning can be hard to detect — even people who seem healthy can have high blood levels of lead . Signs and symptoms usually do n't appear until dangerous amounts have accumulated . Lead poisoning symptoms in children Signs and symptoms of lead poisoning in children include : Developmental delay Learning difficulties Irritability Loss of appetite Weight loss Sluggishness and fatigue Abdominal pain Vomiting Constipation Hearing loss Seizures Eating things , such as paint chips , that are n't food ( pica ) Lead poisoning symptoms in newborns Babies exposed to lead before birth might : Be born prematurely Have lower birth weight Have slowed growth Lead poisoning symptoms in adults Although children are primarily at risk , lead poisoning is also dangerous for adults . Signs and symptoms in adults might include : High blood pressure Joint and muscle pain Difficulties with memory or concentration Headache Abdominal pain Mood disorders Reduced sperm count and abnormal sperm Miscarriage , stillbirth or premature birth in pregnant women\",\n",
       "  'one consume been having back pain , a productive cough , and muscle weakness . I also have dizziness and uneven balance , and my neck hurts .',\n",
       "  'spew , stomach_upset , loss_of_appetite , abdominal_pain , passage_of_gases , internal_itching',\n",
       "  'mark and symptom of intestinal obstruction include : Crampy abdominal pain that comes and goes Loss of appetite Constipation Vomiting Inability to have a bowel movement or pass gas Swelling of the abdomen',\n",
       "  'roseola , high_fever , whip , red_sore_around_nose , yellow_crust_ooze',\n",
       "  'spoil , roseola , stomach_pain , burning_micturition , spotting__urination',\n",
       "  'roseola , joint_pain , skin_peeling , silver_like_dusting , small_dents_in_nails , inflammatory_nails',\n",
       "  \"vivid spoil is the main symptom of cholestasis of pregnancy . But there is no rash . Typically , you feel itchy on the palms of your hands or the soles of your feet , but you may feel itchy everywhere . The itching is often worse at night and may bother you so much that you ca n't sleep . The itching is most common during the third trimester of pregnancy but sometimes begins earlier . It may feel worse as your due date gets near . But once your baby arrives , the itchiness usually goes away within a few days . Other less common signs and symptoms of cholestasis of pregnancy may include : Yellowing of the skin and whites of the eyes , called jaundice Nausea Loss of appetite Oily , foul-smelling stools\",\n",
       "  'efflorescence , thrill , joint_pain , vomiting , high_fever , headache , nausea , loss_of_appetite , pain_behind_the_eyes , back_pain , malaise , muscle_pain , red_spots_over_body',\n",
       "  'joint_pain , tiredness , yellowish_skin , dark_urine , sickness , loss_of_appetite , abdominal_pain , yellowing_of_eyes',\n",
       "  'hammertoe and beetle toe feature an abnormal bend in the joints of one or more of your toes . Moving the affected toe may be difficult or painful . Corns and calluses can result from the toe rubbing against the inside of your shoes .',\n",
       "  'itchiness , rash , stomach_pain , burning_micturition , spotting__urination',\n",
       "  \"1 've exist feeling really sick lately . I 've lost my appetite and have noticed a significant weight loss . I have abdominal pain , especially in the area of my stomach and intestines . I 'm worried about my health .\",\n",
       "  'sick , cephalalgia , weakness_of_one_body_side , altered_sensorium',\n",
       "  'rub , regorge , fatigue , high_fever , yellowish_skin , dark_urine , abdominal_pain',\n",
       "  'spoil , rash , nodal_skin_eruptions',\n",
       "  'rash , thrill , joint_pain , vomiting , fatigue , high_fever , headache , nausea , loss_of_appetite , pain_behind_the_eyes , back_pain , malaise , muscle_pain , red_spots_over_body',\n",
       "  'rash , joint_pain , skin_peeling , silver_like_dusting , small_dents_in_nails , inflammatory_nails',\n",
       "  'frisson , puking , fatigue , weight_loss , cough , high_fever , breathlessness , sweating , loss_of_appetite , mild_fever , yellowing_of_eyes , swelled_lymph_nodes , malaise , phlegm , chest_pain , blood_in_sputum',\n",
       "  'one ingest been feeling a lot of pain in my legs lately . It feels like a cramp and it is worse when I stand or walk for a long time .',\n",
       "  'ace have_got been experiencing a severe headache for the past few days . It is accompanied by pain behind my eyes . I feel tired and fatigued because of which I can not work all day . I am worried about my health .',\n",
       "  'sick , sunken_eyes , diarrhea',\n",
       "  'roseola , pus_filled_pimples , comedo , scurring',\n",
       "  \"instigative boob cancer does n't commonly form a lump , as occurs with other forms of breast cancer . Instead , signs and symptoms of inflammatory breast cancer include : Rapid change in the appearance of one breast , over the course of several weeks Thickness , heaviness or visible enlargement of one breast Discoloration , giving the breast a red , purple , pink or bruised appearance Unusual warmth of the affected breast Dimpling or ridges on the skin of the affected breast , similar to an orange peel Tenderness , pain or aching Enlarged lymph nodes under the arm , above the collarbone or below the collarbone Flattening or turning inward of the nipple For inflammatory breast cancer to be diagnosed , these symptoms must have been present for less than six months .\",\n",
       "  'sourness , dyspepsia , headache , blurred_and_distorted_vision , excessive_hunger , stiff_neck , depression , irritability , visual_disturbances',\n",
       "  'scratch , purge , weight_loss , high_fever , yellowish_skin , dark_urine , abdominal_pain',\n",
       "  'muscle_wasting , patches_in_throat , high_fever , extra_marital_contacts',\n",
       "  'chill , barf , fatigue , weight_loss , cough , high_fever , breathlessness , loss_of_appetite , mild_fever , yellowing_of_eyes , swelled_lymph_nodes , malaise , phlegm , chest_pain , blood_in_sputum',\n",
       "  'continuous_sneezing , shudder , cool , watering_from_eyes',\n",
       "  'vomit , anxiousness , sweating , headache , nausea , blurred_and_distorted_vision , excessive_hunger , drying_and_tingling_lips , slurred_speech , irritability , palpitations',\n",
       "  'jade , coughing , high_fever , breathlessness , family_history , mucoid_sputum',\n",
       "  'efflorescence , pus_filled_pimples , comedo',\n",
       "  \"ace 've follow having trouble with my balance , I 've been having chest pains , headaches , and pains all over my body . I 've also been having trouble focusing .\",\n",
       "  'acidulousness , dyspepsia , headache , blurred_and_distorted_vision , excessive_hunger , stiff_neck , depression , irritability , visual_disturbances',\n",
       "  'wear_upon , yellowish_skin , sickness , loss_of_appetite , yellowing_of_eyes , family_history',\n",
       "  'house and symptom of autoimmune hepatitis vary from person to person and may come on suddenly . Some people have few , if any , recognized problems in the early stages of the disease , whereas others experience signs and symptoms that may include : Fatigue Abdominal discomfort Yellowing of the skin and whites of the eyes ( jaundice ) An enlarged liver Abnormal blood vessels on the skin ( spider angiomas ) Skin rashes Joint pains Loss of menstrual periods',\n",
       "  'frisson , coughing , high_fever , breathlessness , sweating , malaise , phlegm , chest_pain , fast_heart_rate , rusty_sputum',\n",
       "  'efflorescence , pus_filled_pimples , blackhead , scurring',\n",
       "  'pain_during_bowel_movements , pain_in_anal_region , bloody_stool , irritation_in_anus',\n",
       "  \"single 've live coughing and sneezing for days . My nose is stuffy , and my face hurts . I 've been coughing up phlegm , and it hurts in my chest . I ca n't smell anything , and my muscles hurt .\",\n",
       "  'symptom of nap disorders include being very sleepy during the daytime and having trouble falling asleep at night . Some people may fall asleep at inappropriate times , such as while driving . Other symptoms include breathing in an unusual pattern or feeling an uncomfortable urge to move while you are trying to fall asleep . Unusual or bothersome movements or experiences during sleep are also possible . Having an irregular sleep and wake cycle is another symptom of sleep disorders . Clinical trials Explore Mayo Clinic studies testing new treatments , interventions and tests as a means to prevent , detect , treat or manage this condition . Explore Mayo Clinic studies By Mayo Clinic Staff By Mayo Clinic Staff Sleep disorders care at Mayo Clinic',\n",
       "  'upchuck , shortness_of_breath , sweating , chest_pain',\n",
       "  'shiver , tiredness , cough , high_fever , breathlessness , sweating , malaise , phlegm , chest_pain , fast_heart_rate , rusty_sputum',\n",
       "  'spew , sunken_eyes , desiccation , diarrhoea',\n",
       "  'pityriasis rosea typically start with an oval , slightly raised , scaly patch — called the herald patch — on the face , back , chest or abdomen . Before the herald patch appears , some people have headache , fatigue , fever or sore throat . A few days to a few weeks after the herald patch appears , you may notice smaller bumps or scaly spots across your face , back , chest or abdomen that look like a pine-tree pattern . The rash can cause itching .',\n",
       "  'unity stimulate been having headaches , and I have been feeling sick to my stomach . I have also been having trouble seeing clearly .',\n",
       "  'itchiness , roseola , lethargy , high_fever , headache , loss_of_appetite , mild_fever , swelled_lymph_nodes , malaise , red_spots_over_body',\n",
       "  'bladder_discomfort , foul_smell_of_urine , continuous_feel_of_urine',\n",
       "  \"migraine , which pretend children and teenagers as well as adults , can progress through four stages : prodrome , aura , attack and post-drome . Not everyone who has migraines goes through all stages . Prodrome One or two days before a migraine , you might notice subtle changes that warn of an upcoming migraine , including : Constipation Mood changes , from depression to euphoria Food cravings Neck stiffness Increased urination Fluid retention Frequent yawning Aura For some people , an aura might occur before or during migraines . Auras are reversible symptoms of the nervous system . They 're usually visual but can also include other disturbances . Each symptom usually begins gradually , builds up over several minutes and can last up to 60 minutes . Examples of migraine auras include : Visual phenomena , such as seeing various shapes , bright spots or flashes of light Vision loss Pins and needles sensations in an arm or leg Weakness or numbness in the face or one side of the body Difficulty speaking Attack A migraine usually lasts from 4 to 72 hours if untreated . How often migraines occur varies from person to person . Migraines might occur rarely or strike several times a month . During a migraine , you might have : Pain usually on one side of your head , but often on both sides Pain that throbs or pulses Sensitivity to light , sound , and sometimes smell and touch Nausea and vomiting Post-drome After a migraine attack , you might feel drained , confused and washed out for up to a day . Some people report feeling elated . Sudden head movement might bring on the pain again briefly .\",\n",
       "  'hyponatremia augury and symptoms may include : Nausea and vomiting Headache Confusion Loss of energy , drowsiness and fatigue Restlessness and irritability Muscle weakness , spasms or cramps Seizures Coma',\n",
       "  \"iodin 've exist drinking a lot more water and going to the bathroom more often . My mouth and throat are always dry . I 've been really hungry lately .\",\n",
       "  'green verruca usually occur on your fingers or hands and may be : Small , fleshy , grainy bumps Rough to the touch Sprinkled with black pinpoints , which are small , clotted blood vessels',\n",
       "  'scratch , rash , fatigue , lethargy , high_fever , headache , mild_fever , swelled_lymph_nodes , malaise , red_spots_over_body',\n",
       "  'sick , concern , weakness_of_one_body_side , altered_sensorium',\n",
       "  'upchuck , sunken_eyes , evaporation , diarrhoea',\n",
       "  'ane suffer been feeling nauseous , and I have lost my appetite . I also feel uneasy and have a pain in my back and muscles .',\n",
       "  'weary , mood_swings , fidget , sweating , diarrhoea , fast_heart_rate , excessive_hunger , muscle_weakness , irritability , abnormal_menstruation',\n",
       "  'spoil , nodal_skin_eruptions , dischromic__patches',\n",
       "  'thrill , cool , watering_from_eyes',\n",
       "  'weariness , weight_gain , cold_hands_and_feets , mood_swings , languor , dizziness , puffy_face_and_eyes , enlarged_thyroid , brittle_nails , swollen_extremeties , depression , irritability , abnormal_menstruation',\n",
       "  'i induce been experiencing a burning sensation when I urinate , and my urine is frequently black , red , and has a really strange odour . I have also been experiencing temperature changes very regularly , which usually prevents me from sleeping at night .',\n",
       "  'rub , cat , yellowish_skin , nausea , loss_of_appetite , yellowing_of_eyes',\n",
       "  'itchiness , vomit_up , fatigue , weight_loss , high_fever , yellowish_skin , dark_urine , abdominal_pain',\n",
       "  \"single 've follow feeling really sick lately . My eyes are red and watery , and I 've had this pressure in my sinuses that wo n't go away . I 'm always feeling tired and I 've been having a lot of trouble breathing . I 've also had a lot of gunk in my throat and my lymph nodes are swollen .\",\n",
       "  'burning_micturition , bladder_discomfort , foul_smell_of_urine , continuous_feel_of_urine',\n",
       "  'efflorescence , high_fever , bleb , red_sore_around_nose , yellow_crust_ooze',\n",
       "  'shivering , regorge , fatigue , weight_loss , cough , high_fever , breathlessness , sweating , loss_of_appetite , mild_fever , yellowing_of_eyes , swelled_lymph_nodes , malaise , phlegm , chest_pain , blood_in_sputum',\n",
       "  'wear_down , yellowish_skin , sickness , loss_of_appetite , yellowing_of_eyes , family_history',\n",
       "  'rash , high_fever , vesicate , red_sore_around_nose , yellow_crust_ooze',\n",
       "  'joint_pain , neck_pain , knee_pain , swelling_joints , painful_walking',\n",
       "  'rub , tiredness , lethargy , yellowish_skin , dark_urine , loss_of_appetite , abdominal_pain , yellow_urine , yellowing_of_eyes , malaise , receiving_blood_transfusion , receiving_unsterile_injections',\n",
       "  'fag_out , mood_swings , weight_loss , queasiness , sweating , diarrhoea , fast_heart_rate , excessive_hunger , muscle_weakness , irritability , abnormal_menstruation',\n",
       "  'halter , injure , obesity , swollen_legs , swollen_blood_vessels , prominent_veins_on_calf',\n",
       "  \"Your coddle Crataegus_oxycantha have very mild symptoms of premature birth or more-serious health problems . Some signs of being born too early include : Small size , with a head that 's large compared with the body . Features that are sharper and less rounded than a full-term baby 's features due to a lack of cells that store fat . Fine hair that covers much of the body . Low body temperature , mainly right after birth in the delivery room . Trouble breathing . Feeding problems . The following tables show the median birth weight , length and head circumference of premature babies at different gestational ages for each sex . Weight , length and head circumference by gestational age for boys Gestational age Weight Length Head circumference 40 weeks 7 lbs. , 15 oz . ( 3.6 kg ) 20 in . ( 51 cm ) 13.8 in . ( 35 cm ) 35 weeks 5 lbs. , 8 oz . ( 2.5 kg ) 18.1 in . ( 46 cm ) 12.6 in . ( 32 cm ) 32 weeks 3 lbs. , 15.5 oz . ( 1.8 kg ) 16.5 in . ( 42 cm ) 11.6 in . ( 29.5 cm ) 28 weeks 2 lbs. , 6.8 oz . ( 1.1 kg ) 14.4 in . ( 36.5 cm ) 10.2 in . ( 26 cm ) 24 weeks 1 lb. , 6.9 oz . ( 0.65 kg ) 12.2 in . ( 31 cm ) 8.7 in . ( 22 cm ) Weight , length and head circumference by gestational age for boys Weight , length and head circumference by gestational age for boys Weight , length and head circumference by gestational age for boys Gestational age Weight Length Head circumference 40 weeks 7 lbs. , 15 oz . ( 3.6 kg ) 20 in . ( 51 cm ) 13.8 in . ( 35 cm ) 35 weeks 5 lbs. , 8 oz . ( 2.5 kg ) 18.1 in . ( 46 cm ) 12.6 in . ( 32 cm ) 32 weeks 3 lbs. , 15.5 oz . ( 1.8 kg ) 16.5 in . ( 42 cm ) 11.6 in . ( 29.5 cm ) 28 weeks 2 lbs. , 6.8 oz . ( 1.1 kg ) 14.4 in . ( 36.5 cm ) 10.2 in . ( 26 cm ) 24 weeks 1 lb. , 6.9 oz . ( 0.65 kg ) 12.2 in . ( 31 cm ) 8.7 in . ( 22 cm ) Gestational age Weight Length Head circumference Gestational age Weight Length Head circumference 40 weeks 7 lbs. , 15 oz . ( 3.6 kg ) 20 in . ( 51 cm ) 13.8 in . ( 35 cm ) 40 weeks 7 lbs. , 15 oz . ( 3.6 kg ) 20 in . ( 51 cm ) 13.8 in . ( 35 cm ) 35 weeks 5 lbs. , 8 oz . ( 2.5 kg ) 18.1 in . ( 46 cm ) 12.6 in . ( 32 cm ) 35 weeks 5 lbs. , 8 oz . ( 2.5 kg ) 18.1 in . ( 46 cm ) 12.6 in . ( 32 cm ) 32 weeks 3 lbs. , 15.5 oz . ( 1.8 kg ) 16.5 in . ( 42 cm ) 11.6 in . ( 29.5 cm ) 32 weeks 3 lbs. , 15.5 oz . ( 1.8 kg ) 16.5 in . ( 42 cm ) 11.6 in . ( 29.5 cm ) 28 weeks 2 lbs. , 6.8 oz . ( 1.1 kg ) 14.4 in . ( 36.5 cm ) 10.2 in . ( 26 cm ) 28 weeks 2 lbs. , 6.8 oz . ( 1.1 kg ) 14.4 in . ( 36.5 cm ) 10.2 in . ( 26 cm ) 24 weeks 1 lb. , 6.9 oz . ( 0.65 kg ) 12.2 in . ( 31 cm ) 8.7 in . ( 22 cm ) 24 weeks 1 lb. , 6.9 oz . ( 0.65 kg ) 12.2 in . ( 31 cm ) 8.7 in . ( 22 cm ) Weight , length and head circumference by gestational age for girls Gestational age Weight Length Head circumference 40 weeks 7 lbs. , 7.9 oz . ( 3.4 kg ) 20 in . ( 51 cm ) 13.8 in . ( 35 cm ) 35 weeks 5 lbs. , 4.7 oz . ( 2.4 kg ) 17.7 in . ( 45 cm ) 12.4 in . ( 31.5 cm ) 32 weeks 3 lbs. , 12 oz . ( 1.7 kg ) 16.5 in . ( 42 cm ) 11.4 in . ( 29 cm ) 28 weeks 2 lbs. , 3.3 oz . ( 1.0 kg ) 14.1 in . ( 36 cm ) 9.8 in . ( 25 cm ) 24 weeks 1 lb. , 5.2 oz . ( 0.60 kg ) 12.6 in . ( 32 cm ) 8.3 in . ( 21 cm ) Weight , length and head circumference by gestational age for girls Weight , length and head circumference by gestational age for girls Weight , length and head circumference by gestational age for girls Gestational age Weight Length Head circumference 40 weeks 7 lbs. , 7.9 oz . ( 3.4 kg ) 20 in . ( 51 cm ) 13.8 in . ( 35 cm ) 35 weeks 5 lbs. , 4.7 oz . ( 2.4 kg ) 17.7 in . ( 45 cm ) 12.4 in . ( 31.5 cm ) 32 weeks 3 lbs. , 12 oz . ( 1.7 kg ) 16.5 in . ( 42 cm ) 11.4 in . ( 29 cm ) 28 weeks 2 lbs. , 3.3 oz . ( 1.0 kg ) 14.1 in . ( 36 cm ) 9.8 in . ( 25 cm ) 24 weeks 1 lb. , 5.2 oz . ( 0.60 kg ) 12.6 in . ( 32 cm ) 8.3 in . ( 21 cm ) Gestational age Weight Length Head circumference Gestational age Weight Length Head circumference 40 weeks 7 lbs. , 7.9 oz . ( 3.4 kg ) 20 in . ( 51 cm ) 13.8 in . ( 35 cm ) 40 weeks 7 lbs. , 7.9 oz . ( 3.4 kg ) 20 in . ( 51 cm ) 13.8 in . ( 35 cm ) 35 weeks 5 lbs. , 4.7 oz . ( 2.4 kg ) 17.7 in . ( 45 cm ) 12.4 in . ( 31.5 cm ) 35 weeks 5 lbs. , 4.7 oz . ( 2.4 kg ) 17.7 in . ( 45 cm ) 12.4 in . ( 31.5 cm ) 32 weeks 3 lbs. , 12 oz . ( 1.7 kg ) 16.5 in . ( 42 cm ) 11.4 in . ( 29 cm ) 32 weeks 3 lbs. , 12 oz . ( 1.7 kg ) 16.5 in . ( 42 cm ) 11.4 in . ( 29 cm ) 28 weeks 2 lbs. , 3.3 oz . ( 1.0 kg ) 14.1 in . ( 36 cm ) 9.8 in . ( 25 cm ) 28 weeks 2 lbs. , 3.3 oz . ( 1.0 kg ) 14.1 in . ( 36 cm ) 9.8 in . ( 25 cm ) 24 weeks 1 lb. , 5.2 oz . ( 0.60 kg ) 12.6 in . ( 32 cm ) 8.3 in . ( 21 cm ) 24 weeks 1 lb. , 5.2 oz . ( 0.60 kg ) 12.6 in . ( 32 cm ) 8.3 in . ( 21 cm ) Special care If you give birth to a preterm baby , your baby will likely need to stay in a special nursery unit at the hospital . Some infants need to spend time in a unit that cares for them and closely tracks their health day and night . This is called a neonatal intensive care unit ( NICU ) . A step down from the NICU is an intermediate care nursery , which provides less intensive care . Special nursery units are staffed with health care providers and a team that 's trained to help preterm babies . NICU Your baby may need extra help feeding and adapting right after delivery . Your health care team can help you understand what 's needed and what your baby 's care plan will be . Feel free to ask them questions .\",\n",
       "  'efflorescence , pus_filled_pimples , blackhead , scurring',\n",
       "  \"male_person generative system Open pop-up dialog box Close Male reproductive system Male reproductive system The male reproductive system makes , stores and moves sperm . Testicles produce sperm . Fluid from the seminal vesicles and prostate gland combine with sperm to make semen . The penis ejaculates semen during sexual intercourse . Male reproductive system Open pop-up dialog box Male reproductive system Open pop-up dialog box Open pop-up dialog box Close Male reproductive system Male reproductive system The male reproductive system makes , stores and moves sperm . Testicles produce sperm . Fluid from the seminal vesicles and prostate gland combine with sperm to make semen . The penis ejaculates semen during sexual intercourse . Close Male reproductive system Male reproductive system The male reproductive system makes , stores and moves sperm . Testicles produce sperm . Fluid from the seminal vesicles and prostate gland combine with sperm to make semen . The penis ejaculates semen during sexual intercourse . Close Male reproductive system Male reproductive system The male reproductive system makes , stores and moves sperm . Testicles produce sperm . Fluid from the seminal vesicles and prostate gland combine with sperm to make semen . The penis ejaculates semen during sexual intercourse . Close Close Close Male reproductive system Male reproductive system The male reproductive system makes , stores and moves sperm . Testicles produce sperm . Fluid from the seminal vesicles and prostate gland combine with sperm to make semen . The penis ejaculates semen during sexual intercourse . Male reproductive system The male reproductive system makes , stores and moves sperm . Testicles produce sperm . Fluid from the seminal vesicles and prostate gland combine with sperm to make semen . The penis ejaculates semen during sexual intercourse . The male reproductive system makes , stores and moves sperm . Testicles produce sperm . Fluid from the seminal vesicles and prostate gland combine with sperm to make semen . The penis ejaculates semen during sexual intercourse . Signs and symptoms of scrotal masses vary depending on the abnormality . Signs and symptoms might include : An unusual lump Sudden pain A dull aching pain or feeling of heaviness in the scrotum Pain that radiates throughout the groin , abdomen or lower back Tender , swollen or hardened testicle Tender , swollen or hardened epididymis ( ep-ih-DID-uh-miss ) , the soft , comma-shaped tube above and behind the testicle that stores and transports sperm Swelling in the scrotum Redness of the skin of the scrotum Nausea or vomiting If the cause of a scrotal mass is an infection , signs and symptoms also might include : Fever Urinary frequency Pus or blood in the urine When to see a doctor Seek emergency medical care if you develop sudden pain in your scrotum . Some conditions require prompt treatment to avoid permanent damage to a testicle . See your doctor if you detect a lump in your scrotum , even if it 's not painful or tender , or if you experience other symptoms of a scrotal mass . Some scrotal masses are more common in children . See your doctor if your child experiences symptoms of a scrotal mass , if you have any concerns about the development of the genitals or if a testicle is “ missing ” — an undescended or retractile testicle , which might increase the risk of some scrotal masses later in life .\",\n",
       "  'worry , sickness , spinning_movements , loss_of_balance , unsteadiness',\n",
       "  'worry , weakness_of_one_body_side , altered_sensorium',\n",
       "  'worry , chest_pain , vertigo , loss_of_balance',\n",
       "  'itchiness , regorge , fatigue , weight_loss , high_fever , yellowish_skin , dark_urine , abdominal_pain',\n",
       "  'single have_got a burning sensation in my stomach and I have to use antacids to get rid of it . I have lost weight and I have a hard time gaining it back .',\n",
       "  'type_A inveterate cough can occur with other signs and symptoms , which may include : A runny or stuffy nose A feeling of liquid running down the back of your throat ( postnasal drip ) Frequent throat clearing and sore throat Hoarseness Wheezing and shortness of breath Heartburn or a sour taste in your mouth In rare cases , coughing up blood',\n",
       "  'scratch , roseola , stomach_pain , burning_micturition , spotting__urination',\n",
       "  'wear_out , strangle , bruising , obesity , swollen_legs , swollen_blood_vessels , prominent_veins_on_calf',\n",
       "  \"fingerbreadth distance in Marfan syndrome Open pop-up dialog box Close Finger length in Marfan syndrome Finger length in Marfan syndrome People who have Marfan syndrome typically have especially long fingers . It 's common for their thumbs to extend far beyond the edge of their hands when they make a fist . Finger length in Marfan syndrome Open pop-up dialog box Finger length in Marfan syndrome Open pop-up dialog box Open pop-up dialog box Close Finger length in Marfan syndrome Finger length in Marfan syndrome People who have Marfan syndrome typically have especially long fingers . It 's common for their thumbs to extend far beyond the edge of their hands when they make a fist . Close Finger length in Marfan syndrome Finger length in Marfan syndrome People who have Marfan syndrome typically have especially long fingers . It 's common for their thumbs to extend far beyond the edge of their hands when they make a fist . Close Finger length in Marfan syndrome Finger length in Marfan syndrome People who have Marfan syndrome typically have especially long fingers . It 's common for their thumbs to extend far beyond the edge of their hands when they make a fist . Close Close Close Finger length in Marfan syndrome Finger length in Marfan syndrome People who have Marfan syndrome typically have especially long fingers . It 's common for their thumbs to extend far beyond the edge of their hands when they make a fist . Finger length in Marfan syndrome People who have Marfan syndrome typically have especially long fingers . It 's common for their thumbs to extend far beyond the edge of their hands when they make a fist . People who have Marfan syndrome typically have especially long fingers . It 's common for their thumbs to extend far beyond the edge of their hands when they make a fist . Longer arms in Marfan syndrome Open pop-up dialog box Close Longer arms in Marfan syndrome Longer arms in Marfan syndrome Marfan syndrome is a genetic disorder that causes people to have unusually long arms , legs and fingers . Your doctor may want to measure your arm span if he or she thinks you might have the disorder . Longer arms in Marfan syndrome Open pop-up dialog box Longer arms in Marfan syndrome Open pop-up dialog box Open pop-up dialog box Close Longer arms in Marfan syndrome Longer arms in Marfan syndrome Marfan syndrome is a genetic disorder that causes people to have unusually long arms , legs and fingers . Your doctor may want to measure your arm span if he or she thinks you might have the disorder . Close Longer arms in Marfan syndrome Longer arms in Marfan syndrome Marfan syndrome is a genetic disorder that causes people to have unusually long arms , legs and fingers . Your doctor may want to measure your arm span if he or she thinks you might have the disorder . Close Longer arms in Marfan syndrome Longer arms in Marfan syndrome Marfan syndrome is a genetic disorder that causes people to have unusually long arms , legs and fingers . Your doctor may want to measure your arm span if he or she thinks you might have the disorder . Close Close Close Longer arms in Marfan syndrome Longer arms in Marfan syndrome Marfan syndrome is a genetic disorder that causes people to have unusually long arms , legs and fingers . Your doctor may want to measure your arm span if he or she thinks you might have the disorder . Longer arms in Marfan syndrome Marfan syndrome is a genetic disorder that causes people to have unusually long arms , legs and fingers . Your doctor may want to measure your arm span if he or she thinks you might have the disorder . Marfan syndrome is a genetic disorder that causes people to have unusually long arms , legs and fingers . Your doctor may want to measure your arm span if he or she thinks you might have the disorder . The signs and symptoms of Marfan syndrome can vary greatly , even among members of the same family , because the disorder can affect so many different areas of the body . Some people experience only mild effects , but others develop life-threatening complications . Marfan syndrome features may include : Tall and slender build Disproportionately long arms , legs and fingers A breastbone that protrudes outward or dips inward A high , arched palate and crowded teeth Heart murmurs Extreme nearsightedness An abnormally curved spine Flat feet\",\n",
       "  \"foretoken and symptom will vary , depending on the severity of the injury , and may include : Pain or tenderness Redness or bruising Limited motion Muscle spasms Swelling Muscle weakness When to see the doctor Mild strains can be treated at home . See a doctor if your symptoms worsen despite treatment — especially if your pain becomes intolerable , or you experience numbness or tingling . Causes Acute strains can be caused by one event , such as using poor body mechanics to lift something heavy . Chronic muscle strains can result from repetitive injuries when you stress a muscle by doing the same motion over and over . Risk factors Participating in contact sports — such as soccer , football , hockey , boxing and wrestling — can increase your risk of muscle strains . Certain parts of the body are more susceptible to strains during participation in certain sports . Examples include : Legs and ankles . Sports that feature quick starts and jumping , such as hurdling and basketball , can be particularly tough on the Achilles tendon in your ankle . Hands . Gripping sports , such as gymnastics or golf , can increase your risk of muscle strains in your hands . Elbows . Elbow strains are often caused by throwing sports and racquet sports . Prevention Regular stretching and strengthening exercises for your sport , fitness or work activity , as part of an overall physical conditioning program , can help to minimize your risk of muscle strains . Try to be in shape to play your sport ; do n't play your sport to get in shape . If you have a physically demanding occupation , regular conditioning can help prevent injuries . By Mayo Clinic Staff By Mayo Clinic Staff Request an appointment Request an appointment Diagnosis & treatment Diagnosis & treatment Diagnosis & treatment Oct. 11 , 2022 Print Print Share on : FacebookTwitter Facebook Twitter Show references Sprains and strains . National Institute of Arthritis and Musculoskeletal and Skin Diseases . https : //www.niams.nih.gov/health-topics/sprains-and-strains/advanced . Accessed April 27 , 2018 . Walls RM , et al. , eds . General principles of orthopedic injuries . In : Rosen 's Emergency Medicine : Concepts and Clinical Practice . 9th ed . Philadelphia , Pa. : Elsevier ; 2018. https : //www.clinicalkey.com . Accessed April 27 , 2018 . Safran MR , et al . Strain . In : Instructions for Sports Medicine Patients . 2nd ed . Philadelphia , Pa. : Elsevier Saunders ; 2012. https : //www.clinicalkey.com . Accessed April 27 , 2018 . Sprains , strains and other soft-tissue injuries . American Academy of Orthopaedic Surgeons . https : //orthoinfo.aaos.org/en/diseases -- conditions/sprains-strains-and-other-soft-tissue-injuries . Accessed April 27 , 2018 . Show references Sprains and strains . National Institute of Arthritis and Musculoskeletal and Skin Diseases . https : //www.niams.nih.gov/health-topics/sprains-and-strains/advanced . Accessed April 27 , 2018 . Walls RM , et al. , eds . General principles of orthopedic injuries . In : Rosen 's Emergency Medicine : Concepts and Clinical Practice . 9th ed . Philadelphia , Pa. : Elsevier ; 2018. https : //www.clinicalkey.com . Accessed April 27 , 2018 . Safran MR , et al . Strain . In : Instructions for Sports Medicine Patients . 2nd ed . Philadelphia , Pa. : Elsevier Saunders ; 2012. https : //www.clinicalkey.com . Accessed April 27 , 2018 . Sprains , strains and other soft-tissue injuries . American Academy of Orthopaedic Surgeons . https : //orthoinfo.aaos.org/en/diseases -- conditions/sprains-strains-and-other-soft-tissue-injuries . Accessed April 27 , 2018 . Sprains and strains . National Institute of Arthritis and Musculoskeletal and Skin Diseases . https : //www.niams.nih.gov/health-topics/sprains-and-strains/advanced . Accessed April 27 , 2018 . Walls RM , et al. , eds . General principles of orthopedic injuries . In : Rosen 's Emergency Medicine : Concepts and Clinical Practice . 9th ed . Philadelphia , Pa. : Elsevier ; 2018. https : //www.clinicalkey.com . Accessed April 27 , 2018 . Safran MR , et al . Strain . In : Instructions for Sports Medicine Patients . 2nd ed . Philadelphia , Pa. : Elsevier Saunders ; 2012. https : //www.clinicalkey.com . Accessed April 27 , 2018 . Sprains , strains and other soft-tissue injuries . American Academy of Orthopaedic Surgeons . https : //orthoinfo.aaos.org/en/diseases -- conditions/sprains-strains-and-other-soft-tissue-injuries . Accessed April 27 , 2018 . Sprains and strains . National Institute of Arthritis and Musculoskeletal and Skin Diseases . https : //www.niams.nih.gov/health-topics/sprains-and-strains/advanced . Accessed April 27 , 2018 . Walls RM , et al. , eds . General principles of orthopedic injuries . In : Rosen 's Emergency Medicine : Concepts and Clinical Practice . 9th ed . Philadelphia , Pa. : Elsevier ; 2018. https : //www.clinicalkey.com . Accessed April 27 , 2018 . Safran MR , et al . Strain . In : Instructions for Sports Medicine Patients . 2nd ed . Philadelphia , Pa. : Elsevier Saunders ; 2012. https : //www.clinicalkey.com . Accessed April 27 , 2018 . Sprains , strains and other soft-tissue injuries . American Academy of Orthopaedic Surgeons . https : //orthoinfo.aaos.org/en/diseases -- conditions/sprains-strains-and-other-soft-tissue-injuries . Accessed April 27 , 2018 . Related Associated Procedures Ultrasound Products & Services Book : Mayo Clinic Book of Home Remedies Related Associated Procedures Ultrasound Associated Procedures Ultrasound\",\n",
       "  'joint_pain , upchuck , yellowish_skin , dark_urine , sickness , loss_of_appetite , abdominal_pain , diarrhoea , mild_fever , yellowing_of_eyes , muscle_pain',\n",
       "  'patches_in_throat , high_fever , extra_marital_contacts',\n",
       "  'be_sick , dyspepsia , loss_of_appetite , abdominal_pain , passage_of_gases , internal_itching',\n",
       "  'roseola , nodal_skin_eruptions , dischromic__patches',\n",
       "  \"single 've be having pain in my calves for a while now . It 's worse when I stand or walk for long periods of time . My legs have also started to swell and I can see some blood vessels that are quite noticeable .\",\n",
       "  'atomic_number_53 take_in been having a lot of skin problems lately . I have red , scaly patches on my skin that are itchy and painful .',\n",
       "  'roseola , high_fever , whip , yellow_crust_ooze',\n",
       "  'efflorescence , pus_filled_pimples , blackhead , scurring',\n",
       "  'outwear , mood_swings , weight_loss , diaphoresis , diarrhoea , fast_heart_rate , excessive_hunger , muscle_weakness , irritability , abnormal_menstruation',\n",
       "  'wear_upon , coughing , breathlessness , family_history , mucoid_sputum',\n",
       "  'retch , vexation , weakness_of_one_body_side , altered_sensorium',\n",
       "  'quiver , vomit , fatigue , weight_loss , cough , high_fever , breathlessness , sweating , loss_of_appetite , mild_fever , yellowing_of_eyes , swelled_lymph_nodes , malaise , phlegm , chest_pain , blood_in_sputum',\n",
       "  'ane take been having trouble with my vision , seeing things as distorted and experiencing visual disturbances . I have also been experiencing headaches .',\n",
       "  'back_pain , weakness_in_limbs , neck_pain , vertigo , loss_of_balance',\n",
       "  'joint_pain , spue , wear , high_fever , yellowish_skin , dark_urine , nausea , loss_of_appetite , abdominal_pain , yellowing_of_eyes , acute_liver_failure , coma , stomach_bleeding',\n",
       "  'rub , outwear , lethargy , yellowish_skin , dark_urine , loss_of_appetite , abdominal_pain , yellow_urine , yellowing_of_eyes , malaise , receiving_blood_transfusion , receiving_unsterile_injections',\n",
       "  'shiver , wear_down , high_fever , breathlessness , sweating , malaise , phlegm , chest_pain , fast_heart_rate , rusty_sputum',\n",
       "  'one receive a runny nose and sneeze a lot . My eyes are sore and watery , and I have a hoarse voice . My head hurts all the time .',\n",
       "  'joint_pain , disgorge , yellowish_skin , dark_urine , sickness , abdominal_pain , diarrhoea , mild_fever , yellowing_of_eyes , muscle_pain',\n",
       "  'puke , sunken_eyes , desiccation , diarrhoea',\n",
       "  'unity stimulate pain in my pelvic area and I vomit a lot . Sometimes there is blood in my pee and it smells really bad . I also get headaches and have trouble sleeping .',\n",
       "  'regurgitation , weary , anxiety , sweating , headache , nausea , blurred_and_distorted_vision , excessive_hunger , drying_and_tingling_lips , slurred_speech , irritability , palpitations',\n",
       "  'scratch , fag_out , lethargy , dark_urine , loss_of_appetite , abdominal_pain , yellow_urine , yellowing_of_eyes , malaise , receiving_blood_transfusion , receiving_unsterile_injections',\n",
       "  \"Male-pattern phalacrosis assailable pop-up dialog box Close Male-pattern baldness Male-pattern baldness Male-pattern baldness typically appears first at the hairline or top of the head . It can progress to partial or complete baldness . Male-pattern baldness Open pop-up dialog box Male-pattern baldness Open pop-up dialog box Open pop-up dialog box Close Male-pattern baldness Male-pattern baldness Male-pattern baldness typically appears first at the hairline or top of the head . It can progress to partial or complete baldness . Close Male-pattern baldness Male-pattern baldness Male-pattern baldness typically appears first at the hairline or top of the head . It can progress to partial or complete baldness . Close Male-pattern baldness Male-pattern baldness Male-pattern baldness typically appears first at the hairline or top of the head . It can progress to partial or complete baldness . Close Close Close Male-pattern baldness Male-pattern baldness Male-pattern baldness typically appears first at the hairline or top of the head . It can progress to partial or complete baldness . Male-pattern baldness Male-pattern baldness typically appears first at the hairline or top of the head . It can progress to partial or complete baldness . Male-pattern baldness typically appears first at the hairline or top of the head . It can progress to partial or complete baldness . Female-pattern baldness Open pop-up dialog box Close Female-pattern baldness Female-pattern baldness Female-pattern baldness typically starts with scalp hairs becoming progressively less dense . Many women first experience hair thinning and hair loss where they part their hair and on the top-central portion of the head . Female-pattern baldness Open pop-up dialog box Female-pattern baldness Open pop-up dialog box Open pop-up dialog box Close Female-pattern baldness Female-pattern baldness Female-pattern baldness typically starts with scalp hairs becoming progressively less dense . Many women first experience hair thinning and hair loss where they part their hair and on the top-central portion of the head . Close Female-pattern baldness Female-pattern baldness Female-pattern baldness typically starts with scalp hairs becoming progressively less dense . Many women first experience hair thinning and hair loss where they part their hair and on the top-central portion of the head . Close Female-pattern baldness Female-pattern baldness Female-pattern baldness typically starts with scalp hairs becoming progressively less dense . Many women first experience hair thinning and hair loss where they part their hair and on the top-central portion of the head . Close Close Close Female-pattern baldness Female-pattern baldness Female-pattern baldness typically starts with scalp hairs becoming progressively less dense . Many women first experience hair thinning and hair loss where they part their hair and on the top-central portion of the head . Female-pattern baldness Female-pattern baldness typically starts with scalp hairs becoming progressively less dense . Many women first experience hair thinning and hair loss where they part their hair and on the top-central portion of the head . Female-pattern baldness typically starts with scalp hairs becoming progressively less dense . Many women first experience hair thinning and hair loss where they part their hair and on the top-central portion of the head . Patchy hair loss ( alopecia areata ) Open pop-up dialog box Close Patchy hair loss ( alopecia areata ) Patchy hair loss ( alopecia areata ) In the type of patchy hair loss known as alopecia areata , hair loss occurs suddenly and usually starts with one or more circular bald patches that may overlap . Patchy hair loss ( alopecia areata ) Open pop-up dialog box Patchy hair loss ( alopecia areata ) Open pop-up dialog box Open pop-up dialog box Close Patchy hair loss ( alopecia areata ) Patchy hair loss ( alopecia areata ) In the type of patchy hair loss known as alopecia areata , hair loss occurs suddenly and usually starts with one or more circular bald patches that may overlap . Close Patchy hair loss ( alopecia areata ) Patchy hair loss ( alopecia areata ) In the type of patchy hair loss known as alopecia areata , hair loss occurs suddenly and usually starts with one or more circular bald patches that may overlap . Close Patchy hair loss ( alopecia areata ) Patchy hair loss ( alopecia areata ) In the type of patchy hair loss known as alopecia areata , hair loss occurs suddenly and usually starts with one or more circular bald patches that may overlap . Close Close Close Patchy hair loss ( alopecia areata ) Patchy hair loss ( alopecia areata ) In the type of patchy hair loss known as alopecia areata , hair loss occurs suddenly and usually starts with one or more circular bald patches that may overlap . Patchy hair loss ( alopecia areata ) In the type of patchy hair loss known as alopecia areata , hair loss occurs suddenly and usually starts with one or more circular bald patches that may overlap . In the type of patchy hair loss known as alopecia areata , hair loss occurs suddenly and usually starts with one or more circular bald patches that may overlap . Traction alopecia Open pop-up dialog box Close Traction alopecia Traction alopecia Hair loss can occur if you wear pigtails , braids or cornrows , or use tight hair rollers . This is called traction alopecia . Traction alopecia Open pop-up dialog box Traction alopecia Open pop-up dialog box Open pop-up dialog box Close Traction alopecia Traction alopecia Hair loss can occur if you wear pigtails , braids or cornrows , or use tight hair rollers . This is called traction alopecia . Close Traction alopecia Traction alopecia Hair loss can occur if you wear pigtails , braids or cornrows , or use tight hair rollers . This is called traction alopecia . Close Traction alopecia Traction alopecia Hair loss can occur if you wear pigtails , braids or cornrows , or use tight hair rollers . This is called traction alopecia . Close Close Close Traction alopecia Traction alopecia Hair loss can occur if you wear pigtails , braids or cornrows , or use tight hair rollers . This is called traction alopecia . Traction alopecia Hair loss can occur if you wear pigtails , braids or cornrows , or use tight hair rollers . This is called traction alopecia . Hair loss can occur if you wear pigtails , braids or cornrows , or use tight hair rollers . This is called traction alopecia . Frontal fibrosing alopecia Open pop-up dialog box Close Frontal fibrosing alopecia Frontal fibrosing alopecia Early treatment of a receding hairline ( frontal fibrosing alopecia ) might help avoid significant permanent baldness . The cause of this condition is unknown , but it primarily affects older women . Frontal fibrosing alopecia Open pop-up dialog box Frontal fibrosing alopecia Open pop-up dialog box Open pop-up dialog box Close Frontal fibrosing alopecia Frontal fibrosing alopecia Early treatment of a receding hairline ( frontal fibrosing alopecia ) might help avoid significant permanent baldness . The cause of this condition is unknown , but it primarily affects older women . Close Frontal fibrosing alopecia Frontal fibrosing alopecia Early treatment of a receding hairline ( frontal fibrosing alopecia ) might help avoid significant permanent baldness . The cause of this condition is unknown , but it primarily affects older women . Close Frontal fibrosing alopecia Frontal fibrosing alopecia Early treatment of a receding hairline ( frontal fibrosing alopecia ) might help avoid significant permanent baldness . The cause of this condition is unknown , but it primarily affects older women . Close Close Close Frontal fibrosing alopecia Frontal fibrosing alopecia Early treatment of a receding hairline ( frontal fibrosing alopecia ) might help avoid significant permanent baldness . The cause of this condition is unknown , but it primarily affects older women . Frontal fibrosing alopecia Early treatment of a receding hairline ( frontal fibrosing alopecia ) might help avoid significant permanent baldness . The cause of this condition is unknown , but it primarily affects older women . Early treatment of a receding hairline ( frontal fibrosing alopecia ) might help avoid significant permanent baldness . The cause of this condition is unknown , but it primarily affects older women . Hair loss can appear in many different ways , depending on what 's causing it . It can come on suddenly or gradually and affect just your scalp or your whole body . Signs and symptoms of hair loss may include : Gradual thinning on top of head . This is the most common type of hair loss , affecting people as they age . In men , hair often begins to recede at the hairline on the forehead . Women typically have a broadening of the part in their hair . An increasingly common hair loss pattern in older women is a receding hairline ( frontal fibrosing alopecia ) . Circular or patchy bald spots . Some people lose hair in circular or patchy bald spots on the scalp , beard or eyebrows . Your skin may become itchy or painful before the hair falls out . Sudden loosening of hair . A physical or emotional shock can cause hair to loosen . Handfuls of hair may come out when combing or washing your hair or even after gentle tugging . This type of hair loss usually causes overall hair thinning but is temporary . Full-body hair loss . Some conditions and medical treatments , such as chemotherapy for cancer , can result in the loss of hair all over your body . The hair usually grows back . Patches of scaling that spread over the scalp . This is a sign of ringworm . It may be accompanied by broken hair , redness , swelling and , at times , oozing .\",\n",
       "  'wear_down , halter , bruising , obesity , swollen_legs , swollen_blood_vessels , prominent_veins_on_calf',\n",
       "  \"iodin get been having back pain , a cough that wo n't go away , and weakness in my arms and legs . My neck hurts and I have been dizzy and have trouble keeping my balance .\",\n",
       "  'regurgitation , outwear , anxiety , sweating , headache , nausea , blurred_and_distorted_vision , excessive_hunger , slurred_speech , irritability , palpitations',\n",
       "  'roseola , joint_pain , skin_peeling , silver_like_dusting , small_dents_in_nails',\n",
       "  'iodine deliver a rash on my cheeks and nose that is spreading to my neck and chest . I also have a fever .',\n",
       "  'wear_down , strangle , bruising , obesity , swollen_legs , swollen_blood_vessels',\n",
       "  'symptom of pseudomembranous inflammatory_bowel_disease may include : Watery diarrhea . Stomach cramps , pain or tenderness . Fever . Pus or mucus in the stool . Nausea . Dehydration . Symptoms of pseudomembranous colitis can begin as soon as 1 to 2 days after you start taking an antibiotic , or as long as several months or longer after you finish taking the antibiotic .',\n",
       "  'thrill , disgorgement , high_fever , sweating , headache , nausea , diarrhoea , muscle_pain',\n",
       "  'muscle_wasting , patches_in_throat , high_fever , extra_marital_contacts',\n",
       "  'ace bear been taking this medication for a while and I have gained a lot of weight . I have also been craving different foods and have been eating more than I used to .',\n",
       "  \"many multitude with von Willebrand disease do n't know it because the signs are mild or absent . The most common sign of the condition is abnormal bleeding . There are three main types of the disease . The amount of bleeding varies from one person to another , depending on the type and severity of the disease . If you have von Willebrand disease , you might have : Excessive bleeding from an injury or after surgery or dental work Frequent nosebleeds that do n't stop within 10 minutes Heavy or long menstrual bleeding Heavy bleeding during labor and delivery Blood in your urine or stool Easy bruising or lumpy bruises Menstrual signs and symptoms might include : Blood clots greater than 1 inch ( 2.5 centimeters ) in diameter in your menstrual flow The need to change your menstrual pad or tampon more than once an hour The need to use double sanitary protection for menstrual flow Symptoms of anemia , including tiredness , fatigue or shortness of breath\",\n",
       "  'upchuck , worry , weakness_of_one_body_side , altered_sensorium',\n",
       "  'stomach_pain , ulcers_on_tongue , cat , coughing , chest_pain',\n",
       "  'spoil , roseola , fatigue , lethargy , high_fever , headache , loss_of_appetite , mild_fever , swelled_lymph_nodes , malaise , red_spots_over_body',\n",
       "  'itch , puke , yellowish_skin , nausea , loss_of_appetite , abdominal_pain , yellowing_of_eyes',\n",
       "  'shudder , wear , cough , high_fever , breathlessness , sweating , malaise , phlegm , chest_pain , fast_heart_rate , rusty_sputum',\n",
       "  'joint_pain , neck_pain , knee_pain , swelling_joints , painful_walking',\n",
       "  'roseola , joint_pain , skin_peeling , silver_like_dusting , small_dents_in_nails',\n",
       "  \"middle aggress Open pop-up dialog box Close Heart attack Heart attack A heart attack occurs when an artery supplying the heart with blood and oxygen becomes blocked . Fatty deposits build up over time , forming plaques in the heart 's arteries . If a plaque ruptures , a blood clot can form and block the arteries , causing a heart attack . During a heart attack , tissue in the heart muscle dies due to lack of blood flow through the heart 's arteries . Heart attack Open pop-up dialog box Heart attack Open pop-up dialog box Open pop-up dialog box Close Heart attack Heart attack A heart attack occurs when an artery supplying the heart with blood and oxygen becomes blocked . Fatty deposits build up over time , forming plaques in the heart 's arteries . If a plaque ruptures , a blood clot can form and block the arteries , causing a heart attack . During a heart attack , tissue in the heart muscle dies due to lack of blood flow through the heart 's arteries . Close Heart attack Heart attack A heart attack occurs when an artery supplying the heart with blood and oxygen becomes blocked . Fatty deposits build up over time , forming plaques in the heart 's arteries . If a plaque ruptures , a blood clot can form and block the arteries , causing a heart attack . During a heart attack , tissue in the heart muscle dies due to lack of blood flow through the heart 's arteries . Close Heart attack Heart attack A heart attack occurs when an artery supplying the heart with blood and oxygen becomes blocked . Fatty deposits build up over time , forming plaques in the heart 's arteries . If a plaque ruptures , a blood clot can form and block the arteries , causing a heart attack . During a heart attack , tissue in the heart muscle dies due to lack of blood flow through the heart 's arteries . Close Close Close Heart attack Heart attack A heart attack occurs when an artery supplying the heart with blood and oxygen becomes blocked . Fatty deposits build up over time , forming plaques in the heart 's arteries . If a plaque ruptures , a blood clot can form and block the arteries , causing a heart attack . During a heart attack , tissue in the heart muscle dies due to lack of blood flow through the heart 's arteries . Heart attack A heart attack occurs when an artery supplying the heart with blood and oxygen becomes blocked . Fatty deposits build up over time , forming plaques in the heart 's arteries . If a plaque ruptures , a blood clot can form and block the arteries , causing a heart attack . During a heart attack , tissue in the heart muscle dies due to lack of blood flow through the heart 's arteries . A heart attack occurs when an artery supplying the heart with blood and oxygen becomes blocked . Fatty deposits build up over time , forming plaques in the heart 's arteries . If a plaque ruptures , a blood clot can form and block the arteries , causing a heart attack . During a heart attack , tissue in the heart muscle dies due to lack of blood flow through the heart 's arteries . Angina symptoms include chest pain and discomfort . The chest pain or discomfort may feel like : Burning Fullness Pressure Squeezing Pain may also be felt in the arms , neck , jaw , shoulder or back . Other symptoms of angina include : Dizziness Fatigue Nausea Shortness of breath Sweating The severity , duration and type of angina can vary . New or different symptoms may signal a more dangerous form of angina ( unstable angina ) or a heart attack . Any new or worsening angina symptoms need to be evaluated immediately by a health care provider who can determine whether you have stable or unstable angina . Angina in women Symptoms of angina in women can be different from the classic angina symptoms . These differences may lead to delays in seeking treatment . For example , chest pain is a common symptom in women with angina , but it may not be the only symptom or the most prevalent symptom for women . Women may also have symptoms such as : Discomfort in the neck , jaw , teeth or back Nausea Shortness of breath Stabbing pain instead of chest pressure Stomach ( abdominal ) pain\",\n",
       "  'stomach_pain , acidulousness , disgorgement , cough , chest_pain',\n",
       "  \"planetary_house and symptom will vary , depending on the severity of the greenstick fracture . Mild fractures might be mistaken for sprains or bruises . More-severe greenstick fractures may cause an obvious deformity , accompanied by significant pain and swelling . When to see a doctor Contact your doctor if your child has persistent pain in an injured limb . Seek immediate medical attention if a child is unable to bear weight or if there is obvious pain , deformity and swelling . Causes Childhood fractures most commonly occur with a fall . Arm fractures are more common than leg fractures , since the common reaction is to throw out your arms to catch yourself when you fall . Risk factors The risk of greenstick fractures is higher in young children because their bones are softer and more flexible than adult bones . In a greenstick fracture , the bone bends and cracks instead of breaking into separate pieces . Most greenstick fractures occur in children under age 10 . By Mayo Clinic Staff By Mayo Clinic Staff Request an appointment Request an appointment Diagnosis & treatment Diagnosis & treatment Diagnosis & treatment Feb. 25 , 2021 Print Print Share on : FacebookTwitter Facebook Twitter Show references Marx JA , et al. , eds . General principles of orthopedic injuries . In : Rosen 's Emergency Medicine : Concepts and Clinical Practice . 8th ed . Philadelphia , Pa. : Saunders Elsevier ; 2014. http : //www.clinicalkey.com . Accessed March 21 , 2016 . Kliegman RM , et al . Common fractures . In : Nelson Textbook of Pediatrics . 20th ed . Philadelphia , Pa. : Elsevier ; 2016. http : //www.clinicalkey.com . Accessed March 21 , 2016 . Schweich P. Distal forearm fractures in children : Diagnosis and assessment . http : //www.uptodate.com/home . Accessed March 21 , 2016 . Mencio GA. Fractures and dislocations of the forearm , wrist and hand . In : Green 's Skeletal Trauma in Children . 5th ed . Philadelphia , Pa. : Saunders Elsevier ; 2015. http : //www.clinicalkey.com . Accessed March 21 , 2016 . Mathison DJ , et al . General principles of fracture management : Fracture patterns and description in children . http : //www.uptodate.com/home . March 21 , 2016 . Schweich P. Distal forearm fractures in children : Initial management . http : //www.uptodate.com/home . Accessed March 21 , 2016 . Schweich P. Closed reduction and casting of distal forearm fractures in children . http : //www.uptodate.com/home . Accessed March 21 , 2016 . Herring JA . Upper extremity injuries . In : Tachdjian 's Pediatric Orthopedics . 5th ed . Philadelphia , Pa. : Saunders Elsevier ; 2014. http : //www.clinicalkey.com . Accessed March 21 , 2016 . Show references Marx JA , et al. , eds . General principles of orthopedic injuries . In : Rosen 's Emergency Medicine : Concepts and Clinical Practice . 8th ed . Philadelphia , Pa. : Saunders Elsevier ; 2014. http : //www.clinicalkey.com . Accessed March 21 , 2016 . Kliegman RM , et al . Common fractures . In : Nelson Textbook of Pediatrics . 20th ed . Philadelphia , Pa. : Elsevier ; 2016. http : //www.clinicalkey.com . Accessed March 21 , 2016 . Schweich P. Distal forearm fractures in children : Diagnosis and assessment . http : //www.uptodate.com/home . Accessed March 21 , 2016 . Mencio GA. Fractures and dislocations of the forearm , wrist and hand . In : Green 's Skeletal Trauma in Children . 5th ed . Philadelphia , Pa. : Saunders Elsevier ; 2015. http : //www.clinicalkey.com . Accessed March 21 , 2016 . Mathison DJ , et al . General principles of fracture management : Fracture patterns and description in children . http : //www.uptodate.com/home . March 21 , 2016 . Schweich P. Distal forearm fractures in children : Initial management . http : //www.uptodate.com/home . Accessed March 21 , 2016 . Schweich P. Closed reduction and casting of distal forearm fractures in children . http : //www.uptodate.com/home . Accessed March 21 , 2016 . Herring JA . Upper extremity injuries . In : Tachdjian 's Pediatric Orthopedics . 5th ed . Philadelphia , Pa. : Saunders Elsevier ; 2014. http : //www.clinicalkey.com . Accessed March 21 , 2016 . Marx JA , et al. , eds . General principles of orthopedic injuries . In : Rosen 's Emergency Medicine : Concepts and Clinical Practice . 8th ed . Philadelphia , Pa. : Saunders Elsevier ; 2014. http : //www.clinicalkey.com . Accessed March 21 , 2016 . Kliegman RM , et al . Common fractures . In : Nelson Textbook of Pediatrics . 20th ed . Philadelphia , Pa. : Elsevier ; 2016. http : //www.clinicalkey.com . Accessed March 21 , 2016 . Schweich P. Distal forearm fractures in children : Diagnosis and assessment . http : //www.uptodate.com/home . Accessed March 21 , 2016 . Mencio GA. Fractures and dislocations of the forearm , wrist and hand . In : Green 's Skeletal Trauma in Children . 5th ed . Philadelphia , Pa. : Saunders Elsevier ; 2015. http : //www.clinicalkey.com . Accessed March 21 , 2016 . Mathison DJ , et al . General principles of fracture management : Fracture patterns and description in children . http : //www.uptodate.com/home . March 21 , 2016 . Schweich P. Distal forearm fractures in children : Initial management . http : //www.uptodate.com/home . Accessed March 21 , 2016 . Schweich P. Closed reduction and casting of distal forearm fractures in children . http : //www.uptodate.com/home . Accessed March 21 , 2016 . Herring JA . Upper extremity injuries . In : Tachdjian 's Pediatric Orthopedics . 5th ed . Philadelphia , Pa. : Saunders Elsevier ; 2014. http : //www.clinicalkey.com . Accessed March 21 , 2016 . Marx JA , et al. , eds . General principles of orthopedic injuries . In : Rosen 's Emergency Medicine : Concepts and Clinical Practice . 8th ed . Philadelphia , Pa. : Saunders Elsevier ; 2014. http : //www.clinicalkey.com . Accessed March 21 , 2016 . Kliegman RM , et al . Common fractures . In : Nelson Textbook of Pediatrics . 20th ed . Philadelphia , Pa. : Elsevier ; 2016. http : //www.clinicalkey.com . Accessed March 21 , 2016 . Schweich P. Distal forearm fractures in children : Diagnosis and assessment . http : //www.uptodate.com/home . Accessed March 21 , 2016 . Mencio GA. Fractures and dislocations of the forearm , wrist and hand . In : Green 's Skeletal Trauma in Children . 5th ed . Philadelphia , Pa. : Saunders Elsevier ; 2015. http : //www.clinicalkey.com . Accessed March 21 , 2016 . Mathison DJ , et al . General principles of fracture management : Fracture patterns and description in children . http : //www.uptodate.com/home . March 21 , 2016 . Schweich P. Distal forearm fractures in children : Initial management . http : //www.uptodate.com/home . Accessed March 21 , 2016 . Schweich P. Closed reduction and casting of distal forearm fractures in children . http : //www.uptodate.com/home . Accessed March 21 , 2016 . Herring JA . Upper extremity injuries . In : Tachdjian 's Pediatric Orthopedics . 5th ed . Philadelphia , Pa. : Saunders Elsevier ; 2014. http : //www.clinicalkey.com . Accessed March 21 , 2016 . Related Greenstick fracture Associated Procedures CT scan Ultrasound X-ray Products & Services Book : Mayo Clinic Guide to Raising a Healthy Child Related Greenstick fracture Greenstick fracture\",\n",
       "  'planetary_house and symptom of trachoma usually affect both eyes and may include : Mild itching and irritation of the eyes and eyelids Eye discharge containing mucus or pus Eyelid swelling Light sensitivity ( photophobia ) Eye pain Eye redness Vision loss Young children are particularly susceptible to infection . But the disease progresses slowly , and the more painful symptoms may not emerge until adulthood . The World Health Organization ( WHO ) has identified five stages in the development of trachoma : Inflammation — follicular . The early infection has five or more follicles — small bumps that contain lymphocytes , a type of white blood cell — visible with magnification on the inner surface of your upper eyelid ( conjunctiva ) . Inflammation — intense . In this stage , your eye is now highly infectious and becomes irritated , with a thickening or swelling of the upper eyelid . Eyelid scarring . Repeated infections lead to scarring of the inner eyelid . The scars often appear as white lines when examined with magnification . Your eyelid may become distorted and may turn in ( entropion ) . In-turned eyelashes ( trichiasis ) . The scarred inner lining of your eyelid continues to deform , causing your lashes to turn in so that they rub on and scratch the transparent outer surface of your eye ( cornea ) . Corneal clouding ( opacity ) . The cornea becomes affected by an inflammation that is most commonly seen under your upper lid . Continuous inflammation compounded by scratching from the in-turned lashes leads to clouding of the cornea . All the signs of trachoma are more severe in your upper lid than in your lower lid . Without intervention , a disease process that begins in childhood can continue to advance into adulthood .',\n",
       "  'throw_up , sunken_eyes , evaporation , diarrhoea',\n",
       "  'burning_micturition , bladder_discomfort , continuous_feel_of_urine',\n",
       "  'scratch , rash , fatigue , lethargy , high_fever , headache , loss_of_appetite , mild_fever , swelled_lymph_nodes , malaise , red_spots_over_body',\n",
       "  'disgorge , weakness_of_one_body_side , altered_sensorium',\n",
       "  'tingle , puking , fatigue , weight_loss , cough , high_fever , breathlessness , loss_of_appetite , mild_fever , yellowing_of_eyes , swelled_lymph_nodes , malaise , phlegm , chest_pain , blood_in_sputum',\n",
       "  \"ane 've make_up having constipation and belly pain for a few days now . The belly pain has been getting worse and is starting to affect my daily life . I also get chills every night , followed by a mild fever .\",\n",
       "  'joint_pain , neck_pain , knee_pain , hip_joint_pain , painful_walking',\n",
       "  'shudder , purge , fatigue , high_fever , headache , nausea , constipation , diarrhoea , toxic_look_ ( typhos ) , belly_pain',\n",
       "  'cat , stomach_upset , loss_of_appetite , abdominal_pain , passage_of_gases , internal_itching',\n",
       "  'retch , yellowish_skin , abdominal_pain , swelling_of_stomach , distention_of_abdomen , history_of_alcohol_consumption , fluid_overload',\n",
       "  'regurgitate , stomach_upset , loss_of_appetite , abdominal_pain , passage_of_gases , internal_itching',\n",
       "  'purge , sunken_eyes , evaporation',\n",
       "  'wear , halter , bruising , obesity , swollen_legs , swollen_blood_vessels , prominent_veins_on_calf',\n",
       "  'stomach_pain , acidulousness , ulcers_on_tongue , be_sick , chest_pain',\n",
       "  \"mansion and symptom of paraneoplastic syndromes of the nervous system can develop relatively quickly , often over days to weeks . Signs and symptoms of paraneoplastic syndromes of the nervous system often begin even before a cancer is diagnosed . Signs and symptoms vary depending on the body part being injured , and may include : Difficulty walking Difficulty maintaining balance Loss of muscle coordination Loss of muscle tone or weakness Loss of fine motor skills , such as picking up objects Difficulty swallowing Slurred speech or stuttering Memory loss and other thinking ( cognitive ) impairment Vision problems Sleep disturbances Seizures Hallucinations Unusual involuntary movements Types of paraneoplastic syndromes Examples of paraneoplastic syndromes of the nervous system include : Cerebellar degeneration ( cerebellar ataxia ) . This is the loss of nerve cells in the area of the brain that controls muscle functions and balance ( cerebellum ) . Signs and symptoms may include unsteady or impaired walking , lack of muscle coordination in your limbs , inability to maintain your trunk posture , dizziness , nausea , involuntary eye movement , double vision , difficulty speaking , or difficulty swallowing . Limbic encephalitis . This is inflammation affecting a region of the brain known as the limbic system , which controls emotions , behaviors and certain memory functions . People with this disorder may experience personality changes or mood disturbances , memory loss , seizures , hallucinations , or drowsiness . Encephalomyelitis . This syndrome refers to inflammation of the brain and spinal cord . There may be a wide variety of symptoms and signs depending on the area affected . Opsoclonus-myoclonus . This syndrome is due to dysfunction of the cerebellum or its connections . It can cause rapid , irregular eye movements ( opsoclonus ) and involuntary , chaotic muscle jerks ( myoclonus ) in your limbs and trunk . Stiff person syndrome . Previously called stiff man syndrome , this syndrome is characterized by progressive , severe muscle stiffness or rigidity , mainly affecting your spine and legs . It may also cause painful muscle spasms . Myelopathy . This term refers to a syndrome of injury limited to the spinal cord . Depending on the level of spinal cord injury , you may have changes in bowel and bladder function , and severe weakness and numbness up to a certain level in your body . If the level of injury includes your neck , you can have severe disability affecting all four limbs . Lambert-Eaton myasthenic syndrome . This is a syndrome caused by disrupted communication between nerves and muscles . Signs and symptoms include pelvic and lower extremity muscle weakness , fatigue , difficulty swallowing , difficulty speaking , irregular eye movement , and double vision . Autonomic nervous system problems can include dry mouth and erectile dysfunction in males . When it occurs as a paraneoplastic syndrome , Lambert-Eaton myasthenic syndrome is typically associated with lung cancer . Myasthenia gravis . Myasthenia gravis is also related to disrupted communication between nerves and muscles and also characterized by weakness and rapid fatigue of any of the muscles that are under voluntary control , including muscles in your face , eyes , arms and legs . The muscles involved in chewing , swallowing , talking and breathing may be affected as well . When myasthenia gravis occurs as a paraneoplastic syndrome , it is typically associated with cancer of the thymus gland ( thymoma ) . Neuromyotonia . Neuromyotonia — also known as Isaacs ' syndrome — is characterized by abnormal impulses in nerve cells outside the brain and spinal cord ( peripheral nerve hyperexcitability ) that control muscle movement . These impulses can cause twitching , muscle rippling that looks like a `` bag of worms , '' progressive stiffness , muscle cramps , slowed movement and other muscle impairments . Peripheral neuropathy . This condition refers to patterns of damage to nerves that transmit messages from the brain or spinal column to the rest of your body . When damage involves only the sensory nerves of the peripheral nervous system , you can have pain and disturbances in sensation anywhere in your body . Dysautonomia . Dysautonomia refers to a wide range of signs and symptoms resulting from injury to the nerves that regulate involuntary body functions ( autonomic nervous system ) , such as heart rate , blood pressure , sweating , and bowel and bladder functions . When this part of the nervous system is affected , common symptoms are low blood pressure , irregular heartbeats and trouble breathing .\",\n",
       "  'thrill , tire_out , cough , high_fever , breathlessness , sweating , malaise , phlegm , chest_pain , fast_heart_rate , rusty_sputum',\n",
       "  'joint_pain , weary , yellowish_skin , dark_urine , sickness , loss_of_appetite , abdominal_pain , yellowing_of_eyes',\n",
       "  'regorge , tire_out , anxiety , headache , nausea , blurred_and_distorted_vision , excessive_hunger , drying_and_tingling_lips , slurred_speech , irritability , palpitations',\n",
       "  'fatigue_duty , weight_gain , cold_hands_and_feets , mood_swings , phlegm , dizziness , puffy_face_and_eyes , enlarged_thyroid , brittle_nails , swollen_extremeties , depression , irritability , abnormal_menstruation',\n",
       "  \"betimes atomic_number_49 chronic kidney disease , you might have no signs or symptoms . As chronic kidney disease progresses to end-stage renal disease , signs and symptoms might include : Nausea Vomiting Loss of appetite Fatigue and weakness Changes in how much you urinate Chest pain , if fluid builds up around the lining of the heart Shortness of breath , if fluid builds up in the lungs Swelling of feet and ankles High blood pressure ( hypertension ) that 's difficult to control Headaches Difficulty sleeping Decreased mental sharpness Muscle twitches and cramps Persistent itching Metallic taste Signs and symptoms of kidney disease are often nonspecific , meaning they can also be caused by other illnesses . Because your kidneys can make up for lost function , signs and symptoms might not appear until irreversible damage has occurred . When to seek care Make an appointment with your health care provider if you have signs or symptoms of kidney disease . If you have a medical condition that increases your risk of kidney disease , your care provider is likely to monitor your kidney function with urine and blood tests and your blood pressure during regular office visits . Ask your provider whether these tests are necessary for you .\",\n",
       "  'tinnitus embody most often described as a ringing in the ears , even though no external sound is present . However , tinnitus can also cause other types of phantom noises in your ears , including : Buzzing Roaring Clicking Hissing Humming Most people who have tinnitus have subjective tinnitus , or tinnitus that only you can hear . The noises of tinnitus may vary in pitch from a low roar to a high squeal , and you may hear it in one or both ears . In some cases , the sound can be so loud it interferes with your ability to concentrate or hear external sound . Tinnitus may be present all the time , or it may come and go . In rare cases , tinnitus can occur as a rhythmic pulsing or whooshing sound , often in time with your heartbeat . This is called pulsatile tinnitus . If you have pulsatile tinnitus , your doctor may be able to hear your tinnitus when he or she does an examination ( objective tinnitus ) .',\n",
       "  'itch , regurgitate , yellowish_skin , nausea , loss_of_appetite , abdominal_pain , yellowing_of_eyes',\n",
       "  'thrill , pall , cough , high_fever , breathlessness , sweating , malaise , phlegm , chest_pain , fast_heart_rate , rusty_sputum',\n",
       "  'shortness_of_breath , sudate , chest_pain',\n",
       "  'continuous_sneezing , shiver , iciness',\n",
       "  'shiver , weary , cough , high_fever , breathlessness , sweating , malaise , phlegm , chest_pain , fast_heart_rate , rusty_sputum',\n",
       "  'efflorescence , joint_pain , skin_peeling , silver_like_dusting , small_dents_in_nails , inflammatory_nails',\n",
       "  'joint_pain , sick , tire_out , yellowish_skin , dark_urine , nausea , loss_of_appetite , abdominal_pain , yellowing_of_eyes , acute_liver_failure , coma , stomach_bleeding',\n",
       "  'joint_pain , barf , wear , high_fever , yellowish_skin , dark_urine , nausea , loss_of_appetite , abdominal_pain , yellowing_of_eyes , acute_liver_failure , coma , stomach_bleeding',\n",
       "  'hypertrophic_rosacea open_air pop-up dialog box Close Rhinophyma Rhinophyma Over time , rosacea can thicken the skin on the nose , causing the nose to appear bulbous ( rhinophyma ) . This occurs more often in men than in women . Rhinophyma Open pop-up dialog box Rhinophyma Open pop-up dialog box Open pop-up dialog box Close Rhinophyma Rhinophyma Over time , rosacea can thicken the skin on the nose , causing the nose to appear bulbous ( rhinophyma ) . This occurs more often in men than in women . Close Rhinophyma Rhinophyma Over time , rosacea can thicken the skin on the nose , causing the nose to appear bulbous ( rhinophyma ) . This occurs more often in men than in women . Close Rhinophyma Rhinophyma Over time , rosacea can thicken the skin on the nose , causing the nose to appear bulbous ( rhinophyma ) . This occurs more often in men than in women . Close Close Close Rhinophyma Rhinophyma Over time , rosacea can thicken the skin on the nose , causing the nose to appear bulbous ( rhinophyma ) . This occurs more often in men than in women . Rhinophyma Over time , rosacea can thicken the skin on the nose , causing the nose to appear bulbous ( rhinophyma ) . This occurs more often in men than in women . Over time , rosacea can thicken the skin on the nose , causing the nose to appear bulbous ( rhinophyma ) . This occurs more often in men than in women . Signs and symptoms of rosacea include : Facial blushing or flushing . Rosacea can cause a persistent blushing or flushing in the central part of your face . This sign of the condition may be difficult to see on brown and Black skin . Visible veins . Small blood vessels of your nose and cheeks break and become visible ( spider veins ) . Swollen bumps . Many people with rosacea also develop pimples on their face that resemble acne . These bumps sometimes contain pus . Burning sensation . The skin of the affected area may feel hot and tender . Eye problems . Many people with rosacea also experience dry , irritated , swollen eyes and eyelids . This is known as ocular rosacea . In some people , the eye symptoms precede the skin symptoms . Enlarged nose . Over time , rosacea can thicken the skin on the nose , causing the nose to appear bulbous ( rhinophyma ) . This occurs more often in men than in women .',\n",
       "  'joint_pain , sick , yellowish_skin , dark_urine , sickness , abdominal_pain , diarrhoea , mild_fever , yellowing_of_eyes , muscle_pain',\n",
       "  \"single 've cost having a lot of itching on my skin , and sometimes it turns into a rash . There are also some weird patches of skin that are a different color than the rest of me , and sometimes I get little pimples that look like nodules .\",\n",
       "  'gelidity , regorge , high_fever , sweating , headache , nausea , diarrhoea , muscle_pain',\n",
       "  \"iodine 've live having a dry cough for a week , and I 'm having trouble breathing . I feel weak and tired .\",\n",
       "  'continuous_sneezing , trembling , watering_from_eyes',\n",
       "  'regurgitation , vexation , spinning_movements , loss_of_balance , unsteadiness',\n",
       "  'burning_micturition , bladder_discomfort , foul_smell_of_urine , continuous_feel_of_urine',\n",
       "  'joint_pain , neck_pain , knee_pain , hip_joint_pain , swelling_joints , painful_walking',\n",
       "  'disgorge , anxiousness , sweating , headache , nausea , blurred_and_distorted_vision , excessive_hunger , drying_and_tingling_lips , slurred_speech , irritability , palpitations',\n",
       "  'tire_out , coughing , high_fever , breathlessness , sweating , malaise , phlegm , chest_pain , fast_heart_rate , rusty_sputum',\n",
       "  'roseola , pus_filled_pimples , comedo , scurring',\n",
       "  'puking , tire , sweating , headache , nausea , blurred_and_distorted_vision , excessive_hunger , drying_and_tingling_lips , slurred_speech , irritability , palpitations',\n",
       "  'signalise and symptom of obstructive sleep apnea include : Excessive daytime sleepiness Loud snoring Observed episodes of stopped breathing during sleep Abrupt awakenings accompanied by gasping or choking Awakening with a dry mouth or sore throat Morning headache Difficulty concentrating during the day Mood changes , such as depression or irritability High blood pressure Decreased libido',\n",
       "  'muscle_weakness , stiff_neck , swelling_joints , movement_stiffness , painful_walking',\n",
       "  'barf , SOB , chest_pain',\n",
       "  'purge , desiccation , diarrhoea',\n",
       "  'The subscribe and symptom of Cushing syndrome can vary depending on the levels of excess cortisol . Common signs and symptoms of Cushing syndrome Weight gain and fatty tissue deposits , particularly around the midsection and upper back , in the face ( moon face ) , and between the shoulders ( buffalo hump ) Pink or purple stretch marks ( striae ) on the skin of the abdomen , thighs , breasts and arms Thinning , fragile skin that bruises easily Slow healing of cuts , insect bites and infections Acne Signs and symptoms women with Cushing syndrome may experience Thicker or more visible body and facial hair ( hirsutism ) Irregular or absent menstrual periods Signs and symptoms men with Cushing syndrome may experience Decreased sex drive Decreased fertility Erectile dysfunction Other possible signs and symptoms of Cushing syndrome Severe fatigue Muscle weakness Depression , anxiety and irritability Loss of emotional control Cognitive difficulties New or worsened high blood pressure Headache Infections Skin darkening Bone loss , leading to fractures over time In children , impaired growth',\n",
       "  'male_person procreative system Open pop-up dialog box Close Male reproductive system Male reproductive system The male reproductive system makes , stores and moves sperm . Testicles produce sperm . Fluid from the seminal vesicles and prostate gland combine with sperm to make semen . The penis ejaculates semen during sexual intercourse . Male reproductive system Open pop-up dialog box Male reproductive system Open pop-up dialog box Open pop-up dialog box Close Male reproductive system Male reproductive system The male reproductive system makes , stores and moves sperm . Testicles produce sperm . Fluid from the seminal vesicles and prostate gland combine with sperm to make semen . The penis ejaculates semen during sexual intercourse . Close Male reproductive system Male reproductive system The male reproductive system makes , stores and moves sperm . Testicles produce sperm . Fluid from the seminal vesicles and prostate gland combine with sperm to make semen . The penis ejaculates semen during sexual intercourse . Close Male reproductive system Male reproductive system The male reproductive system makes , stores and moves sperm . Testicles produce sperm . Fluid from the seminal vesicles and prostate gland combine with sperm to make semen . The penis ejaculates semen during sexual intercourse . Close Close Close Male reproductive system Male reproductive system The male reproductive system makes , stores and moves sperm . Testicles produce sperm . Fluid from the seminal vesicles and prostate gland combine with sperm to make semen . The penis ejaculates semen during sexual intercourse . Male reproductive system The male reproductive system makes , stores and moves sperm . Testicles produce sperm . Fluid from the seminal vesicles and prostate gland combine with sperm to make semen . The penis ejaculates semen during sexual intercourse . The male reproductive system makes , stores and moves sperm . Testicles produce sperm . Fluid from the seminal vesicles and prostate gland combine with sperm to make semen . The penis ejaculates semen during sexual intercourse . Female reproductive system Open pop-up dialog box Close Female reproductive system Female reproductive system The ovaries , fallopian tubes , uterus , cervix and vagina , also called the vaginal canal , make up the female reproductive system . Female reproductive system Open pop-up dialog box Female reproductive system Open pop-up dialog box Open pop-up dialog box Close Female reproductive system Female reproductive system The ovaries , fallopian tubes , uterus , cervix and vagina , also called the vaginal canal , make up the female reproductive system . Close Female reproductive system Female reproductive system The ovaries , fallopian tubes , uterus , cervix and vagina , also called the vaginal canal , make up the female reproductive system . Close Female reproductive system Female reproductive system The ovaries , fallopian tubes , uterus , cervix and vagina , also called the vaginal canal , make up the female reproductive system . Close Close Close Female reproductive system Female reproductive system The ovaries , fallopian tubes , uterus , cervix and vagina , also called the vaginal canal , make up the female reproductive system . Female reproductive system The ovaries , fallopian tubes , uterus , cervix and vagina , also called the vaginal canal , make up the female reproductive system . The ovaries , fallopian tubes , uterus , cervix and vagina , also called the vaginal canal , make up the female reproductive system . In many cases , gonorrhea infection causes no symptoms . Symptoms , however , can affect many sites in your body , but commonly appear in the genital tract . Gonorrhea affecting the genital tract Signs and symptoms of gonorrhea infection in men include : Painful urination Pus-like discharge from the tip of the penis Pain or swelling in one testicle Signs and symptoms of gonorrhea infection in women include : Increased vaginal discharge Painful urination Vaginal bleeding between periods , such as after vaginal intercourse Abdominal or pelvic pain Gonorrhea at other sites in the body Gonorrhea can also affect these parts of the body : Rectum . Signs and symptoms include anal itching , pus-like discharge from the rectum , spots of bright red blood on toilet tissue and having to strain during bowel movements . Eyes . Gonorrhea that affects your eyes can cause eye pain , sensitivity to light , and pus-like discharge from one or both eyes . Throat . Signs and symptoms of a throat infection might include a sore throat and swollen lymph nodes in the neck . Joints . If one or more joints become infected by bacteria ( septic arthritis ) , the affected joints might be warm , red , swollen and extremely painful , especially during movement . When to see your doctor Make an appointment with your doctor if you notice any troubling signs or symptoms , such as a burning sensation when you urinate or a pus-like discharge from your penis , vagina or rectum . Also make an appointment with your doctor if your partner has been diagnosed with gonorrhea . You may not experience signs or symptoms that prompt you to seek medical attention . But without treatment , you can reinfect your partner even after he or she has been treated for gonorrhea .',\n",
       "  'spoil , upchuck , nausea , loss_of_appetite , abdominal_pain , yellowing_of_eyes',\n",
       "  'mumps subject pop-up dialog box Close Mumps Mumps A common symptom of mumps is painful swelling on one or both sides of the face . Mumps Open pop-up dialog box Mumps Open pop-up dialog box Open pop-up dialog box Close Mumps Mumps A common symptom of mumps is painful swelling on one or both sides of the face . Close Mumps Mumps A common symptom of mumps is painful swelling on one or both sides of the face . Close Mumps Mumps A common symptom of mumps is painful swelling on one or both sides of the face . Close Close Close Mumps Mumps A common symptom of mumps is painful swelling on one or both sides of the face . Mumps A common symptom of mumps is painful swelling on one or both sides of the face . A common symptom of mumps is painful swelling on one or both sides of the face . Symptoms of mumps show up about 2 to 3 weeks after exposure to the virus . Some people may have no symptoms or very mild symptoms . The first symptoms may be similar to flu symptoms such as : Fever . Headache . Muscle aches or pain . Not wanting to eat . Tiredness . Swelling of the salivary glands usually starts within a few days . Symptoms may include : Swelling of one or both glands on the sides of the face . Pain or tenderness around the swelling . Less often , swelling of glands below the floor of the mouth .',\n",
       "  'joint_pain , neck_pain , knee_pain , hip_joint_pain , painful_walking',\n",
       "  'stomach_pain , ulcers_on_tongue , be_sick , coughing , chest_pain',\n",
       "  \"iodine 'm consume trouble breathing and I feel really uncomfortable . I 'm sweating a lot and my throat is really sore . My chest hurts and my heart is beating fast . I 'm coughing up a lot of mucus and it 's brown .\",\n",
       "  'cat , dyspepsia , loss_of_appetite , abdominal_pain , passage_of_gases , internal_itching',\n",
       "  'My musculus cost weak and my neck is stiff . My joints are swollen , which makes it hard for me to walk without feeling stiff . Walking is also uncomfortable .',\n",
       "  \"around multitude have no symptoms in the early stages of avascular necrosis . As the condition worsens , affected joints might hurt only when putting weight on them . Eventually , you might feel the pain even when you 're lying down . Pain can be mild or severe . It usually develops gradually . Pain associated with avascular necrosis of the hip might center on the groin , thigh or buttock . Besides the hip , the shoulder , knee , hand and foot can be affected . Some people develop avascular necrosis on both sides , such as in both hips or in both knees .\",\n",
       "  'mass feel dizziness may describe it as any of a number of sensations , such as : A false sense of motion or spinning ( vertigo ) Lightheadedness or feeling faint Unsteadiness or a loss of balance A feeling of floating , wooziness or heavy-headedness These feelings may be triggered or worsened by walking , standing up or moving your head . Your dizziness may be accompanied by nausea or be so sudden or severe that you need to sit or lie down . The episode may last seconds or days and may recur .',\n",
       "  'spew , stomach_upset , loss_of_appetite , abdominal_pain , passage_of_gases , internal_itching',\n",
       "  \"symptom of self-loving personality disorder and how severe they are can vary . People with the disorder can : Have an unreasonably high sense of self-importance and require constant , excessive admiration . Feel that they deserve privileges and special treatment . Expect to be recognized as superior even without achievements . Make achievements and talents seem bigger than they are . Be preoccupied with fantasies about success , power , brilliance , beauty or the perfect mate . Believe they are superior to others and can only spend time with or be understood by equally special people . Be critical of and look down on people they feel are not important . Expect special favors and expect other people to do what they want without questioning them . Take advantage of others to get what they want . Have an inability or unwillingness to recognize the needs and feelings of others . Be envious of others and believe others envy them . Behave in an arrogant way , brag a lot and come across as conceited . Insist on having the best of everything — for instance , the best car or office . At the same time , people with narcissistic personality disorder have trouble handling anything they view as criticism . They can : Become impatient or angry when they do n't receive special recognition or treatment . Have major problems interacting with others and easily feel slighted . React with rage or contempt and try to belittle other people to make themselves appear superior . Have difficulty managing their emotions and behavior . Experience major problems dealing with stress and adapting to change . Withdraw from or avoid situations in which they might fail . Feel depressed and moody because they fall short of perfection . Have secret feelings of insecurity , shame , humiliation and fear of being exposed as a failure .\",\n",
       "  'wear_out , yellowish_skin , sickness , loss_of_appetite , yellowing_of_eyes , family_history',\n",
       "  'unity look sick , queasy , and wobbly . My throat is swollen and makes it hard for me to breathe . My chest hurts sometimes at night , and I sometimes feel sick .',\n",
       "  'itch , cat , yellowish_skin , loss_of_appetite , abdominal_pain , yellowing_of_eyes',\n",
       "  \"hepatitis axerophthol symptoms typically appear a few weeks after you 've had the virus . But not everyone with hepatitis A develops symptoms . If you do , symptoms can include : Unusual tiredness and weakness Sudden nausea and vomiting and diarrhea Abdominal pain or discomfort , especially on the upper right side beneath your lower ribs , which is over your liver Clay- or gray-colored stool Loss of appetite Low-grade fever Dark urine Joint pain Yellowing of the skin and the whites of your eyes ( jaundice ) Intense itching These symptoms may be relatively mild and go away in a few weeks . Sometimes , however , hepatitis A results in a severe illness that lasts several months .\",\n",
       "  'joint_pain , emesis , yellowish_skin , dark_urine , sickness , abdominal_pain , diarrhoea , mild_fever , yellowing_of_eyes , muscle_pain',\n",
       "  \"natator 's pinna symptoms are usually mild at first , but they can worsen if your infection is n't treated or spreads . Doctors often classify swimmer 's ear according to mild , moderate and advanced stages of progression . Mild signs and symptoms Itching in your ear canal Slight redness inside your ear Mild discomfort that 's made worse by pulling on your outer ear ( pinna or auricle ) or pushing on the little `` bump '' in front of your ear ( tragus ) Some drainage of clear , odorless fluid Moderate progression More-intense itching Increasing pain More-extensive redness in your ear Excessive fluid drainage Feeling of fullness inside your ear and partial blockage of your ear canal by swelling , fluid and debris Decreased or muffled hearing Advanced progression Severe pain that might radiate to your face , neck or side of your head Complete blockage of your ear canal Redness or swelling of your outer ear Swelling in the lymph nodes in your neck Fever\",\n",
       "  \"atomic_number_53 've cost having a strange odor in my urine , it 's been red or black , and both . My body temperature has been fluctuating a lot , and it keeps me up at night .\",\n",
       "  'rash , frisson , joint_pain , vomiting , fatigue , high_fever , headache , nausea , loss_of_appetite , pain_behind_the_eyes , back_pain , muscle_pain , red_spots_over_body',\n",
       "  \"signal and symptom of a brain tumor in children vary greatly and depend on the brain tumor type , size , location and rate of growth . Some signs and symptoms may not be easy to detect because they 're similar to symptoms of other conditions . Some of the more common symptoms of a brain tumor in children include : Headaches , which may become more frequent and more severe Feeling of increased pressure in the head Unexplained nausea or vomiting Abrupt onset of vision problems , such double vision Other possible signs and symptoms , depending on the tumor location , include : A fuller soft spot ( fontanel ) on the skull in babies Seizures , especially when there 's no history of seizures Abnormal eye movement Slurred speech Trouble swallowing Loss of appetite ; or in babies , difficulty feeding Difficulty with balance Trouble walking Weakness or loss of sensation in an arm or a leg Weakness or drooping on one side on the face Confusion , irritability Memory problems Personality or behavior changes Hearing problems\",\n",
       "  'joint_pain , vomit , fag , high_fever , yellowish_skin , dark_urine , nausea , loss_of_appetite , abdominal_pain , yellowing_of_eyes , acute_liver_failure , coma , stomach_bleeding',\n",
       "  \"pemphigus causa blisters on your skin and mucous membranes . The blisters rupture easily , leaving open sores , which may ooze and become infected . The signs and symptoms of two common types of pemphigus are as follows : Pemphigus vulgaris . This type usually begins with blisters in your mouth and then on your skin or genital mucous membranes . The blisters typically are painful but do n't itch . Blisters in your mouth or throat may make it hard to swallow and eat . Pemphigus foliaceus . This type causes blisters on the chest , back and shoulders . The blisters tend to be more itchy than painful . Pemphigus foliaceus does n't cause mouth blisters . Pemphigus is distinct from bullous pemphigoid , which is a blistering skin condition that affects older adults and may cause death .\",\n",
       "  \"ace 've personify having a fever , chills , and vomiting . I 've also been sweating a lot and have a headache . I 've also been feeling nauseous and my muscles are aching .\",\n",
       "  'cat , sunken_eyes , evaporation , diarrhoea',\n",
       "  \"iodin give_birth red , watery eyes and my sinuses are tight . I have trouble breathing and I 'm tired . My lymph nodes are swollen and I have a lot of throat mucous .\",\n",
       "  'regurgitate , sunken_eyes , diarrhea',\n",
       "  \"tyke and grownup Initially , you may not even notice symptoms of oral thrush . Signs and symptoms may include : Creamy white lesions on your tongue , inner cheeks , and sometimes on the roof of your mouth , gums and tonsils Slightly raised lesions with a cottage cheese-like appearance Redness , burning or soreness that may be severe enough to cause difficulty eating or swallowing Slight bleeding if the lesions are rubbed or scraped Cracking and redness at the corners of your mouth A cottony feeling in your mouth Loss of taste Redness , irritation and pain under dentures ( denture stomatitis ) In severe cases , usually related to cancer or a weakened immune system from HIV/AIDS , the lesions may spread downward into your esophagus — the long , muscular tube stretching from the back of your mouth to your stomach ( Candida esophagitis ) . If this occurs , you may experience difficulty swallowing and pain or feel as if food is getting stuck in your throat . Infants and breast-feeding mothers In addition to the distinctive white mouth lesions , infants may have trouble feeding or be fussy and irritable . They can pass the infection to their mothers during breast-feeding . The infection may then pass back and forth between the mother 's breasts and the baby 's mouth . Women whose breasts are infected with candida may experience these signs and symptoms : Unusually red , sensitive , cracked or itchy nipples Shiny or flaky skin on the darker , circular area around the nipple ( areola ) Unusual pain during nursing or painful nipples between feedings Stabbing pains deep within the breast When to see a doctor If you or your child develops white lesions inside the mouth , see your doctor or dentist . Thrush is uncommon in healthy older children , teenagers and adults , so if thrush develops , see your doctor to determine if further evaluation is needed to check for an underlying medical condition or other cause .\",\n",
       "  'stomach_upset , loss_of_appetite , abdominal_pain , passage_of_gases , internal_itching',\n",
       "  \"sign_up and symptom of transverse myelitis usually develop over a few hours to a few days and may sometimes progress gradually over several weeks . Transverse myelitis usually affects both sides of the body below the affected area of the spinal cord , but sometimes there are symptoms on just one side of the body . Typical signs and symptoms include : Pain . Transverse myelitis pain may begin suddenly in your lower back . Sharp pain may shoot down your legs or arms or around your chest or abdomen . Pain symptoms vary based on the part of your spinal cord that 's affected . Abnormal sensations . Some people with transverse myelitis report sensations of numbness , tingling , coldness or burning . Some are especially sensitive to the light touch of clothing or to extreme heat or cold . You may feel as if something is tightly wrapping the skin of your chest , abdomen or legs . Weakness in your arms or legs . Some people notice heaviness in the legs , or that they 're stumbling or dragging one foot . Others may develop severe weakness or even total paralysis . Bladder and bowel problems . This may include needing to urinate more frequently , urinary incontinence , difficulty urinating and constipation .\",\n",
       "  'quiver , outwear , cough , high_fever , breathlessness , sweating , malaise , phlegm , chest_pain , fast_heart_rate , rusty_sputum',\n",
       "  'sick , dyspepsia , loss_of_appetite , abdominal_pain , passage_of_gases , internal_itching',\n",
       "  'barf , cephalalgia , nausea , spinning_movements , loss_of_balance , unsteadiness',\n",
       "  'efflorescence , joint_pain , skin_peeling , silver_like_dusting , small_dents_in_nails , inflammatory_nails',\n",
       "  'retch , dyspepsia , loss_of_appetite , abdominal_pain , passage_of_gases , internal_itching',\n",
       "  'ace ingest varicose veins on my legs . They are swollen and protrude from my skin . They are very uncomfortable .',\n",
       "  'worry , lightheadedness , loss_of_balance , lack_of_concentration',\n",
       "  \"i induce a burning sensation when I pee . Sometimes it 's really painful and my urine smells bad . I have to pee more often , especially at night .\",\n",
       "  \"furuncle seethe can occur anywhere on your skin , but appear mainly on the face , back of the neck , armpits , thighs and buttocks — hair-bearing areas where you 're most likely to sweat or experience friction . Signs and symptoms of a boil usually include : A painful , red bump that starts out small and can enlarge to more than 2 inches ( 5 centimeters ) Reddish or purplish , swollen skin around the bump An increase in the size of the bump over a few days as it fills with pus Development of a yellow-white tip that eventually ruptures and allows the pus to drain out Carbuncles A carbuncle is a cluster of boils that form a connected area of infection . Compared with single boils , carbuncles cause a deeper and more severe infection and are more likely to leave a scar . People who have a carbuncle often feel unwell in general and may experience a fever and chills .\",\n",
       "  'stomach_pain , ulcers_on_tongue , disgorge , coughing , chest_pain',\n",
       "  'sourness , stomach_upset , headache , blurred_and_distorted_vision , excessive_hunger , stiff_neck , depression , irritability , visual_disturbances',\n",
       "  'itchiness , wear_out , lethargy , yellowish_skin , dark_urine , loss_of_appetite , abdominal_pain , yellow_urine , yellowing_of_eyes , malaise , receiving_blood_transfusion , receiving_unsterile_injections',\n",
       "  'scratch , roseola , stomach_pain , burning_micturition , spotting__urination',\n",
       "  'spoil , efflorescence , fatigue , lethargy , high_fever , headache , loss_of_appetite , mild_fever , malaise , red_spots_over_body',\n",
       "  \"i 've personify having a hard time eating and swallowing . My nose is running and my throat hurts .\",\n",
       "  'spue , cephalalgia , altered_sensorium',\n",
       "  'rash , pus_filled_pimples , blackhead , scurring',\n",
       "  'burning_micturition , bladder_discomfort , continuous_feel_of_urine',\n",
       "  'joint_pain , regorge , weariness , yellowish_skin , dark_urine , nausea , loss_of_appetite , abdominal_pain , yellowing_of_eyes',\n",
       "  'continuous_sneezing , thrill , shudder , watering_from_eyes',\n",
       "  'joint_pain , spue , outwear , high_fever , yellowish_skin , dark_urine , nausea , loss_of_appetite , abdominal_pain , yellowing_of_eyes , coma , stomach_bleeding',\n",
       "  'regurgitation , wear_upon , anxiety , sweating , headache , nausea , blurred_and_distorted_vision , excessive_hunger , drying_and_tingling_lips , slurred_speech , irritability , palpitations',\n",
       "  'efflorescence , frisson , joint_pain , vomiting , fatigue , high_fever , headache , nausea , loss_of_appetite , pain_behind_the_eyes , back_pain , malaise , muscle_pain , red_spots_over_body',\n",
       "  'regurgitate , cephalalgia , weakness_of_one_body_side , altered_sensorium',\n",
       "  'efflorescence , blackhead , scurring',\n",
       "  'itchiness , throw_up , yellowish_skin , loss_of_appetite , abdominal_pain , yellowing_of_eyes',\n",
       "  'joint_pain , yellowish_skin , dark_urine , sickness , loss_of_appetite , abdominal_pain , diarrhea , mild_fever , yellowing_of_eyes , muscle_pain',\n",
       "  \"iodin induce a stuffy nose and a blocked nose . I also have stiffness and chest pain sometimes at night . I ca n't taste or smell anything .\",\n",
       "  \"ratify and symptom of TMJ disorders may include : Pain or tenderness of your jaw Pain in one or both of the temporomandibular joints Aching pain in and around your ear Difficulty chewing or pain while chewing Aching facial pain Locking of the joint , making it difficult to open or close your mouth TMJ disorders can also cause a clicking sound or grating sensation when you open your mouth or chew . But if there 's no pain or limitation of movement associated with your jaw clicking , you probably do n't need treatment for a TMJ disorder .\",\n",
       "  \"one 've personify feeling really sick and tired . I 've lost weight and have a fever . My urine is dark and my skin is yellow . I also have stomach pain .\",\n",
       "  \"If you operating_theater soul you 're with may be having a stroke , pay particular attention to the time the symptoms began . Some treatment options are most effective when given soon after a stroke begins . Signs and symptoms of stroke include : Trouble speaking and understanding what others are saying . You may experience confusion , slur words or have difficulty understanding speech . Paralysis or numbness of the face , arm or leg . You may develop sudden numbness , weakness or paralysis in the face , arm or leg . This often affects just one side of the body . Try to raise both your arms over your head at the same time . If one arm begins to fall , you may be having a stroke . Also , one side of your mouth may droop when you try to smile . Problems seeing in one or both eyes . You may suddenly have blurred or blackened vision in one or both eyes , or you may see double . Headache . A sudden , severe headache , which may be accompanied by vomiting , dizziness or altered consciousness , may indicate that you 're having a stroke . Trouble walking . You may stumble or lose your balance . You may also have sudden dizziness or a loss of coordination .\",\n",
       "  'ace possess rashes that sometimes peel off my skin . This makes me more likely to get infections . My hands shake and I sometimes have tremors .',\n",
       "  \"one 've represent vomiting and having diarrhea for a few days , and I 'm having a hard time staying hydrated . I also have a mild fever and stomach pain .\",\n",
       "  'puking , tire_out , anxiety , sweating , headache , nausea , blurred_and_distorted_vision , excessive_hunger , drying_and_tingling_lips , slurred_speech , irritability , palpitations',\n",
       "  'rub , wear_down , lethargy , yellowish_skin , dark_urine , loss_of_appetite , abdominal_pain , yellowing_of_eyes , malaise , receiving_blood_transfusion , receiving_unsterile_injections',\n",
       "  \"unity 've personify feeling really run down lately . I 've had a cough that just wo n't go away , and it 's starting to hurt when I cough . My chest feels tight , and my heart is racing . I 've also been coughing up some phlegm that 's a weird color .\",\n",
       "  \"close_to world with delayed ejaculation need 30 minutes or more of sexual stimulation to have an orgasm and ejaculate . Other men might not be able to ejaculate at all ( anejaculation ) . But , there 's no specific time that indicates a diagnosis of delayed ejaculation . Instead , you are probably experiencing delayed ejaculation if the delay is causing distress or frustration , or if you have to stop sexual activity due to fatigue , physical irritation , loss of erection or a request from your partner . Often , men might have difficulty reaching orgasm during sexual intercourse or other sexual activities with a partner . Some men can ejaculate only when masturbating . Delayed ejaculation is divided into the following types based on symptoms : Lifelong vs. acquired . With lifelong delayed ejaculation , the problem is present from the time of sexual maturity . Acquired delayed ejaculation occurs after a period of normal sexual functioning . Generalized vs. situational . Generalized delayed ejaculation is n't limited to certain sex partners or certain kinds of stimulation . Situational delayed ejaculation occurs only under certain circumstances . These categories help in diagnosing an underlying cause and determining what might be the most effective treatment .\",\n",
       "  \"some hoi_polloi carry C. difficile bacteria in their intestines but never become sick . These individuals are carriers of the bacteria and may spread infections . Signs and symptoms usually develop within 5 to 10 days after starting a course of antibiotics . However , they may occur as soon as the first day or up to three months later . Mild to moderate infection The most common signs and symptoms of mild to moderate C. difficile infection are : Watery diarrhea three or more times a day for more than one day Mild abdominal cramping and tenderness Severe infection People who have a severe C. difficile infection tend to become dehydrated and may need to be hospitalized . C. difficile can cause the colon to become inflamed and sometimes form patches of raw tissue that can bleed or produce pus . Signs and symptoms of severe infection include : Watery diarrhea as often as 10 to 15 times a day Abdominal cramping and pain , which may be severe Rapid heart rate Dehydration Fever Nausea Increased white blood cell count Kidney failure Loss of appetite Swollen abdomen Weight loss Blood or pus in the stool C. difficile infection that is severe and sudden , an uncommon condition , may also cause intestinal inflammation leading to enlargement of the colon ( also called toxic megacolon ) and sepsis . Sepsis is a life-threatening condition that occurs when the body 's response to an infection damages its own tissues . People who have these conditions are admitted to the intensive care unit .\",\n",
       "  'scratch , efflorescence , stomach_pain , burning_micturition , spotting__urination',\n",
       "  'impairment , pain_during_bowel_movements , pain_in_anal_region , bloody_stool , irritation_in_anus',\n",
       "  'The nearly mutual sign of alcoholic hepatitis is yellowing of the skin and whites of the eyes ( jaundice ) . Other signs and symptoms include : Loss of appetite Nausea and vomiting Abdominal tenderness Fever , often low grade Fatigue and weakness Malnutrition is common in people with alcoholic hepatitis . Drinking large amounts of alcohol suppresses the appetite , and heavy drinkers get most of their calories from alcohol . Additional signs and symptoms that occur with severe alcoholic hepatitis include : Fluid accumulation in your abdomen ( ascites ) Confusion and behavior changes due to a buildup of toxins normally broken down and eliminated by the liver Kidney and liver failure',\n",
       "  'foretoken and symptom of menorrhagia may include : Soaking through one or more sanitary pads or tampons every hour for several consecutive hours Needing to use double sanitary protection to control your menstrual flow Needing to wake up to change sanitary protection during the night Bleeding for longer than a week Passing blood clots larger than a quarter Restricting daily activities due to heavy menstrual flow Symptoms of anemia , such as tiredness , fatigue or shortness of breath',\n",
       "  'tingle , high_fever , sudation , headache , nausea , diarrhoea , muscle_pain',\n",
       "  'joint_pain , neck_pain , knee_pain , hip_joint_pain , swelling_joints , painful_walking',\n",
       "  'spoil , rash , nodal_skin_eruptions , dischromic__patches',\n",
       "  'cool , puking , fatigue , high_fever , headache , nausea , constipation , abdominal_pain , diarrhoea , toxic_look_ ( typhos ) , belly_pain',\n",
       "  'stomach_pain , sour , ulcers_on_tongue , spew , cough , chest_pain',\n",
       "  'cool , upchuck , fatigue , weight_loss , cough , high_fever , breathlessness , sweating , loss_of_appetite , mild_fever , yellowing_of_eyes , swelled_lymph_nodes , malaise , phlegm , chest_pain , blood_in_sputum',\n",
       "  'honk , sunken_eyes , desiccation',\n",
       "  'iciness , weariness , cough , breathlessness , sweating , malaise , phlegm , chest_pain , fast_heart_rate , rusty_sputum',\n",
       "  'rash , pus_filled_pimples , comedo , scurring',\n",
       "  'itchiness , barf , weight_loss , high_fever , yellowish_skin , dark_urine , abdominal_pain',\n",
       "  'burning_micturition , bladder_discomfort , foul_smell_of_urine , continuous_feel_of_urine',\n",
       "  'roseola , joint_pain , skin_peeling , small_dents_in_nails , inflammatory_nails',\n",
       "  'joint_pain , retch , yellowish_skin , dark_urine , sickness , loss_of_appetite , abdominal_pain , diarrhoea , mild_fever , yellowing_of_eyes , muscle_pain',\n",
       "  'itchiness , throw_up , yellowish_skin , nausea , loss_of_appetite , abdominal_pain , yellowing_of_eyes',\n",
       "  \"symptom of Prosper_Meniere 's disease include : Regular dizzy spells . You have a spinning feeling that starts and stops suddenly . Vertigo may start without warning . It usually lasts 20 minutes to 12 hours , but not more than 24 hours . Serious vertigo can cause nausea . Hearing loss . Hearing loss in Meniere 's disease may come and go , especially early on . Over time , hearing loss can be long-lasting and not get better . Ringing in the ear . Ringing in the ear is called tinnitus . Tinnitus is the term for when you have a ringing , buzzing , roaring , whistling or hissing sound in your ear . Feeling of fullness in the ear . People with Meniere 's disease often feel pressure in the ear . This is called aural fullness . After a vertigo attack , symptoms get better and might go away for a while . Over time , how many vertigo attacks you have may lessen .\",\n",
       "  'worry , chest_pain , vertigo , loss_of_balance , lack_of_concentration',\n",
       "  'muscle_wasting , patches_in_throat , high_fever , extra_marital_contacts',\n",
       "  'sour , upset_stomach , headache , blurred_and_distorted_vision , excessive_hunger , stiff_neck , irritability , visual_disturbances',\n",
       "  \"ane 've throw a bad cold for a few days . I 've been coughing up phlegm and my chest hurts . I ca n't smell anything and my muscles are sore .\",\n",
       "  'shivering , fag_out , cough , high_fever , breathlessness , sweating , malaise , phlegm , chest_pain , fast_heart_rate , rusty_sputum',\n",
       "  'joint_pain , knee_pain , hip_joint_pain , swelling_joints , painful_walking',\n",
       "  \"My articulation get been hurting a lot lately . I 've been having a lot of trouble moving around and it 's been really painful to walk .\",\n",
       "  \"ane 've represent having trouble concentrating and focusing , and I 've been feeling dizzy . I 've also had a headache and chest pain .\",\n",
       "  'regurgitate , weakness_of_one_body_side , altered_sensorium',\n",
       "  'regurgitation , yellowish_skin , abdominal_pain , distention_of_abdomen , history_of_alcohol_consumption , fluid_overload',\n",
       "  'one bear been feeling stiff , my neck is stiff , my joints are swollen , and I have muscular weakness . I also feel uncomfortable when I walk .',\n",
       "  'scratch , tiredness , lethargy , yellowish_skin , dark_urine , loss_of_appetite , abdominal_pain , yellow_urine , yellowing_of_eyes , malaise , receiving_blood_transfusion , receiving_unsterile_injections',\n",
       "  'regorge , shortness_of_breath , sweating , chest_pain',\n",
       "  'vomit , head_ache , nausea , spinning_movements , loss_of_balance , unsteadiness',\n",
       "  \"mark and symptom , which usually affect both eyes , may include : A stinging , burning or scratchy sensation in your eyes Stringy mucus in or around your eyes Sensitivity to light Eye redness A sensation of having something in your eyes Difficulty wearing contact lenses Difficulty with nighttime driving Watery eyes , which is the body 's response to the irritation of dry eyes Blurred vision or eye fatigue\",\n",
       "  'shiver , wear_upon , cough , high_fever , breathlessness , sweating , malaise , chest_pain , fast_heart_rate , rusty_sputum',\n",
       "  'joint_pain , spue , yellowish_skin , sickness , loss_of_appetite , abdominal_pain , diarrhoea , mild_fever , yellowing_of_eyes , muscle_pain',\n",
       "  'joint_pain , neck_pain , knee_pain , hip_joint_pain , swelling_joints , painful_walking',\n",
       "  'spoil , retch , yellowish_skin , nausea , loss_of_appetite , abdominal_pain , yellowing_of_eyes',\n",
       "  'honk , head_ache , weakness_of_one_body_side , altered_sensorium',\n",
       "  \"high_school blood_line pressure usually does n't cause symptoms . However , signs and symptoms that might indicate a high blood pressure emergency ( hypertensive crisis ) include : Headaches Seizures Vomiting Chest pains Fast , pounding or fluttering heartbeat ( palpitations ) Shortness of breath If your child has any of these signs or symptoms , seek emergency medical care .\",\n",
       "  'muscle_weakness , stiff_neck , swelling_joints , movement_stiffness',\n",
       "  \"Nonallergic coryza symptom often come and go year-round . Your symptoms might include : Stuffy or runny nose . Sneezing . Mucus in the throat . Cough . Nonallergic rhinitis most often does n't cause an itchy nose , eyes or throat . That symptom is linked with allergies such as hay fever .\",\n",
       "  \"hindquarters much begins as an ordinary cold . If there 's enough swelling , irritation and coughing , a child can develop : Loud barking cough that 's made worse by crying and coughing , as well as anxiety and distress , setting up a cycle of worsening symptoms . Fever . Hoarse voice . Noisy or labored breathing . Symptoms of croup are often worse at night and usually last for 3 to 5 days .\",\n",
       "  'cast , worry , weakness_of_one_body_side , altered_sensorium',\n",
       "  'retch , wear_down , anxiety , sweating , headache , nausea , blurred_and_distorted_vision , excessive_hunger , drying_and_tingling_lips , slurred_speech , irritability , palpitations',\n",
       "  'jade , coughing , high_fever , breathlessness , sweating , malaise , phlegm , chest_pain , fast_heart_rate , rusty_sputum',\n",
       "  \"many womanhood who have fibroids do n't have any symptoms . In those that do , symptoms can be influenced by the location , size and number of fibroids . In women who have symptoms , the most common signs and symptoms of uterine fibroids include : Heavy menstrual bleeding Menstrual periods lasting more than a week Pelvic pressure or pain Frequent urination Difficulty emptying the bladder Constipation Backache or leg pains Rarely , a fibroid can cause acute pain when it outgrows its blood supply , and begins to die . Fibroids are generally classified by their location . Intramural fibroids grow within the muscular uterine wall . Submucosal fibroids bulge into the uterine cavity . Subserosal fibroids project to the outside of the uterus .\",\n",
       "  \"ace have_got slow healing of wounds and cuts . I have this tingling sensation in my hand and numbness in both my hands and feet . I also have a lot of thirst and I 'm always tired .\",\n",
       "  'weariness , weight_gain , cold_hands_and_feets , mood_swings , slackness , dizziness , puffy_face_and_eyes , enlarged_thyroid , brittle_nails , swollen_extremeties , depression , irritability , abnormal_menstruation',\n",
       "  'wear_upon , coughing , high_fever , breathlessness , family_history , mucoid_sputum',\n",
       "  'wear_down , yellowish_skin , loss_of_appetite , yellowing_of_eyes , family_history',\n",
       "  'regorge , head_ache , weakness_of_one_body_side , altered_sensorium',\n",
       "  'joint_pain , upchuck , yellowish_skin , dark_urine , sickness , loss_of_appetite , abdominal_pain , diarrhoea , mild_fever , yellowing_of_eyes , muscle_pain',\n",
       "  'continuous_sneezing , gelidity , tiredness , cough , headache , swelled_lymph_nodes , malaise , phlegm , throat_irritation , redness_of_eyes , sinus_pressure , runny_nose , congestion , chest_pain , loss_of_smell , muscle_pain',\n",
       "  'efflorescence , high_fever , bulla , red_sore_around_nose , yellow_crust_ooze',\n",
       "  'chuck , cephalalgia , nausea , loss_of_balance , unsteadiness',\n",
       "  'iodin let been having a lot of pain in my neck and back . I also have been coughing a lot and I feel weak in my arms and legs . I have also been dizzy and I have trouble balancing myself .',\n",
       "  'IN the former stages of diabetic nephropathy , you would most likely not notice any signs or symptoms . In later stages , signs and symptoms may include : Worsening blood pressure control Protein in the urine Swelling of feet , ankles , hands or eyes Increased need to urinate Reduced need for insulin or diabetes medicine Confusion or difficulty concentrating Shortness of breath Loss of appetite Nausea and vomiting Persistent itching Fatigue',\n",
       "  'burning_micturition , bladder_discomfort , foul_smell_of_urine , continuous_feel_of_urine',\n",
       "  'cool_down , disgorge , fatigue , high_fever , headache , nausea , constipation , abdominal_pain , diarrhoea , toxic_look_ ( typhos ) , belly_pain',\n",
       "  'head_ache , sickness , spinning_movements , loss_of_balance , unsteadiness',\n",
       "  'emesis , wear_down , anxiety , sweating , headache , nausea , blurred_and_distorted_vision , excessive_hunger , drying_and_tingling_lips , slurred_speech , irritability , palpitations',\n",
       "  'outwear , weight_gain , cold_hands_and_feets , mood_swings , inanition , dizziness , puffy_face_and_eyes , enlarged_thyroid , brittle_nails , swollen_extremeties , depression , irritability , abnormal_menstruation',\n",
       "  'jade , mood_swings , weight_loss , sweat , diarrhoea , fast_heart_rate , excessive_hunger , muscle_weakness , irritability , abnormal_menstruation',\n",
       "  'muscle_wasting , patches_in_throat , high_fever , extra_marital_contacts',\n",
       "  \"one 'm ingest trouble breathing and I 'm really uncomfortable . I 'm sweating a lot and my throat is full of mucus . My chest hurts and my heart is racing . I 'm coughing up dark mucus .\",\n",
       "  'vexation , chest_pain , giddiness , loss_of_balance , lack_of_concentration',\n",
       "  'worry , weakness_of_one_body_side , altered_sensorium',\n",
       "  'weight_loss , uneasiness , inanition , irregular_sugar_level , blurred_and_distorted_vision , obesity , excessive_hunger , increased_appetite , polyuria',\n",
       "  'scratch , regurgitate , yellowish_skin , nausea , loss_of_appetite , abdominal_pain , yellowing_of_eyes',\n",
       "  'rub , tiredness , lethargy , yellowish_skin , dark_urine , loss_of_appetite , abdominal_pain , yellow_urine , yellowing_of_eyes , malaise , receiving_blood_transfusion , receiving_unsterile_injections',\n",
       "  'joint_pain , spew , yellowish_skin , dark_urine , sickness , loss_of_appetite , abdominal_pain , diarrhoea , mild_fever , yellowing_of_eyes , muscle_pain',\n",
       "  'continuous_sneezing , quiver , fag_out , cough , high_fever , headache , swelled_lymph_nodes , malaise , phlegm , throat_irritation , redness_of_eyes , sinus_pressure , runny_nose , congestion , chest_pain , loss_of_smell , muscle_pain',\n",
       "  'itch , tire_out , lethargy , yellowish_skin , dark_urine , loss_of_appetite , abdominal_pain , yellow_urine , yellowing_of_eyes , malaise , receiving_blood_transfusion , receiving_unsterile_injections',\n",
       "  'joint_pain , neck_pain , knee_pain , hip_joint_pain , swelling_joints , painful_walking',\n",
       "  'neck_pain , knee_pain , hip_joint_pain , swelling_joints , painful_walking',\n",
       "  'rash , high_fever , bulla , red_sore_around_nose , yellow_crust_ooze',\n",
       "  'concern , weakness_of_one_body_side , altered_sensorium',\n",
       "  'one get been experiencing severe joint pain and headaches for the past few days . I also have a mild fever and chills .',\n",
       "  'mood_swings , weight_loss , uneasiness , diaphoresis , diarrhoea , fast_heart_rate , excessive_hunger , muscle_weakness , irritability , abnormal_menstruation',\n",
       "  'shiver , joint_pain , regorge , fatigue , high_fever , headache , nausea , loss_of_appetite , pain_behind_the_eyes , back_pain , malaise , muscle_pain , red_spots_over_body',\n",
       "  'one cause a rash on my arms and neck that bleeds and hurts when I scratch it . I also have small dents in my nails .',\n",
       "  \"unity 've be coughing a lot , and it 's hard to breathe . I 'm also really tired and exhausted . I 've been coughing up a lot of thick , mucusy stuff . I have a fever , too .\",\n",
       "  'wear , sickness , loss_of_appetite , yellowing_of_eyes , family_history',\n",
       "  \"iodin 've constitute having trouble breathing and I 've been coughing up a lot of mucus . I 've also been feeling really tired .\",\n",
       "  \"iodin 've live having a lot of pain in my joints , especially my knees and hips . It 's hard for me to move around and I 'm always feeling stiff . I 've also been having a lot of trouble sleeping because of the pain .\",\n",
       "  'acidulousness , stomach_upset , headache , blurred_and_distorted_vision , excessive_hunger , stiff_neck , depression , irritability , visual_disturbances',\n",
       "  \"iodine experience some red and inflamed skin on my legs . I think I can see some of the swollen blood vessels . I 'm really worried about it .\",\n",
       "  'scratch , regorge , yellowish_skin , nausea , loss_of_appetite , abdominal_pain',\n",
       "  'ane throw a silvery dusting on my skin , especially on my lower back and scalp . It is made up of small scales that flake off easily when I scratch them .',\n",
       "  'continuous_sneezing , chill , tire , cough , high_fever , headache , swelled_lymph_nodes , malaise , phlegm , throat_irritation , redness_of_eyes , sinus_pressure , runny_nose , congestion , chest_pain , loss_of_smell , muscle_pain',\n",
       "  'trembling , quiver , watering_from_eyes',\n",
       "  'rash , high_fever , scald , red_sore_around_nose , yellow_crust_ooze',\n",
       "  'emesis , yellowish_skin , abdominal_pain , swelling_of_stomach , distention_of_abdomen , history_of_alcohol_consumption , fluid_overload',\n",
       "  'joint_pain , neck_pain , knee_pain , hip_joint_pain , swelling_joints , painful_walking',\n",
       "  'vomit_up , yellowish_skin , abdominal_pain , swelling_of_stomach , distention_of_abdomen , history_of_alcohol_consumption , fluid_overload',\n",
       "  \"iodine 've be feeling dizzy and lightheaded , and I 've been having trouble balancing . I 've also had a headache that wo n't go away .\",\n",
       "  'weariness , hamper , bruising , obesity , swollen_legs , prominent_veins_on_calf',\n",
       "  'continuous_sneezing , shaky , watering_from_eyes',\n",
       "  'joint_pain , neck_pain , knee_pain , hip_joint_pain , swelling_joints , painful_walking',\n",
       "  'tire , mood_swings , weight_loss , impatience , sweating , diarrhoea , fast_heart_rate , excessive_hunger , muscle_weakness , irritability , abnormal_menstruation',\n",
       "  'joint_pain , spue , tire , high_fever , yellowish_skin , dark_urine , nausea , loss_of_appetite , abdominal_pain , yellowing_of_eyes , acute_liver_failure , coma , stomach_bleeding',\n",
       "  'to_each_one infective disease has its own specific signs and symptoms . General signs and symptoms common to a number of infectious diseases include : Fever Diarrhea Fatigue Muscle aches Coughing',\n",
       "  \"single wealthy_person a cough that wo n't go away , and I 'm having trouble breathing . I 'm also really weak and tired , and my fever is really high . I 'm coughing up a lot of mucus , and I 'm really angry and frustrated .\",\n",
       "  'regurgitation , stomach_upset , loss_of_appetite , abdominal_pain , passage_of_gases , internal_itching',\n",
       "  'sick , dyspepsia , loss_of_appetite , abdominal_pain , internal_itching',\n",
       "  'purge , SOB , sweating , chest_pain',\n",
       "  'shiver , regurgitate , fatigue , weight_loss , cough , high_fever , sweating , loss_of_appetite , mild_fever , yellowing_of_eyes , swelled_lymph_nodes , malaise , phlegm , chest_pain , blood_in_sputum',\n",
       "  \"i 've follow experiencing neck pain , vertigo , and instability . I 've also been having a chronic cough and limb weakness .\",\n",
       "  'weary , mood_swings , weight_loss , fidget , diarrhoea , fast_heart_rate , excessive_hunger , muscle_weakness , irritability , abnormal_menstruation',\n",
       "  'stomach_pain , sourness , ulcers_on_tongue , retch , cough',\n",
       "  'rub , yellowish_skin , sickness , loss_of_appetite , abdominal_pain , yellowing_of_eyes',\n",
       "  'muscle_weakness , stiff_neck , swelling_joints , movement_stiffness , painful_walking',\n",
       "  'joint_pain , neck_pain , knee_pain , hip_joint_pain , swelling_joints , painful_walking',\n",
       "  'spoil , weariness , lethargy , yellowish_skin , dark_urine , loss_of_appetite , abdominal_pain , yellow_urine , yellowing_of_eyes , malaise , receiving_blood_transfusion , receiving_unsterile_injections',\n",
       "  'purge , sunken_eyes , evaporation , diarrhoea',\n",
       "  'iodin consume a burning sensation when I pee , and my lower abdomen hurts . I also have a low temperature and feel weak .',\n",
       "  'rash , pus_filled_pimples , comedo , scurring',\n",
       "  'wear_out , hurt , obesity , swollen_legs , swollen_blood_vessels , prominent_veins_on_calf',\n",
       "  'pall , sick , fatigue , weight_loss , cough , high_fever , breathlessness , sweating , loss_of_appetite , mild_fever , yellowing_of_eyes , swelled_lymph_nodes , malaise , phlegm , chest_pain , blood_in_sputum',\n",
       "  'puking , shortness_of_breath , sweating , chest_pain',\n",
       "  'disgorgement , head_ache , nausea , spinning_movements , loss_of_balance , unsteadiness',\n",
       "  'rub , rash , nodal_skin_eruptions',\n",
       "  'stultification , pain_during_bowel_movements , pain_in_anal_region , bloody_stool , irritation_in_anus',\n",
       "  'itchiness , rash , stomach_pain , burning_micturition , spotting__urination',\n",
       "  'joint_pain , be_sick , yellowish_skin , dark_urine , sickness , loss_of_appetite , abdominal_pain , yellowing_of_eyes',\n",
       "  'single wealthy_person a hard time swallowing and I feel like food is getting stuck in my throat . I belch a lot and feel bloated . I have a bad taste in my mouth all the time .',\n",
       "  'rash , joint_pain , skin_peeling , silver_like_dusting , small_dents_in_nails , inflammatory_nails',\n",
       "  'cool_down , spew , fatigue , weight_loss , cough , high_fever , sweating , loss_of_appetite , mild_fever , yellowing_of_eyes , swelled_lymph_nodes , malaise , phlegm , chest_pain , blood_in_sputum',\n",
       "  \"atomic_number_53 've live having a lot of pain in my joints , especially my knees and hips . I 've also been feeling really stiff and it 's hard to move around .\",\n",
       "  'back_pain , weakness_in_limbs , neck_pain , vertigo , loss_of_balance',\n",
       "  'stomach_pain , ulcers_on_tongue , spew , coughing , chest_pain',\n",
       "  'scratch , puke , yellowish_skin , nausea , loss_of_appetite , abdominal_pain , yellowing_of_eyes',\n",
       "  'muscle_weakness , stiff_neck , swelling_joints , movement_stiffness , painful_walking',\n",
       "  'ace bear dry , flaky patches of skin that are prone to infection . My joints are in a lot of pain . The skin on my knees and elbows is starting to flake .',\n",
       "  'itchiness , weary , lethargy , yellowish_skin , dark_urine , loss_of_appetite , abdominal_pain , yellow_urine , yellowing_of_eyes , malaise , receiving_blood_transfusion , receiving_unsterile_injections',\n",
       "  \"Your checkup team_up will likely be the first to recognize ambiguous genitalia soon after your baby is born . Occasionally , ambiguous genitalia may be suspected before birth ( prenatally ) . Characteristics can vary in severity , depending on when during genital development the problem occurred and the cause of the disorder . Babies who are genetically female ( with two X chromosomes ) may have : An enlarged clitoris , which may resemble a penis Closed labia , or labia that include folds and resemble a scrotum Lumps that feel like testes in the fused labia Babies who are genetically male ( with one X and one Y chromosome ) may have : A condition in which the narrow tube that carries urine and semen ( urethra ) does n't fully extend to the tip of the penis ( hypospadias ) An abnormally small penis with the urethral opening closer to the scrotum The absence of one or both testicles in what appears to be the scrotum Undescended testicles and an empty scrotum that has the appearance of a labia with or without a micropenis\",\n",
       "  'itch , wear_out , lethargy , yellowish_skin , dark_urine , loss_of_appetite , abdominal_pain , yellow_urine , yellowing_of_eyes , malaise , receiving_blood_transfusion , receiving_unsterile_injections',\n",
       "  'rub , nodal_skin_eruptions , dischromic__patches',\n",
       "  'spasm , offend , obesity , swollen_legs , swollen_blood_vessels , prominent_veins_on_calf',\n",
       "  'fag , mood_swings , weight_loss , uneasiness , sweating , diarrhoea , fast_heart_rate , excessive_hunger , muscle_weakness , irritability , abnormal_menstruation',\n",
       "  'joint_pain , vomit , yellowish_skin , dark_urine , sickness , loss_of_appetite , abdominal_pain , diarrhoea , mild_fever , yellowing_of_eyes , muscle_pain',\n",
       "  'regurgitate , head_ache , nausea , loss_of_balance , unsteadiness',\n",
       "  'joint_pain , neck_pain , knee_pain , hip_joint_pain , swelling_joints , painful_walking',\n",
       "  'weakness_in_limbs , neck_pain , lightheadedness , loss_of_balance',\n",
       "  'sunken_eyes , desiccation , diarrhea',\n",
       "  'joint_pain , neck_pain , knee_pain , hip_joint_pain , swelling_joints , painful_walking',\n",
       "  \"nasal_bone polyp are associated with irritation and swelling ( inflammation ) of the lining of your nasal passages and sinuses that lasts more than 12 weeks ( chronic sinusitis ) . However , it 's possible to have chronic sinusitis without nasal polyps . Nasal polyps themselves are soft and lack sensation , so if they 're small , you may not be aware you have them . Multiple growths or a large polyp may block your nasal passages and sinuses . Common signs and symptoms of chronic sinusitis with nasal polyps include : A runny nose Persistent stuffiness Postnasal drip Decreased or absent sense of smell Loss of sense of taste Facial pain or headache Pain in your upper teeth A sense of pressure over your forehead and face Snoring Frequent nosebleeds\",\n",
       "  'joint_pain , spew , fag , high_fever , yellowish_skin , dark_urine , nausea , loss_of_appetite , abdominal_pain , yellowing_of_eyes , acute_liver_failure , coma , stomach_bleeding',\n",
       "  'sick , dyspepsia , loss_of_appetite , abdominal_pain , internal_itching',\n",
       "  'spoil , efflorescence , fatigue , lethargy , high_fever , headache , loss_of_appetite , mild_fever , swelled_lymph_nodes , malaise , red_spots_over_body',\n",
       "  'tiredness , fidget , lethargy , irregular_sugar_level , blurred_and_distorted_vision , obesity , excessive_hunger , increased_appetite , polyuria',\n",
       "  \"i 'm impression really hot . I ca n't breathe well . I 'm sweating a lot . I 'm shaking . I 'm really tired . My heart is beating fast . I have some brown stuff coming up when I cough .\",\n",
       "  \"The signaling and symptom of hydrocephalus vary somewhat by age of onset . Infants Common signs and symptoms of hydrocephalus in infants include : Changes in the head An unusually large head A rapid increase in the size of the head A bulging or tense soft spot ( fontanel ) on the top of the head Physical signs and symptoms Nausea and vomiting Sleepiness or sluggishness ( lethargy ) Irritability Poor eating Seizures Eyes fixed downward ( sunsetting of the eyes ) Problems with muscle tone and strength Toddlers and older children Among toddlers and older children , signs and symptoms might include : Physical signs and symptoms Headache Blurred or double vision Abnormal eye movements Abnormal enlargement of a toddler 's head Sleepiness or sluggishness Nausea or vomiting Unstable balance Poor coordination Poor appetite Loss of bladder control or frequent urination Behavioral and cognitive changes Irritability Change in personality Decline in school performance Delays or problems with previously acquired skills , such as walking or talking Young and middle-aged adults Common signs and symptoms in this age group include : Headache Sluggishness Loss of coordination or balance Loss of bladder control or a frequent urge to urinate Vision problems Decline in memory , concentration and other thinking skills that may affect job performance Older adults Among adults 60 years of age and older , the more common signs and symptoms of hydrocephalus are : Loss of bladder control or a frequent urge to urinate Memory loss Progressive loss of other thinking or reasoning skills Difficulty walking , often described as a shuffling gait or the feeling of the feet being stuck Poor coordination or balance\",\n",
       "  'pall , cast , high_fever , sweating , nausea , diarrhoea , muscle_pain',\n",
       "  'regurgitate , tiredness , weight_loss , high_fever , yellowish_skin , dark_urine , abdominal_pain',\n",
       "  \"ane birth a stiff neck and eye issues , and I 've been hungry all the time .\",\n",
       "  'scratch , rash , nodal_skin_eruptions',\n",
       "  'chill , vomit_up , fatigue , weight_loss , cough , high_fever , breathlessness , sweating , loss_of_appetite , mild_fever , yellowing_of_eyes , swelled_lymph_nodes , malaise , phlegm , chest_pain , blood_in_sputum',\n",
       "  'spoil , rash , lethargy , high_fever , headache , loss_of_appetite , mild_fever , swelled_lymph_nodes , malaise , red_spots_over_body',\n",
       "  'honk , shortness_of_breath , sweating , chest_pain',\n",
       "  'vomit_up , yellowish_skin , abdominal_pain , swelling_of_stomach , distention_of_abdomen , history_of_alcohol_consumption , fluid_overload',\n",
       "  'stomach_pain , acidulousness , ulcers_on_tongue , spew , cough , chest_pain',\n",
       "  'chuck , sunken_eyes , desiccation , diarrhoea',\n",
       "  \"about mass who have myocardial ischemia do n't have any signs or symptoms ( silent ischemia ) . When they do occur , the most common is chest pressure or pain , typically on the left side of the body ( angina pectoris ) . Other signs and symptoms — which might be experienced more commonly by women , older people and people with diabetes — include : Neck or jaw pain Shoulder or arm pain A fast heartbeat Shortness of breath when you are physically active Nausea and vomiting Sweating Fatigue\",\n",
       "  'continuous_sneezing , shudder , frisson , watering_from_eyes',\n",
       "  'i rich_person been experiencing neck pain and feeling lightheaded and unstable on my feet .',\n",
       "  'wear_out , weight_loss , fidgetiness , lethargy , blurred_and_distorted_vision , obesity , excessive_hunger , increased_appetite , polyuria',\n",
       "  'signal and symptom of cholangiocarcinoma include : Yellowing of your skin and the whites of your eyes ( jaundice ) Intensely itchy skin White-colored stools Fatigue Abdominal pain on the right side , just below the ribs Losing weight without trying Fever Night sweats Dark urine',\n",
       "  \"each somebody with Down syndrome is an individual — intellectual and developmental problems may be mild , moderate or severe . Some people are healthy while others have significant health problems such as serious heart defects . Children and adults with Down syndrome have distinct facial features . Though not all people with Down syndrome have the same features , some of the more common features include : Flattened face Small head Short neck Protruding tongue Upward slanting eye lids ( palpebral fissures ) Unusually shaped or small ears Poor muscle tone Broad , short hands with a single crease in the palm Relatively short fingers and small hands and feet Excessive flexibility Tiny white spots on the colored part ( iris ) of the eye called Brushfield 's spots Short height Infants with Down syndrome may be average size , but typically they grow slowly and remain shorter than other children the same age . Intellectual disabilities Most children with Down syndrome have mild to moderate cognitive impairment . Language is delayed , and both short and long-term memory is affected .\",\n",
       "  'impairment , pain_in_anal_region , bloody_stool , irritation_in_anus',\n",
       "  'bladder_discomfort , foul_smell_of_urine , continuous_feel_of_urine',\n",
       "  'spoil , weary , lethargy , dark_urine , loss_of_appetite , abdominal_pain , yellow_urine , yellowing_of_eyes , malaise , receiving_blood_transfusion , receiving_unsterile_injections',\n",
       "  'tingle , cat , high_fever , sweating , headache , nausea , diarrhoea , muscle_pain',\n",
       "  'atomic_number_53 feature a bruise on my leg and the skin around the veins is dry and flaky . My legs have started to swell .',\n",
       "  \"ane 've exist losing weight and feeling sick to my stomach . My skin is yellow , and I have a fever . My urine is dark , and my stomach hurts .\",\n",
       "  'joint_pain , purge , pall , high_fever , yellowish_skin , dark_urine , nausea , loss_of_appetite , abdominal_pain , yellowing_of_eyes , acute_liver_failure , coma , stomach_bleeding',\n",
       "  'Churg-Strauss syndrome variegate greatly from someone to person . Some people have only mild symptoms . Others have severe or life-threatening complications . Also known as EGPA , the syndrome tends to occur in three stages and gets progressively worse . Almost everyone with the condition has asthma , chronic sinusitis and elevated counts of white blood cells called eosinophils . Other signs and symptoms might include : Loss of appetite and weight loss Joint and muscle pain Abdominal pain and gastrointestinal bleeding Weakness , fatigue or a general feeling of being unwell Rash or skin sores Pain , numbness , and tingling in your hands and feet',\n",
       "  'Associate_in_Nursing expatiate liver might not cause symptoms . When enlarged liver results from liver disease , it might be accompanied by : Abdominal pain Fatigue Nausea and vomiting Yellowing of the skin and the whites of the eyes ( jaundice )',\n",
       "  'muscle_weakness , stiff_neck , swelling_joints , movement_stiffness , painful_walking',\n",
       "  'impairment , pain_during_bowel_movements , bloody_stool , irritation_in_anus',\n",
       "  'be_sick , yellowish_skin , abdominal_pain , swelling_of_stomach , distention_of_abdomen , history_of_alcohol_consumption , fluid_overload',\n",
       "  'continuous_sneezing , tingle , wear_out , cough , headache , swelled_lymph_nodes , malaise , phlegm , throat_irritation , redness_of_eyes , sinus_pressure , runny_nose , congestion , chest_pain , loss_of_smell , muscle_pain',\n",
       "  'cast , worry , weakness_of_one_body_side , altered_sensorium',\n",
       "  'itch , efflorescence , nodal_skin_eruptions',\n",
       "  'patches_in_throat , high_fever , extra_marital_contacts',\n",
       "  'efflorescence , pus_filled_pimples , blackhead , scurring',\n",
       "  'continuous_sneezing , pall , fag , cough , high_fever , headache , swelled_lymph_nodes , malaise , phlegm , throat_irritation , redness_of_eyes , sinus_pressure , runny_nose , congestion , chest_pain , loss_of_smell , muscle_pain',\n",
       "  'stomach_pain , sourness , ulcers_on_tongue , vomit , cough , chest_pain',\n",
       "  'joint_pain , throw_up , yellowish_skin , dark_urine , sickness , loss_of_appetite , abdominal_pain , diarrhoea , mild_fever , yellowing_of_eyes , muscle_pain',\n",
       "  'itchiness , outwear , lethargy , yellowish_skin , dark_urine , loss_of_appetite , abdominal_pain , yellow_urine , yellowing_of_eyes , malaise , receiving_blood_transfusion , receiving_unsterile_injections',\n",
       "  'frisson , regorge , high_fever , sweating , headache , nausea , diarrhoea , muscle_pain',\n",
       "  'back_pain , weakness_in_limbs , lightheadedness , loss_of_balance',\n",
       "  'vomit , sunken_eyes , evaporation , diarrhoea',\n",
       "  'wear , mood_swings , weight_loss , sudation , diarrhoea , fast_heart_rate , excessive_hunger , muscle_weakness , irritability , abnormal_menstruation',\n",
       "  \"iodin induce a fever and a headache . I have sores near my nose and rashes on my neck . I 'm really struggling right now .\",\n",
       "  'muscle_wasting , patches_in_throat , high_fever',\n",
       "  \"iodin let to go to the bathroom a lot , but only a little comes out . My stomach hurts , and I ca n't control my need to pee .\",\n",
       "  'park sign_up and symptoms of GERD include : GERD A burning sensation in your chest ( heartburn ) , usually after eating , which might be worse at night or while lying down Backwash ( regurgitation ) of food or sour liquid Upper abdominal or chest pain Trouble swallowing ( dysphagia ) Sensation of a lump in your throat If you have nighttime acid reflux , you might also experience : An ongoing cough Inflammation of the vocal cords ( laryngitis ) New or worsening asthma',\n",
       "  'stomach_pain , acidulousness , ulcers_on_tongue , emesis , cough , chest_pain',\n",
       "  'joint_pain , chuck , fag_out , yellowish_skin , dark_urine , nausea , loss_of_appetite , abdominal_pain , yellowing_of_eyes',\n",
       "  'acidulousness , upset_stomach , headache , blurred_and_distorted_vision , excessive_hunger , stiff_neck , depression , irritability , visual_disturbances',\n",
       "  'scratch , wear_upon , lethargy , yellowish_skin , dark_urine , loss_of_appetite , abdominal_pain , yellow_urine , yellowing_of_eyes , malaise , receiving_blood_transfusion , receiving_unsterile_injections',\n",
       "  'spoil , rash , stomach_pain , burning_micturition , spotting__urination',\n",
       "  'chill , throw_up , high_fever , sweating , headache , nausea , muscle_pain',\n",
       "  'joint_pain , vomit_up , tiredness , high_fever , yellowish_skin , dark_urine , nausea , loss_of_appetite , abdominal_pain , yellowing_of_eyes , acute_liver_failure , coma , stomach_bleeding',\n",
       "  \"aphasia constitute a symptom of some other condition , such as a stroke or a brain tumor . A person with aphasia may : Speak in short or incomplete sentences Speak in sentences that do n't make sense Substitute one word for another or one sound for another Speak unrecognizable words Have difficulty finding words Not understand other people 's conversation Not understand what they read Write sentences that do n't make sense Patterns of aphasia People with aphasia may have different strengths and weaknesses in their speech patterns . Sometimes these patterns are labeled as different types of aphasia , including : Broca 's aphasia Wernicke aphasia Transcortical aphasia Conduction aphasia Mixed aphasia Global aphasia These patterns describe how well the person can understand what others say . They also describe how easy it is for the person to speak or to correctly repeat what someone else says . Aphasia may develop slowly over time . When that happens , the aphasia may be labeled with one of these names : Logopenic aphasia Semantic aphasia Agrammatism Many people with aphasia have patterns of speech difficulty that do n't match these types . It may help to consider that each person with aphasia has unique symptoms , strengths and weaknesses rather than trying to label a particular type of aphasia .\",\n",
       "  'continuous_sneezing , chill , fag , cough , high_fever , headache , swelled_lymph_nodes , malaise , phlegm , throat_irritation , redness_of_eyes , sinus_pressure , runny_nose , congestion , chest_pain , loss_of_smell , muscle_pain',\n",
       "  \"ace 've constitute experiencing stiffness and weakness in my neck muscles recently . My joints have grown stiff and it 's hard for me to run without getting stiff . Walking is also very uncomfortable .\",\n",
       "  'regurgitation , yellowish_skin , abdominal_pain , swelling_of_stomach , distention_of_abdomen , history_of_alcohol_consumption , fluid_overload',\n",
       "  'rash , comedo , scurring',\n",
       "  'stomach_pain , sourness , ulcers_on_tongue , coughing , chest_pain',\n",
       "  \"amp wit arteriovenous malformation may not cause any signs or symptoms until the AVM ruptures , resulting in hemorrhage . In about half of all brain AVMs , hemorrhage is the first sign . AVM AVM But some people with brain AVM may experience signs and symptoms other than bleeding , such as : AVM Seizures Headache or pain in one area of the head Muscle weakness or numbness in one part of the body Some people may experience more-serious neurological signs and symptoms , depending on the location of the AVM , including : AVM Severe headache Weakness , numbness or paralysis Vision loss Difficulty speaking Confusion or inability to understand others Severe unsteadiness Signs and symptoms of a brain AVM may begin at any age but usually emerge between ages 10 and 40 . Brain AVMs can damage brain tissue over time . The effects slowly build and often cause symptoms in early adulthood . AVM AVM By middle age , however , brain AVMs tend to remain stable and are less likely to cause symptoms . AVM Research has n't found that pregnancy increases the risk of hemorrhage for people with a brain AVM . However , more research needs to be done . AVM One severe type of brain AVM involves the vein of Galen . It causes signs and symptoms that emerge soon or immediately after birth . The major blood vessel involved in this type of brain AVM can cause fluid to build up in the brain and the head to swell . It can also cause swollen veins that are visible on the scalp , seizures , failure to thrive and congestive heart failure .\",\n",
       "  \"If your nipper HA clubfoot , here 's what it might look like : The top of the foot is usually twisted downward and inward , increasing the arch and turning the heel inward . The foot may be turned so severely that it actually looks as if it 's upside down . The affected leg or foot may be slightly shorter . The calf muscles in the affected leg are usually underdeveloped . Despite its look , clubfoot itself does n't cause any discomfort or pain .\",\n",
       "  \"babe with Rett syndrome ordinarily are born after an uncomplicated pregnancy and delivery . Most infants with Rett syndrome seem to grow and behave as expected for the first six months . After that , signs and symptoms start to appear . The most pronounced changes generally occur at 12 to 18 months of age , over a period of weeks or months . Symptoms and their severity vary greatly from child to child . The main signs and symptoms include : Slowed growth . Brain growth slows after birth . Smaller than usual head size ( microcephaly ) is sometimes the first sign that a child has Rett syndrome . As children get older , there is delayed growth in other parts of the body . Loss of movement and coordination abilities . The first signs often include reduced hand control and a decreasing ability to crawl or walk . At first , this loss of abilities occurs rapidly , and then it continues more gradually . Eventually muscles become weak or stiff , with unusual movement and positioning . Loss of communication abilities . Children with Rett syndrome typically begin to lose the ability to speak , to make eye contact and to communicate in other ways . They may become disinterested in other people , toys and their surroundings . Some children have rapid changes , such as a sudden loss of language . Over time , children may gradually regain eye contact and develop nonverbal communication skills . Unusual hand movements . Children with Rett syndrome usually develop repetitive , purposeless hand movements , which differ from child to child . Hand movements may include hand-wringing , squeezing , clapping , tapping or rubbing . Other signs and symptoms can include : Unusual eye movements . Children with Rett syndrome tend to have unusual eye movements , such as intense staring , blinking , crossed eyes or closing one eye at a time . Breathing problems . These include breath holding , rapid breathing ( hyperventilation ) , forcefully blowing out air or saliva , and swallowing air . These problems tend to occur during waking hours . Other breathing disturbances such as shallow breathing or short periods of stopping breathing ( apnea ) can occur during sleep . Irritability and crying . Children with Rett syndrome may become increasingly agitated and irritable as they get older . Periods of crying or screaming may begin suddenly , for no apparent reason , and last for hours . Some children may experience fears and anxiety . Other unusual behaviors . These may include , for example , sudden , odd facial expressions and long bouts of laughter , hand licking , and grasping of hair or clothing . Intellectual disabilities . Loss of skills may be connected to losing the ability to think , understand and learn . Seizures . Most people who have Rett syndrome experience seizures at some time during their lives . Multiple seizure types may occur and are associated with changes on an electroencephalogram ( EEG ) . Sideways curvature of the spine ( scoliosis ) . Scoliosis is common with Rett syndrome . It typically begins between 8 and 11 years of age and progresses with age . Surgery may be required if the curvature is severe . Irregular heartbeat . This is a life-threatening problem for many children and adults with Rett syndrome and can result in sudden death . Sleep disturbances . Problems with sleep patterns can include irregular sleep times , falling asleep during the day and being awake at night , or waking in the night with crying or screaming . Other symptoms . A variety of other symptoms can occur , such as a decreased response to pain ; small hands and feet that are usually cold ; problems with chewing and swallowing ; problems with bowel function ; and teeth grinding . Stages of Rett syndrome Rett syndrome is commonly divided into four stages : Stage 1 : Early onset . Signs and symptoms are subtle and easily overlooked during the first stage , which starts between 6 and 18 months of age . Stage 1 can last for a few months or a year . Babies in this stage may show less eye contact and start to lose interest in toys . They may also have delays in sitting or crawling . Stage 2 : Rapid deterioration . Starting between 1 and 4 years of age , children lose the ability to perform skills they previously had . This loss can be rapid or more gradual , occurring over weeks or months . Symptoms of Rett syndrome occur , such as slowed head growth , abnormal hand movements , hyperventilating , screaming or crying for no apparent reason , problems with movement and coordination , and a loss of social interaction and communication . Stage 3 : Plateau . The third stage usually begins between the ages of 2 and 10 years , and it can last for many years . Although problems with movement continue , behavior may slightly improve , with less crying and irritability , and there may be some improvement in hand use and communication . Seizures may begin in this stage and generally do n't occur before the age of 2 . Stage 4 : Late motor deterioration . This stage usually begins after the age of 10 and can last for years or decades . It 's marked by reduced mobility , muscle weakness , joint contractures and scoliosis . Understanding , communication and hand skills generally remain stable or improve slightly , and seizures may occur less often .\",\n",
       "  \"jock 's base Open pop-up dialog box Close Athlete 's foot Athlete 's foot Athlete 's foot is a fungal infection that causes scaly rash that may itch , sting or burn . Athlete 's foot Open pop-up dialog box Athlete 's foot Open pop-up dialog box Open pop-up dialog box Close Athlete 's foot Athlete 's foot Athlete 's foot is a fungal infection that causes scaly rash that may itch , sting or burn . Close Athlete 's foot Athlete 's foot Athlete 's foot is a fungal infection that causes scaly rash that may itch , sting or burn . Close Athlete 's foot Athlete 's foot Athlete 's foot is a fungal infection that causes scaly rash that may itch , sting or burn . Close Close Close Athlete 's foot Athlete 's foot Athlete 's foot is a fungal infection that causes scaly rash that may itch , sting or burn . Athlete 's foot Athlete 's foot is a fungal infection that causes scaly rash that may itch , sting or burn . Athlete 's foot is a fungal infection that causes scaly rash that may itch , sting or burn . Athlete 's foot can affect one or both feet . Common signs and symptoms are : Scaly , peeling or cracked skin between the toes Itchiness , especially right after taking off shoes and socks Inflamed skin that might appear reddish , purplish or grayish , depending on your skin color Burning or stinging Blisters Dry , scaly skin on the bottom of the foot that extends up the side\",\n",
       "  'pall , mood_swings , weight_loss , queasiness , sweating , diarrhoea , fast_heart_rate , muscle_weakness , irritability , abnormal_menstruation',\n",
       "  'staphylococci transmission Open pop-up dialog box Close Staph infection Staph infection MRSA infections start out as small red bumps that can quickly turn into deep , painful abscesses . Staph infection Open pop-up dialog box Staph infection Open pop-up dialog box Open pop-up dialog box Close Staph infection Staph infection MRSA infections start out as small red bumps that can quickly turn into deep , painful abscesses . Close Staph infection Staph infection MRSA infections start out as small red bumps that can quickly turn into deep , painful abscesses . Close Staph infection Staph infection MRSA infections start out as small red bumps that can quickly turn into deep , painful abscesses . Close Close Close Staph infection Staph infection MRSA infections start out as small red bumps that can quickly turn into deep , painful abscesses . Staph infection MRSA infections start out as small red bumps that can quickly turn into deep , painful abscesses . MRSA infections start out as small red bumps that can quickly turn into deep , painful abscesses . MRSA Staph skin infections , including MRSA , generally start as swollen , painful red bumps that might look like pimples or spider bites . The affected area might be : MRSA Warm to the touch Full of pus or other drainage Accompanied by a fever These red bumps can quickly turn into deep , painful boils ( abscesses ) that require surgical draining . Sometimes the bacteria remain confined to the skin . But they can also burrow deep into the body , causing potentially life-threatening infections in bones , joints , surgical wounds , the bloodstream , heart valves and lungs .',\n",
       "  'itchiness , puking , yellowish_skin , nausea , loss_of_appetite , abdominal_pain , yellowing_of_eyes',\n",
       "  'stomach_upset , loss_of_appetite , abdominal_pain , passage_of_gases , internal_itching',\n",
       "  'ane cause been having rashes on my skin . The rash is itchy and bleeds when I scratch it . I have also noticed small dents in my nails .',\n",
       "  'muscle_wasting , patches_in_throat , high_fever , extra_marital_contacts',\n",
       "  'quiver , weary , cough , high_fever , breathlessness , sweating , malaise , phlegm , chest_pain , fast_heart_rate , rusty_sputum',\n",
       "  'scratch , pall , lethargy , yellowish_skin , dark_urine , loss_of_appetite , abdominal_pain , yellow_urine , yellowing_of_eyes , malaise , receiving_blood_transfusion , receiving_unsterile_injections',\n",
       "  'outwear , coughing , high_fever , breathlessness , family_history , mucoid_sputum',\n",
       "  'vexation , chest_pain , loss_of_balance , lack_of_concentration',\n",
       "  'stomach_pain , sour , ulcers_on_tongue , purge , cough , chest_pain',\n",
       "  'continuous_sneezing , shaky , iciness',\n",
       "  'itchiness , wear , lethargy , yellowish_skin , dark_urine , loss_of_appetite , abdominal_pain , yellow_urine , yellowing_of_eyes , malaise , receiving_blood_transfusion , receiving_unsterile_injections',\n",
       "  'ingrown toe symptoms include : Pain and tenderness Inflamed skin Swelling Infection',\n",
       "  'quiver , retch , fatigue , cough , high_fever , breathlessness , sweating , loss_of_appetite , mild_fever , yellowing_of_eyes , swelled_lymph_nodes , malaise , phlegm , chest_pain , blood_in_sputum',\n",
       "  'vomit_up , sunken_eyes , diarrhea',\n",
       "  'cramp_iron , bruise , obesity , swollen_legs , swollen_blood_vessels , prominent_veins_on_calf',\n",
       "  'wear_down , muscle_spasm , bruising , obesity , swollen_legs , swollen_blood_vessels , prominent_veins_on_calf',\n",
       "  \"unwashed symptom of hemifacial spasm include twitching or contracting of muscles in the face that are usually : On one side of the face Uncontrollable Painless These contractions often start in the eyelid , then may progress and affect the cheek and mouth on the same side of the face . At first , hemifacial spasms come and go . But eventually , usually over the course of several months to a few years , they occur almost constantly . Occasionally , hemifacial spasms may occur on both sides of the face . However , the twitching does n't occur on both sides of the face at the same time . Causes Hemifacial spasm is most often caused by a blood vessel touching a facial nerve . It can also be caused by a facial nerve injury or a tumor . Sometimes there 's no identifiable cause . Hemifacial spasm may sometimes be triggered by : Moving the muscles in the face Anxiety Stress Fatigue By Mayo Clinic Staff By Mayo Clinic Staff Hemifacial spasm care at Mayo Clinic\",\n",
       "  'head_ache , chest_pain , giddiness , loss_of_balance , lack_of_concentration',\n",
       "  'jade , coughing , high_fever , breathlessness , family_history , mucoid_sputum',\n",
       "  'wear_out , yellowish_skin , loss_of_appetite , yellowing_of_eyes , family_history',\n",
       "  'cellulitis commonly occurs on one side of the body . Its signs and symptoms may include : An irritated area of skin that tends to expand Swelling Tenderness Pain Warmth Fever Chills Spots Blisters Skin dimpling',\n",
       "  'weariness , mood_swings , weight_loss , fidget , sweating , diarrhoea , fast_heart_rate , excessive_hunger , muscle_weakness , irritability , abnormal_menstruation',\n",
       "  \"ratify and symptom of calciphylaxis include : Large purple net-like patterns on skin Deep , very painful lumps that ulcerate creating open sores with black-brown crust that fails to heal — typically in skin areas with high fat content , such as the stomach and thigh , although they can occur anywhere Infections from wounds that do n't heal Causes The exact cause of calciphylaxis is unknown , but recent studies have revealed that most people with the condition have abnormalities in blood-clotting factors . Blood-clotting factors are substances in your blood that help stop bleeding . These abnormalities can lead to small blood clots forming more often than they normally would . In addition , people with calciphylaxis have an imbalance in the metabolism of calcium . This causes calcium to be deposited in the smallest parts of the arteries ( arterioles ) , which eventually leads to the formation of blood clots in the arterioles . Blood clots can cause fat tissues and skin to be deprived of oxygen and nourishment .\",\n",
       "  'vomit , SOB , sweating',\n",
       "  'fatigue_duty , yellowish_skin , sickness , loss_of_appetite , yellowing_of_eyes , family_history',\n",
       "  'wear_out , mood_swings , weight_loss , fidgetiness , sweating , diarrhoea , fast_heart_rate , excessive_hunger , muscle_weakness , irritability , abnormal_menstruation',\n",
       "  'impairment , pain_during_bowel_movements , pain_in_anal_region , bloody_stool , irritation_in_anus',\n",
       "  'worry , weakness_of_one_body_side , altered_sensorium',\n",
       "  'itchiness , honk , nausea , loss_of_appetite , abdominal_pain , yellowing_of_eyes',\n",
       "  ...],\n",
       " 'label': [308,\n",
       "  35,\n",
       "  798,\n",
       "  149,\n",
       "  596,\n",
       "  785,\n",
       "  186,\n",
       "  466,\n",
       "  700,\n",
       "  971,\n",
       "  33,\n",
       "  504,\n",
       "  502,\n",
       "  464,\n",
       "  275,\n",
       "  207,\n",
       "  533,\n",
       "  72,\n",
       "  735,\n",
       "  1019,\n",
       "  149,\n",
       "  308,\n",
       "  447,\n",
       "  234,\n",
       "  515,\n",
       "  72,\n",
       "  735,\n",
       "  630,\n",
       "  665,\n",
       "  72,\n",
       "  7,\n",
       "  308,\n",
       "  193,\n",
       "  466,\n",
       "  7,\n",
       "  466,\n",
       "  504,\n",
       "  834,\n",
       "  502,\n",
       "  1026,\n",
       "  630,\n",
       "  33,\n",
       "  402,\n",
       "  308,\n",
       "  467,\n",
       "  193,\n",
       "  504,\n",
       "  35,\n",
       "  457,\n",
       "  1019,\n",
       "  500,\n",
       "  34,\n",
       "  467,\n",
       "  402,\n",
       "  541,\n",
       "  500,\n",
       "  234,\n",
       "  405,\n",
       "  1026,\n",
       "  741,\n",
       "  35,\n",
       "  466,\n",
       "  588,\n",
       "  27,\n",
       "  149,\n",
       "  502,\n",
       "  596,\n",
       "  207,\n",
       "  394,\n",
       "  654,\n",
       "  0,\n",
       "  778,\n",
       "  186,\n",
       "  630,\n",
       "  735,\n",
       "  718,\n",
       "  149,\n",
       "  736,\n",
       "  0,\n",
       "  412,\n",
       "  515,\n",
       "  735,\n",
       "  1026,\n",
       "  72,\n",
       "  577,\n",
       "  72,\n",
       "  700,\n",
       "  700,\n",
       "  149,\n",
       "  193,\n",
       "  35,\n",
       "  466,\n",
       "  287,\n",
       "  7,\n",
       "  502,\n",
       "  1035,\n",
       "  27,\n",
       "  262,\n",
       "  0,\n",
       "  944,\n",
       "  468,\n",
       "  447,\n",
       "  515,\n",
       "  515,\n",
       "  1035,\n",
       "  186,\n",
       "  735,\n",
       "  718,\n",
       "  465,\n",
       "  0,\n",
       "  297,\n",
       "  0,\n",
       "  193,\n",
       "  207,\n",
       "  394,\n",
       "  297,\n",
       "  297,\n",
       "  1067,\n",
       "  736,\n",
       "  766,\n",
       "  822,\n",
       "  736,\n",
       "  501,\n",
       "  515,\n",
       "  467,\n",
       "  193,\n",
       "  108,\n",
       "  541,\n",
       "  316,\n",
       "  822,\n",
       "  502,\n",
       "  234,\n",
       "  394,\n",
       "  1026,\n",
       "  718,\n",
       "  718,\n",
       "  464,\n",
       "  412,\n",
       "  186,\n",
       "  374,\n",
       "  756,\n",
       "  186,\n",
       "  234,\n",
       "  171,\n",
       "  630,\n",
       "  1026,\n",
       "  766,\n",
       "  207,\n",
       "  502,\n",
       "  1035,\n",
       "  467,\n",
       "  27,\n",
       "  447,\n",
       "  149,\n",
       "  630,\n",
       "  7,\n",
       "  630,\n",
       "  541,\n",
       "  186,\n",
       "  1035,\n",
       "  630,\n",
       "  1026,\n",
       "  33,\n",
       "  1026,\n",
       "  801,\n",
       "  1026,\n",
       "  447,\n",
       "  285,\n",
       "  33,\n",
       "  561,\n",
       "  511,\n",
       "  72,\n",
       "  630,\n",
       "  466,\n",
       "  394,\n",
       "  1018,\n",
       "  515,\n",
       "  515,\n",
       "  275,\n",
       "  186,\n",
       "  402,\n",
       "  234,\n",
       "  308,\n",
       "  33,\n",
       "  193,\n",
       "  625,\n",
       "  515,\n",
       "  35,\n",
       "  186,\n",
       "  297,\n",
       "  394,\n",
       "  504,\n",
       "  465,\n",
       "  395,\n",
       "  447,\n",
       "  394,\n",
       "  511,\n",
       "  275,\n",
       "  468,\n",
       "  501,\n",
       "  149,\n",
       "  1026,\n",
       "  735,\n",
       "  718,\n",
       "  1026,\n",
       "  465,\n",
       "  27,\n",
       "  822,\n",
       "  308,\n",
       "  630,\n",
       "  639,\n",
       "  552,\n",
       "  412,\n",
       "  502,\n",
       "  464,\n",
       "  186,\n",
       "  193,\n",
       "  275,\n",
       "  1035,\n",
       "  7,\n",
       "  226,\n",
       "  766,\n",
       "  186,\n",
       "  7,\n",
       "  464,\n",
       "  735,\n",
       "  285,\n",
       "  406,\n",
       "  297,\n",
       "  931,\n",
       "  447,\n",
       "  541,\n",
       "  264,\n",
       "  402,\n",
       "  27,\n",
       "  297,\n",
       "  133,\n",
       "  515,\n",
       "  502,\n",
       "  186,\n",
       "  1047,\n",
       "  355,\n",
       "  0,\n",
       "  234,\n",
       "  22,\n",
       "  403,\n",
       "  464,\n",
       "  308,\n",
       "  596,\n",
       "  541,\n",
       "  1026,\n",
       "  500,\n",
       "  511,\n",
       "  468,\n",
       "  488,\n",
       "  149,\n",
       "  412,\n",
       "  596,\n",
       "  630,\n",
       "  822,\n",
       "  402,\n",
       "  394,\n",
       "  464,\n",
       "  464,\n",
       "  630,\n",
       "  1047,\n",
       "  207,\n",
       "  284,\n",
       "  761,\n",
       "  284,\n",
       "  72,\n",
       "  33,\n",
       "  765,\n",
       "  766,\n",
       "  529,\n",
       "  149,\n",
       "  1026,\n",
       "  402,\n",
       "  412,\n",
       "  394,\n",
       "  7,\n",
       "  1026,\n",
       "  27,\n",
       "  27,\n",
       "  35,\n",
       "  515,\n",
       "  7,\n",
       "  718,\n",
       "  468,\n",
       "  173,\n",
       "  285,\n",
       "  285,\n",
       "  35,\n",
       "  72,\n",
       "  736,\n",
       "  501,\n",
       "  0,\n",
       "  511,\n",
       "  308,\n",
       "  440,\n",
       "  234,\n",
       "  740,\n",
       "  718,\n",
       "  412,\n",
       "  0,\n",
       "  1026,\n",
       "  468,\n",
       "  464,\n",
       "  466,\n",
       "  207,\n",
       "  275,\n",
       "  0,\n",
       "  412,\n",
       "  1047,\n",
       "  234,\n",
       "  465,\n",
       "  541,\n",
       "  502,\n",
       "  72,\n",
       "  541,\n",
       "  394,\n",
       "  193,\n",
       "  207,\n",
       "  394,\n",
       "  186,\n",
       "  1047,\n",
       "  275,\n",
       "  735,\n",
       "  736,\n",
       "  502,\n",
       "  596,\n",
       "  467,\n",
       "  412,\n",
       "  467,\n",
       "  27,\n",
       "  235,\n",
       "  596,\n",
       "  149,\n",
       "  465,\n",
       "  297,\n",
       "  284,\n",
       "  766,\n",
       "  604,\n",
       "  822,\n",
       "  766,\n",
       "  1026,\n",
       "  1019,\n",
       "  700,\n",
       "  391,\n",
       "  358,\n",
       "  735,\n",
       "  1047,\n",
       "  27,\n",
       "  504,\n",
       "  308,\n",
       "  500,\n",
       "  285,\n",
       "  464,\n",
       "  465,\n",
       "  403,\n",
       "  308,\n",
       "  285,\n",
       "  207,\n",
       "  72,\n",
       "  596,\n",
       "  284,\n",
       "  511,\n",
       "  207,\n",
       "  630,\n",
       "  556,\n",
       "  464,\n",
       "  515,\n",
       "  700,\n",
       "  234,\n",
       "  106,\n",
       "  275,\n",
       "  501,\n",
       "  515,\n",
       "  234,\n",
       "  736,\n",
       "  718,\n",
       "  35,\n",
       "  393,\n",
       "  149,\n",
       "  466,\n",
       "  394,\n",
       "  464,\n",
       "  511,\n",
       "  768,\n",
       "  500,\n",
       "  504,\n",
       "  186,\n",
       "  412,\n",
       "  541,\n",
       "  1047,\n",
       "  394,\n",
       "  1019,\n",
       "  275,\n",
       "  186,\n",
       "  1035,\n",
       "  234,\n",
       "  7,\n",
       "  1047,\n",
       "  700,\n",
       "  149,\n",
       "  345,\n",
       "  510,\n",
       "  394,\n",
       "  234,\n",
       "  234,\n",
       "  186,\n",
       "  221,\n",
       "  671,\n",
       "  308,\n",
       "  596,\n",
       "  234,\n",
       "  308,\n",
       "  822,\n",
       "  212,\n",
       "  72,\n",
       "  285,\n",
       "  465,\n",
       "  33,\n",
       "  0,\n",
       "  0,\n",
       "  541,\n",
       "  596,\n",
       "  447,\n",
       "  1026,\n",
       "  750,\n",
       "  412,\n",
       "  735,\n",
       "  596,\n",
       "  466,\n",
       "  502,\n",
       "  403,\n",
       "  468,\n",
       "  285,\n",
       "  467,\n",
       "  1026,\n",
       "  511,\n",
       "  515,\n",
       "  465,\n",
       "  297,\n",
       "  465,\n",
       "  1019,\n",
       "  394,\n",
       "  596,\n",
       "  754,\n",
       "  186,\n",
       "  504,\n",
       "  465,\n",
       "  35,\n",
       "  27,\n",
       "  275,\n",
       "  500,\n",
       "  735,\n",
       "  922,\n",
       "  511,\n",
       "  149,\n",
       "  598,\n",
       "  596,\n",
       "  1071,\n",
       "  1026,\n",
       "  541,\n",
       "  596,\n",
       "  718,\n",
       "  33,\n",
       "  275,\n",
       "  515,\n",
       "  676,\n",
       "  596,\n",
       "  582,\n",
       "  70,\n",
       "  464,\n",
       "  234,\n",
       "  501,\n",
       "  1026,\n",
       "  119,\n",
       "  630,\n",
       "  186,\n",
       "  275,\n",
       "  541,\n",
       "  33,\n",
       "  27,\n",
       "  775,\n",
       "  465,\n",
       "  630,\n",
       "  402,\n",
       "  1047,\n",
       "  68,\n",
       "  515,\n",
       "  1019,\n",
       "  0,\n",
       "  735,\n",
       "  27,\n",
       "  72,\n",
       "  467,\n",
       "  234,\n",
       "  465,\n",
       "  27,\n",
       "  502,\n",
       "  541,\n",
       "  186,\n",
       "  27,\n",
       "  596,\n",
       "  567,\n",
       "  186,\n",
       "  735,\n",
       "  532,\n",
       "  515,\n",
       "  308,\n",
       "  822,\n",
       "  205,\n",
       "  275,\n",
       "  467,\n",
       "  437,\n",
       "  308,\n",
       "  1026,\n",
       "  718,\n",
       "  541,\n",
       "  394,\n",
       "  275,\n",
       "  822,\n",
       "  1019,\n",
       "  1047,\n",
       "  275,\n",
       "  402,\n",
       "  7,\n",
       "  523,\n",
       "  630,\n",
       "  541,\n",
       "  27,\n",
       "  1019,\n",
       "  35,\n",
       "  504,\n",
       "  149,\n",
       "  7,\n",
       "  500,\n",
       "  630,\n",
       "  466,\n",
       "  88,\n",
       "  766,\n",
       "  7,\n",
       "  297,\n",
       "  234,\n",
       "  912,\n",
       "  447,\n",
       "  766,\n",
       "  402,\n",
       "  759,\n",
       "  630,\n",
       "  193,\n",
       "  1035,\n",
       "  631,\n",
       "  505,\n",
       "  284,\n",
       "  237,\n",
       "  193,\n",
       "  718,\n",
       "  402,\n",
       "  275,\n",
       "  502,\n",
       "  394,\n",
       "  35,\n",
       "  511,\n",
       "  1035,\n",
       "  207,\n",
       "  541,\n",
       "  234,\n",
       "  1035,\n",
       "  515,\n",
       "  1019,\n",
       "  466,\n",
       "  515,\n",
       "  700,\n",
       "  465,\n",
       "  502,\n",
       "  1047,\n",
       "  796,\n",
       "  7,\n",
       "  889,\n",
       "  0,\n",
       "  718,\n",
       "  501,\n",
       "  541,\n",
       "  736,\n",
       "  208,\n",
       "  308,\n",
       "  1047,\n",
       "  603,\n",
       "  657,\n",
       "  464,\n",
       "  27,\n",
       "  735,\n",
       "  394,\n",
       "  1047,\n",
       "  822,\n",
       "  515,\n",
       "  7,\n",
       "  502,\n",
       "  149,\n",
       "  718,\n",
       "  1019,\n",
       "  630,\n",
       "  186,\n",
       "  468,\n",
       "  465,\n",
       "  766,\n",
       "  35,\n",
       "  464,\n",
       "  402,\n",
       "  1035,\n",
       "  504,\n",
       "  465,\n",
       "  435,\n",
       "  1047,\n",
       "  186,\n",
       "  504,\n",
       "  822,\n",
       "  515,\n",
       "  1047,\n",
       "  820,\n",
       "  596,\n",
       "  27,\n",
       "  308,\n",
       "  1062,\n",
       "  718,\n",
       "  412,\n",
       "  193,\n",
       "  207,\n",
       "  766,\n",
       "  700,\n",
       "  822,\n",
       "  52,\n",
       "  412,\n",
       "  429,\n",
       "  1003,\n",
       "  402,\n",
       "  1035,\n",
       "  193,\n",
       "  718,\n",
       "  1019,\n",
       "  1026,\n",
       "  700,\n",
       "  1026,\n",
       "  735,\n",
       "  33,\n",
       "  735,\n",
       "  402,\n",
       "  1047,\n",
       "  412,\n",
       "  719,\n",
       "  766,\n",
       "  467,\n",
       "  504,\n",
       "  511,\n",
       "  339,\n",
       "  990,\n",
       "  207,\n",
       "  766,\n",
       "  447,\n",
       "  35,\n",
       "  766,\n",
       "  822,\n",
       "  468,\n",
       "  468,\n",
       "  863,\n",
       "  464,\n",
       "  394,\n",
       "  596,\n",
       "  149,\n",
       "  35,\n",
       "  0,\n",
       "  1035,\n",
       "  700,\n",
       "  504,\n",
       "  766,\n",
       "  7,\n",
       "  504,\n",
       "  691,\n",
       "  72,\n",
       "  447,\n",
       "  402,\n",
       "  260,\n",
       "  423,\n",
       "  207,\n",
       "  655,\n",
       "  700,\n",
       "  412,\n",
       "  766,\n",
       "  735,\n",
       "  72,\n",
       "  91,\n",
       "  302,\n",
       "  735,\n",
       "  667,\n",
       "  466,\n",
       "  35,\n",
       "  207,\n",
       "  464,\n",
       "  464,\n",
       "  959,\n",
       "  1035,\n",
       "  275,\n",
       "  729,\n",
       "  468,\n",
       "  732,\n",
       "  596,\n",
       "  402,\n",
       "  234,\n",
       "  402,\n",
       "  697,\n",
       "  735,\n",
       "  1007,\n",
       "  766,\n",
       "  735,\n",
       "  0,\n",
       "  822,\n",
       "  735,\n",
       "  1047,\n",
       "  501,\n",
       "  1035,\n",
       "  122,\n",
       "  412,\n",
       "  630,\n",
       "  465,\n",
       "  308,\n",
       "  193,\n",
       "  35,\n",
       "  718,\n",
       "  7,\n",
       "  1035,\n",
       "  467,\n",
       "  35,\n",
       "  468,\n",
       "  504,\n",
       "  275,\n",
       "  718,\n",
       "  7,\n",
       "  207,\n",
       "  464,\n",
       "  35,\n",
       "  991,\n",
       "  541,\n",
       "  948,\n",
       "  308,\n",
       "  1026,\n",
       "  504,\n",
       "  465,\n",
       "  766,\n",
       "  272,\n",
       "  163,\n",
       "  308,\n",
       "  297,\n",
       "  33,\n",
       "  616,\n",
       "  596,\n",
       "  700,\n",
       "  394,\n",
       "  1026,\n",
       "  412,\n",
       "  1019,\n",
       "  402,\n",
       "  766,\n",
       "  7,\n",
       "  541,\n",
       "  1035,\n",
       "  822,\n",
       "  464,\n",
       "  207,\n",
       "  612,\n",
       "  501,\n",
       "  27,\n",
       "  630,\n",
       "  234,\n",
       "  766,\n",
       "  700,\n",
       "  72,\n",
       "  500,\n",
       "  718,\n",
       "  33,\n",
       "  72,\n",
       "  465,\n",
       "  447,\n",
       "  0,\n",
       "  309,\n",
       "  766,\n",
       "  464,\n",
       "  700,\n",
       "  207,\n",
       "  718,\n",
       "  477,\n",
       "  72,\n",
       "  686,\n",
       "  256,\n",
       "  718,\n",
       "  504,\n",
       "  766,\n",
       "  1037,\n",
       "  284,\n",
       "  511,\n",
       "  149,\n",
       "  466,\n",
       "  718,\n",
       "  464,\n",
       "  234,\n",
       "  515,\n",
       "  0,\n",
       "  186,\n",
       "  290,\n",
       "  1035,\n",
       "  1026,\n",
       "  0,\n",
       "  504,\n",
       "  511,\n",
       "  502,\n",
       "  27,\n",
       "  766,\n",
       "  501,\n",
       "  718,\n",
       "  285,\n",
       "  207,\n",
       "  465,\n",
       "  464,\n",
       "  234,\n",
       "  465,\n",
       "  700,\n",
       "  700,\n",
       "  515,\n",
       "  718,\n",
       "  275,\n",
       "  502,\n",
       "  275,\n",
       "  822,\n",
       "  149,\n",
       "  466,\n",
       "  149,\n",
       "  72,\n",
       "  630,\n",
       "  1047,\n",
       "  207,\n",
       "  822,\n",
       "  234,\n",
       "  35,\n",
       "  515,\n",
       "  33,\n",
       "  700,\n",
       "  33,\n",
       "  500,\n",
       "  1047,\n",
       "  35,\n",
       "  700,\n",
       "  502,\n",
       "  468,\n",
       "  520,\n",
       "  149,\n",
       "  735,\n",
       "  735,\n",
       "  447,\n",
       "  1019,\n",
       "  186,\n",
       "  502,\n",
       "  412,\n",
       "  207,\n",
       "  72,\n",
       "  700,\n",
       "  465,\n",
       "  402,\n",
       "  1035,\n",
       "  7,\n",
       "  1047,\n",
       "  1019,\n",
       "  447,\n",
       "  0,\n",
       "  394,\n",
       "  297,\n",
       "  308,\n",
       "  467,\n",
       "  736,\n",
       "  822,\n",
       "  1019,\n",
       "  72,\n",
       "  186,\n",
       "  412,\n",
       "  207,\n",
       "  72,\n",
       "  822,\n",
       "  465,\n",
       "  38,\n",
       "  465,\n",
       "  394,\n",
       "  1047,\n",
       "  502,\n",
       "  464,\n",
       "  0,\n",
       "  700,\n",
       "  186,\n",
       "  402,\n",
       "  700,\n",
       "  670,\n",
       "  468,\n",
       "  735,\n",
       "  193,\n",
       "  285,\n",
       "  766,\n",
       "  493,\n",
       "  596,\n",
       "  541,\n",
       "  630,\n",
       "  394,\n",
       "  1019,\n",
       "  193,\n",
       "  447,\n",
       "  33,\n",
       "  412,\n",
       "  402,\n",
       "  662,\n",
       "  35,\n",
       "  186,\n",
       "  285,\n",
       "  202,\n",
       "  304,\n",
       "  297,\n",
       "  1035,\n",
       "  465,\n",
       "  596,\n",
       "  1047,\n",
       "  541,\n",
       "  468,\n",
       "  220,\n",
       "  342,\n",
       "  72,\n",
       "  297,\n",
       "  33,\n",
       "  234,\n",
       "  718,\n",
       "  394,\n",
       "  27,\n",
       "  7,\n",
       "  234,\n",
       "  412,\n",
       "  464,\n",
       "  465,\n",
       "  596,\n",
       "  186,\n",
       "  402,\n",
       "  502,\n",
       "  515,\n",
       "  27,\n",
       "  1035,\n",
       "  412,\n",
       "  412,\n",
       "  467,\n",
       "  630,\n",
       "  465,\n",
       "  308,\n",
       "  596,\n",
       "  468,\n",
       "  66,\n",
       "  234,\n",
       "  72,\n",
       "  33,\n",
       "  7,\n",
       "  412,\n",
       "  132,\n",
       "  224,\n",
       "  855,\n",
       "  81,\n",
       "  502,\n",
       "  651,\n",
       "  207,\n",
       "  735,\n",
       "  822,\n",
       "  27,\n",
       "  766,\n",
       "  465,\n",
       "  149,\n",
       "  501,\n",
       "  412,\n",
       "  35,\n",
       "  465,\n",
       "  525,\n",
       "  1019,\n",
       "  402,\n",
       "  1047,\n",
       "  1047,\n",
       "  458,\n",
       "  501,\n",
       "  149,\n",
       "  466,\n",
       "  181,\n",
       "  502,\n",
       "  164,\n",
       "  447,\n",
       "  466,\n",
       "  502,\n",
       "  297,\n",
       "  718,\n",
       "  207,\n",
       "  ...]}"
      ]
     },
     "execution_count": 10,
     "metadata": {},
     "output_type": "execute_result"
    }
   ],
   "source": [
    "augmented_dataset"
   ]
  },
  {
   "cell_type": "code",
   "execution_count": 11,
   "metadata": {},
   "outputs": [],
   "source": [
    "# Assuming 'dataset' is your original DatasetDict containing 'train' and 'test' splits\n",
    "# And assuming 'augmented_texts' and 'labels' are your lists of augmented data and their corresponding labels\n",
    "\n",
    "# Convert augmented data into a list of dictionaries\n",
    "augmented_data = [{'text': text, 'label': label} for text, label in zip(augmented_texts, labels)]\n",
    "\n",
    "# Append augmented data to the original dataset\n",
    "for item in augmented_data:\n",
    "    dataset['train'] = dataset['train'].add_item(item)\n",
    "\n",
    "# Now, 'dataset['train']' contains both the original and augmented data as separate rows\n"
   ]
  },
  {
   "cell_type": "code",
   "execution_count": 12,
   "metadata": {},
   "outputs": [
    {
     "data": {
      "text/plain": [
       "DatasetDict({\n",
       "    train: Dataset({\n",
       "        features: ['text', 'label'],\n",
       "        num_rows: 11268\n",
       "    })\n",
       "    test: Dataset({\n",
       "        features: ['text', 'label'],\n",
       "        num_rows: 1409\n",
       "    })\n",
       "})"
      ]
     },
     "execution_count": 12,
     "metadata": {},
     "output_type": "execute_result"
    }
   ],
   "source": [
    "dataset"
   ]
  },
  {
   "cell_type": "code",
   "execution_count": 13,
   "metadata": {},
   "outputs": [],
   "source": [
    "# from googletrans import Translator, LANGUAGES\n",
    "\n",
    "# translator = Translator()\n",
    "\n",
    "# def translate_augment(text, lang='es'):\n",
    "#     # Translate to the target language\n",
    "#     translated = translator.translate(text, dest=lang).text\n",
    "#     # Translate back to the original language\n",
    "#     retranslated = translator.translate(translated, dest='en').text\n",
    "#     return retranslated\n"
   ]
  },
  {
   "cell_type": "code",
   "execution_count": 14,
   "metadata": {},
   "outputs": [],
   "source": [
    "# # Function to augment the data\n",
    "# def augment_dataset_2(data, augmentation_function):\n",
    "#     augmented_texts = []\n",
    "#     labels = []\n",
    "#     for example in data:\n",
    "#         augmented_text = augmentation_function(example['text'],)\n",
    "#         augmented_texts.append(augmented_text)\n",
    "#         labels.append(example['label'])\n",
    "#     return augmented_texts, labels\n",
    "\n",
    "# # Augment the training data\n",
    "# augmented_texts, labels = augment_dataset_2(dataset['train'], translate_augment)\n",
    "\n",
    "# # Create a new dataset from the augmented texts and labels\n",
    "# augmented_dataset = {\n",
    "#     'text': augmented_texts + [example['text'] for example in dataset['train']],\n",
    "#     'label': labels + [example['label'] for example in dataset['train']]\n",
    "# }\n"
   ]
  },
  {
   "cell_type": "code",
   "execution_count": 15,
   "metadata": {},
   "outputs": [],
   "source": [
    "# Assuming 'dataset' is your original DatasetDict containing 'train' and 'test' splits\n",
    "# And assuming 'augmented_texts' and 'labels' are your lists of augmented data and their corresponding labels\n",
    "\n",
    "# Convert augmented data into a list of dictionaries\n",
    "# augmented_data = [{'text': text, 'label': label} for text, label in zip(augmented_texts, labels)]\n",
    "\n",
    "# # Append augmented data to the original dataset\n",
    "# for item in augmented_data:\n",
    "#     dataset['train'] = dataset['train'].add_item(item)\n",
    "\n",
    "# Now, 'dataset['train']' contains both the original and augmented data as separate rows"
   ]
  },
  {
   "cell_type": "code",
   "execution_count": 16,
   "metadata": {},
   "outputs": [
    {
     "data": {
      "text/plain": [
       "DatasetDict({\n",
       "    train: Dataset({\n",
       "        features: ['text', 'label'],\n",
       "        num_rows: 11268\n",
       "    })\n",
       "    test: Dataset({\n",
       "        features: ['text', 'label'],\n",
       "        num_rows: 1409\n",
       "    })\n",
       "})"
      ]
     },
     "execution_count": 16,
     "metadata": {},
     "output_type": "execute_result"
    }
   ],
   "source": [
    "dataset"
   ]
  },
  {
   "cell_type": "code",
   "execution_count": 17,
   "metadata": {},
   "outputs": [],
   "source": [
    "#fine tune the model\n",
    "from transformers import TrainingArguments, Trainer\n",
    "\n",
    "training_args = TrainingArguments(\n",
    "    per_device_train_batch_size=24,\n",
    "    num_train_epochs=3,\n",
    "    learning_rate=2e-8,\n",
    "    logging_dir='./logs',\n",
    "    logging_steps=10,\n",
    "    do_train=True,\n",
    "    do_eval=True,\n",
    "    output_dir='./results',\n",
    "    overwrite_output_dir=True,\n",
    ")\n",
    "\n",
    "\n",
    "\n"
   ]
  },
  {
   "cell_type": "code",
   "execution_count": 18,
   "metadata": {},
   "outputs": [
    {
     "name": "stderr",
     "output_type": "stream",
     "text": [
      "Map: 100%|██████████| 11268/11268 [00:02<00:00, 5543.69 examples/s]\n"
     ]
    }
   ],
   "source": [
    "#tokenize the data\n",
    "from transformers import AutoTokenizer\n",
    "\n",
    "tokenizer = AutoTokenizer.from_pretrained(\"duxprajapati/symptom-disease-model\")\n",
    "\n",
    "tokenized_dataset = dataset.map(lambda examples: tokenizer(examples['text'], padding='max_length', truncation=True), batched=True)\n"
   ]
  },
  {
   "cell_type": "code",
   "execution_count": 19,
   "metadata": {},
   "outputs": [
    {
     "data": {
      "text/plain": [
       "DatasetDict({\n",
       "    train: Dataset({\n",
       "        features: ['text', 'label', 'input_ids', 'attention_mask'],\n",
       "        num_rows: 11268\n",
       "    })\n",
       "    test: Dataset({\n",
       "        features: ['text', 'label', 'input_ids', 'attention_mask'],\n",
       "        num_rows: 1409\n",
       "    })\n",
       "})"
      ]
     },
     "execution_count": 19,
     "metadata": {},
     "output_type": "execute_result"
    }
   ],
   "source": [
    "tokenized_dataset"
   ]
  },
  {
   "cell_type": "code",
   "execution_count": 20,
   "metadata": {},
   "outputs": [
    {
     "name": "stderr",
     "output_type": "stream",
     "text": [
      "c:\\Users\\GamerPc\\.conda\\envs\\tensorflow\\lib\\site-packages\\accelerate\\accelerator.py:432: FutureWarning: Passing the following arguments to `Accelerator` is deprecated and will be removed in version 1.0 of Accelerate: dict_keys(['dispatch_batches', 'split_batches', 'even_batches', 'use_seedable_sampler']). Please pass an `accelerate.DataLoaderConfiguration` instead: \n",
      "dataloader_config = DataLoaderConfiguration(dispatch_batches=None, split_batches=False, even_batches=True, use_seedable_sampler=True)\n",
      "  warnings.warn(\n"
     ]
    }
   ],
   "source": [
    "trainer = Trainer(\n",
    "    model=model_base,\n",
    "    args=training_args,\n",
    "    train_dataset=tokenized_dataset['train'],\n",
    "    eval_dataset=tokenized_dataset['test'],\n",
    ")"
   ]
  },
  {
   "cell_type": "code",
   "execution_count": 21,
   "metadata": {},
   "outputs": [
    {
     "name": "stderr",
     "output_type": "stream",
     "text": [
      "  1%|          | 10/1410 [02:07<4:55:23, 12.66s/it]"
     ]
    },
    {
     "name": "stdout",
     "output_type": "stream",
     "text": [
      "{'loss': 0.343, 'grad_norm': 4.519108772277832, 'learning_rate': 1.9858156028368796e-08, 'epoch': 0.02}\n"
     ]
    },
    {
     "name": "stderr",
     "output_type": "stream",
     "text": [
      "  1%|▏         | 20/1410 [04:15<4:56:38, 12.80s/it]"
     ]
    },
    {
     "name": "stdout",
     "output_type": "stream",
     "text": [
      "{'loss': 0.239, 'grad_norm': 1.4740196466445923, 'learning_rate': 1.9716312056737588e-08, 'epoch': 0.04}\n"
     ]
    },
    {
     "name": "stderr",
     "output_type": "stream",
     "text": [
      "  2%|▏         | 30/1410 [06:23<4:54:11, 12.79s/it]"
     ]
    },
    {
     "name": "stdout",
     "output_type": "stream",
     "text": [
      "{'loss': 0.2721, 'grad_norm': 2.0385046005249023, 'learning_rate': 1.9574468085106384e-08, 'epoch': 0.06}\n"
     ]
    },
    {
     "name": "stderr",
     "output_type": "stream",
     "text": [
      "  3%|▎         | 40/1410 [08:29<4:51:09, 12.75s/it]"
     ]
    },
    {
     "name": "stdout",
     "output_type": "stream",
     "text": [
      "{'loss': 0.2751, 'grad_norm': 3.2401652336120605, 'learning_rate': 1.9432624113475176e-08, 'epoch': 0.09}\n"
     ]
    },
    {
     "name": "stderr",
     "output_type": "stream",
     "text": [
      "  4%|▎         | 50/1410 [10:38<4:51:36, 12.87s/it]"
     ]
    },
    {
     "name": "stdout",
     "output_type": "stream",
     "text": [
      "{'loss': 0.2991, 'grad_norm': 3.4341206550598145, 'learning_rate': 1.9290780141843972e-08, 'epoch': 0.11}\n"
     ]
    },
    {
     "name": "stderr",
     "output_type": "stream",
     "text": [
      "  4%|▍         | 60/1410 [12:48<4:50:58, 12.93s/it]"
     ]
    },
    {
     "name": "stdout",
     "output_type": "stream",
     "text": [
      "{'loss': 0.2769, 'grad_norm': 1.252944827079773, 'learning_rate': 1.9148936170212767e-08, 'epoch': 0.13}\n"
     ]
    },
    {
     "name": "stderr",
     "output_type": "stream",
     "text": [
      "  5%|▍         | 70/1410 [14:57<4:49:29, 12.96s/it]"
     ]
    },
    {
     "name": "stdout",
     "output_type": "stream",
     "text": [
      "{'loss': 0.3092, 'grad_norm': 4.060464382171631, 'learning_rate': 1.9007092198581563e-08, 'epoch': 0.15}\n"
     ]
    },
    {
     "name": "stderr",
     "output_type": "stream",
     "text": [
      "  6%|▌         | 80/1410 [17:07<4:47:43, 12.98s/it]"
     ]
    },
    {
     "name": "stdout",
     "output_type": "stream",
     "text": [
      "{'loss': 0.2828, 'grad_norm': 2.6505727767944336, 'learning_rate': 1.8865248226950355e-08, 'epoch': 0.17}\n"
     ]
    },
    {
     "name": "stderr",
     "output_type": "stream",
     "text": [
      "  6%|▋         | 90/1410 [19:17<4:45:31, 12.98s/it]"
     ]
    },
    {
     "name": "stdout",
     "output_type": "stream",
     "text": [
      "{'loss': 0.3266, 'grad_norm': 2.779618740081787, 'learning_rate': 1.872340425531915e-08, 'epoch': 0.19}\n"
     ]
    },
    {
     "name": "stderr",
     "output_type": "stream",
     "text": [
      "  7%|▋         | 100/1410 [21:26<4:41:35, 12.90s/it]"
     ]
    },
    {
     "name": "stdout",
     "output_type": "stream",
     "text": [
      "{'loss': 0.2695, 'grad_norm': 2.8971502780914307, 'learning_rate': 1.8581560283687943e-08, 'epoch': 0.21}\n"
     ]
    },
    {
     "name": "stderr",
     "output_type": "stream",
     "text": [
      "  8%|▊         | 110/1410 [23:35<4:38:24, 12.85s/it]"
     ]
    },
    {
     "name": "stdout",
     "output_type": "stream",
     "text": [
      "{'loss': 0.1779, 'grad_norm': 0.37143227458000183, 'learning_rate': 1.843971631205674e-08, 'epoch': 0.23}\n"
     ]
    },
    {
     "name": "stderr",
     "output_type": "stream",
     "text": [
      "  9%|▊         | 120/1410 [25:45<4:37:29, 12.91s/it]"
     ]
    },
    {
     "name": "stdout",
     "output_type": "stream",
     "text": [
      "{'loss': 0.335, 'grad_norm': 3.372220516204834, 'learning_rate': 1.829787234042553e-08, 'epoch': 0.26}\n"
     ]
    },
    {
     "name": "stderr",
     "output_type": "stream",
     "text": [
      "  9%|▉         | 130/1410 [27:54<4:35:49, 12.93s/it]"
     ]
    },
    {
     "name": "stdout",
     "output_type": "stream",
     "text": [
      "{'loss': 0.2788, 'grad_norm': 2.6434264183044434, 'learning_rate': 1.8156028368794327e-08, 'epoch': 0.28}\n"
     ]
    },
    {
     "name": "stderr",
     "output_type": "stream",
     "text": [
      " 10%|▉         | 140/1410 [30:04<4:33:39, 12.93s/it]"
     ]
    },
    {
     "name": "stdout",
     "output_type": "stream",
     "text": [
      "{'loss': 0.3164, 'grad_norm': 3.6421146392822266, 'learning_rate': 1.801418439716312e-08, 'epoch': 0.3}\n"
     ]
    },
    {
     "name": "stderr",
     "output_type": "stream",
     "text": [
      " 11%|█         | 150/1410 [32:14<4:31:57, 12.95s/it]"
     ]
    },
    {
     "name": "stdout",
     "output_type": "stream",
     "text": [
      "{'loss': 0.2886, 'grad_norm': 2.319040298461914, 'learning_rate': 1.7872340425531914e-08, 'epoch': 0.32}\n"
     ]
    },
    {
     "name": "stderr",
     "output_type": "stream",
     "text": [
      " 11%|█▏        | 160/1410 [34:23<4:29:27, 12.93s/it]"
     ]
    },
    {
     "name": "stdout",
     "output_type": "stream",
     "text": [
      "{'loss': 0.3056, 'grad_norm': 2.1156792640686035, 'learning_rate': 1.773049645390071e-08, 'epoch': 0.34}\n"
     ]
    },
    {
     "name": "stderr",
     "output_type": "stream",
     "text": [
      " 12%|█▏        | 170/1410 [36:33<4:27:01, 12.92s/it]"
     ]
    },
    {
     "name": "stdout",
     "output_type": "stream",
     "text": [
      "{'loss': 0.3251, 'grad_norm': 3.2693331241607666, 'learning_rate': 1.7588652482269506e-08, 'epoch': 0.36}\n"
     ]
    },
    {
     "name": "stderr",
     "output_type": "stream",
     "text": [
      " 13%|█▎        | 180/1410 [38:42<4:24:55, 12.92s/it]"
     ]
    },
    {
     "name": "stdout",
     "output_type": "stream",
     "text": [
      "{'loss': 0.2436, 'grad_norm': 1.7332932949066162, 'learning_rate': 1.7446808510638298e-08, 'epoch': 0.38}\n"
     ]
    },
    {
     "name": "stderr",
     "output_type": "stream",
     "text": [
      " 13%|█▎        | 190/1410 [40:52<4:22:12, 12.90s/it]"
     ]
    },
    {
     "name": "stdout",
     "output_type": "stream",
     "text": [
      "{'loss': 0.3194, 'grad_norm': 5.750783920288086, 'learning_rate': 1.7304964539007093e-08, 'epoch': 0.4}\n"
     ]
    },
    {
     "name": "stderr",
     "output_type": "stream",
     "text": [
      " 14%|█▍        | 200/1410 [43:02<4:21:18, 12.96s/it]"
     ]
    },
    {
     "name": "stdout",
     "output_type": "stream",
     "text": [
      "{'loss': 0.2553, 'grad_norm': 0.0353192500770092, 'learning_rate': 1.7163120567375886e-08, 'epoch': 0.43}\n"
     ]
    },
    {
     "name": "stderr",
     "output_type": "stream",
     "text": [
      " 15%|█▍        | 210/1410 [45:11<4:18:13, 12.91s/it]"
     ]
    },
    {
     "name": "stdout",
     "output_type": "stream",
     "text": [
      "{'loss': 0.2432, 'grad_norm': 1.9035440683364868, 'learning_rate': 1.702127659574468e-08, 'epoch': 0.45}\n"
     ]
    },
    {
     "name": "stderr",
     "output_type": "stream",
     "text": [
      " 16%|█▌        | 220/1410 [47:20<4:16:03, 12.91s/it]"
     ]
    },
    {
     "name": "stdout",
     "output_type": "stream",
     "text": [
      "{'loss': 0.3407, 'grad_norm': 2.464313507080078, 'learning_rate': 1.6879432624113477e-08, 'epoch': 0.47}\n"
     ]
    },
    {
     "name": "stderr",
     "output_type": "stream",
     "text": [
      " 16%|█▋        | 230/1410 [49:29<4:14:24, 12.94s/it]"
     ]
    },
    {
     "name": "stdout",
     "output_type": "stream",
     "text": [
      "{'loss': 0.3051, 'grad_norm': 3.648425579071045, 'learning_rate': 1.673758865248227e-08, 'epoch': 0.49}\n"
     ]
    },
    {
     "name": "stderr",
     "output_type": "stream",
     "text": [
      " 17%|█▋        | 240/1410 [51:39<4:11:46, 12.91s/it]"
     ]
    },
    {
     "name": "stdout",
     "output_type": "stream",
     "text": [
      "{'loss': 0.2184, 'grad_norm': 2.062157154083252, 'learning_rate': 1.6595744680851065e-08, 'epoch': 0.51}\n"
     ]
    },
    {
     "name": "stderr",
     "output_type": "stream",
     "text": [
      " 18%|█▊        | 250/1410 [53:48<4:08:10, 12.84s/it]"
     ]
    },
    {
     "name": "stdout",
     "output_type": "stream",
     "text": [
      "{'loss': 0.311, 'grad_norm': 4.987637519836426, 'learning_rate': 1.6453900709219857e-08, 'epoch': 0.53}\n"
     ]
    },
    {
     "name": "stderr",
     "output_type": "stream",
     "text": [
      " 18%|█▊        | 260/1410 [55:58<4:09:05, 13.00s/it]"
     ]
    },
    {
     "name": "stdout",
     "output_type": "stream",
     "text": [
      "{'loss': 0.2717, 'grad_norm': 5.834586143493652, 'learning_rate': 1.6312056737588653e-08, 'epoch': 0.55}\n"
     ]
    },
    {
     "name": "stderr",
     "output_type": "stream",
     "text": [
      " 19%|█▉        | 270/1410 [58:08<4:05:34, 12.92s/it]"
     ]
    },
    {
     "name": "stdout",
     "output_type": "stream",
     "text": [
      "{'loss': 0.2512, 'grad_norm': 2.9063501358032227, 'learning_rate': 1.6170212765957445e-08, 'epoch': 0.57}\n"
     ]
    },
    {
     "name": "stderr",
     "output_type": "stream",
     "text": [
      " 20%|█▉        | 280/1410 [1:00:17<4:02:20, 12.87s/it]"
     ]
    },
    {
     "name": "stdout",
     "output_type": "stream",
     "text": [
      "{'loss': 0.2091, 'grad_norm': 2.1859242916107178, 'learning_rate': 1.6028368794326244e-08, 'epoch': 0.6}\n"
     ]
    },
    {
     "name": "stderr",
     "output_type": "stream",
     "text": [
      " 21%|██        | 290/1410 [1:02:27<4:02:45, 13.00s/it]"
     ]
    },
    {
     "name": "stdout",
     "output_type": "stream",
     "text": [
      "{'loss': 0.2745, 'grad_norm': 3.105147361755371, 'learning_rate': 1.5886524822695036e-08, 'epoch': 0.62}\n"
     ]
    },
    {
     "name": "stderr",
     "output_type": "stream",
     "text": [
      " 21%|██▏       | 300/1410 [1:04:36<3:57:56, 12.86s/it]"
     ]
    },
    {
     "name": "stdout",
     "output_type": "stream",
     "text": [
      "{'loss': 0.3364, 'grad_norm': 2.4538135528564453, 'learning_rate': 1.5744680851063832e-08, 'epoch': 0.64}\n"
     ]
    },
    {
     "name": "stderr",
     "output_type": "stream",
     "text": [
      " 22%|██▏       | 310/1410 [1:06:46<3:57:22, 12.95s/it]"
     ]
    },
    {
     "name": "stdout",
     "output_type": "stream",
     "text": [
      "{'loss': 0.3175, 'grad_norm': 4.7908172607421875, 'learning_rate': 1.5602836879432624e-08, 'epoch': 0.66}\n"
     ]
    },
    {
     "name": "stderr",
     "output_type": "stream",
     "text": [
      " 23%|██▎       | 320/1410 [1:08:56<3:54:44, 12.92s/it]"
     ]
    },
    {
     "name": "stdout",
     "output_type": "stream",
     "text": [
      "{'loss': 0.2764, 'grad_norm': 2.5694448947906494, 'learning_rate': 1.546099290780142e-08, 'epoch': 0.68}\n"
     ]
    },
    {
     "name": "stderr",
     "output_type": "stream",
     "text": [
      " 23%|██▎       | 330/1410 [1:11:04<3:51:20, 12.85s/it]"
     ]
    },
    {
     "name": "stdout",
     "output_type": "stream",
     "text": [
      "{'loss': 0.3047, 'grad_norm': 1.8648723363876343, 'learning_rate': 1.5319148936170212e-08, 'epoch': 0.7}\n"
     ]
    },
    {
     "name": "stderr",
     "output_type": "stream",
     "text": [
      " 24%|██▍       | 340/1410 [1:13:14<3:50:20, 12.92s/it]"
     ]
    },
    {
     "name": "stdout",
     "output_type": "stream",
     "text": [
      "{'loss': 0.3228, 'grad_norm': 2.522742986679077, 'learning_rate': 1.5177304964539007e-08, 'epoch': 0.72}\n"
     ]
    },
    {
     "name": "stderr",
     "output_type": "stream",
     "text": [
      " 25%|██▍       | 350/1410 [1:15:23<3:48:05, 12.91s/it]"
     ]
    },
    {
     "name": "stdout",
     "output_type": "stream",
     "text": [
      "{'loss': 0.2546, 'grad_norm': 1.3586111068725586, 'learning_rate': 1.50354609929078e-08, 'epoch': 0.74}\n"
     ]
    },
    {
     "name": "stderr",
     "output_type": "stream",
     "text": [
      " 26%|██▌       | 360/1410 [1:17:33<3:46:02, 12.92s/it]"
     ]
    },
    {
     "name": "stdout",
     "output_type": "stream",
     "text": [
      "{'loss': 0.3039, 'grad_norm': 2.502718687057495, 'learning_rate': 1.4893617021276595e-08, 'epoch': 0.77}\n"
     ]
    },
    {
     "name": "stderr",
     "output_type": "stream",
     "text": [
      " 26%|██▌       | 370/1410 [1:19:42<3:43:59, 12.92s/it]"
     ]
    },
    {
     "name": "stdout",
     "output_type": "stream",
     "text": [
      "{'loss': 0.2718, 'grad_norm': 2.1951470375061035, 'learning_rate': 1.475177304964539e-08, 'epoch': 0.79}\n"
     ]
    },
    {
     "name": "stderr",
     "output_type": "stream",
     "text": [
      " 27%|██▋       | 380/1410 [1:21:52<3:41:58, 12.93s/it]"
     ]
    },
    {
     "name": "stdout",
     "output_type": "stream",
     "text": [
      "{'loss': 0.2903, 'grad_norm': 1.3533530235290527, 'learning_rate': 1.4609929078014187e-08, 'epoch': 0.81}\n"
     ]
    },
    {
     "name": "stderr",
     "output_type": "stream",
     "text": [
      " 28%|██▊       | 390/1410 [1:24:01<3:39:09, 12.89s/it]"
     ]
    },
    {
     "name": "stdout",
     "output_type": "stream",
     "text": [
      "{'loss': 0.2862, 'grad_norm': 2.8570706844329834, 'learning_rate': 1.446808510638298e-08, 'epoch': 0.83}\n"
     ]
    },
    {
     "name": "stderr",
     "output_type": "stream",
     "text": [
      " 28%|██▊       | 400/1410 [1:26:10<3:36:54, 12.89s/it]"
     ]
    },
    {
     "name": "stdout",
     "output_type": "stream",
     "text": [
      "{'loss': 0.2552, 'grad_norm': 2.824723243713379, 'learning_rate': 1.4326241134751774e-08, 'epoch': 0.85}\n"
     ]
    },
    {
     "name": "stderr",
     "output_type": "stream",
     "text": [
      " 29%|██▉       | 410/1410 [1:28:20<3:35:32, 12.93s/it]"
     ]
    },
    {
     "name": "stdout",
     "output_type": "stream",
     "text": [
      "{'loss': 0.245, 'grad_norm': 2.8757433891296387, 'learning_rate': 1.4184397163120568e-08, 'epoch': 0.87}\n"
     ]
    },
    {
     "name": "stderr",
     "output_type": "stream",
     "text": [
      " 30%|██▉       | 420/1410 [1:30:29<3:33:05, 12.91s/it]"
     ]
    },
    {
     "name": "stdout",
     "output_type": "stream",
     "text": [
      "{'loss': 0.3128, 'grad_norm': 3.1623713970184326, 'learning_rate': 1.4042553191489362e-08, 'epoch': 0.89}\n"
     ]
    },
    {
     "name": "stderr",
     "output_type": "stream",
     "text": [
      " 30%|███       | 430/1410 [1:32:39<3:31:28, 12.95s/it]"
     ]
    },
    {
     "name": "stdout",
     "output_type": "stream",
     "text": [
      "{'loss': 0.2222, 'grad_norm': 2.55362868309021, 'learning_rate': 1.3900709219858156e-08, 'epoch': 0.91}\n"
     ]
    },
    {
     "name": "stderr",
     "output_type": "stream",
     "text": [
      " 31%|███       | 440/1410 [1:34:48<3:28:28, 12.90s/it]"
     ]
    },
    {
     "name": "stdout",
     "output_type": "stream",
     "text": [
      "{'loss': 0.2712, 'grad_norm': 2.295351982116699, 'learning_rate': 1.375886524822695e-08, 'epoch': 0.94}\n"
     ]
    },
    {
     "name": "stderr",
     "output_type": "stream",
     "text": [
      " 32%|███▏      | 450/1410 [1:36:57<3:26:22, 12.90s/it]"
     ]
    },
    {
     "name": "stdout",
     "output_type": "stream",
     "text": [
      "{'loss': 0.4359, 'grad_norm': 3.8230137825012207, 'learning_rate': 1.3617021276595744e-08, 'epoch': 0.96}\n"
     ]
    },
    {
     "name": "stderr",
     "output_type": "stream",
     "text": [
      " 33%|███▎      | 460/1410 [1:39:07<3:25:10, 12.96s/it]"
     ]
    },
    {
     "name": "stdout",
     "output_type": "stream",
     "text": [
      "{'loss': 0.3194, 'grad_norm': 2.9421284198760986, 'learning_rate': 1.3475177304964538e-08, 'epoch': 0.98}\n"
     ]
    },
    {
     "name": "stderr",
     "output_type": "stream",
     "text": [
      " 33%|███▎      | 470/1410 [1:41:11<2:53:17, 11.06s/it]"
     ]
    },
    {
     "name": "stdout",
     "output_type": "stream",
     "text": [
      "{'loss': 0.2415, 'grad_norm': 4.339226245880127, 'learning_rate': 1.3333333333333334e-08, 'epoch': 1.0}\n"
     ]
    },
    {
     "name": "stderr",
     "output_type": "stream",
     "text": [
      " 34%|███▍      | 480/1410 [1:43:20<3:18:24, 12.80s/it]"
     ]
    },
    {
     "name": "stdout",
     "output_type": "stream",
     "text": [
      "{'loss': 0.3222, 'grad_norm': 3.6636478900909424, 'learning_rate': 1.3191489361702128e-08, 'epoch': 1.02}\n"
     ]
    },
    {
     "name": "stderr",
     "output_type": "stream",
     "text": [
      " 35%|███▍      | 490/1410 [1:45:30<3:17:41, 12.89s/it]"
     ]
    },
    {
     "name": "stdout",
     "output_type": "stream",
     "text": [
      "{'loss': 0.3436, 'grad_norm': 4.145240783691406, 'learning_rate': 1.3049645390070923e-08, 'epoch': 1.04}\n"
     ]
    },
    {
     "name": "stderr",
     "output_type": "stream",
     "text": [
      " 35%|███▌      | 500/1410 [1:47:39<3:15:45, 12.91s/it]"
     ]
    },
    {
     "name": "stdout",
     "output_type": "stream",
     "text": [
      "{'loss': 0.2084, 'grad_norm': 1.4678629636764526, 'learning_rate': 1.2907801418439717e-08, 'epoch': 1.06}\n"
     ]
    },
    {
     "name": "stderr",
     "output_type": "stream",
     "text": [
      " 36%|███▌      | 510/1410 [1:49:49<3:13:38, 12.91s/it]"
     ]
    },
    {
     "name": "stdout",
     "output_type": "stream",
     "text": [
      "{'loss': 0.2312, 'grad_norm': 2.3991997241973877, 'learning_rate': 1.2765957446808511e-08, 'epoch': 1.09}\n"
     ]
    },
    {
     "name": "stderr",
     "output_type": "stream",
     "text": [
      " 37%|███▋      | 520/1410 [1:51:58<3:11:32, 12.91s/it]"
     ]
    },
    {
     "name": "stdout",
     "output_type": "stream",
     "text": [
      "{'loss': 0.2704, 'grad_norm': 4.050826072692871, 'learning_rate': 1.2624113475177305e-08, 'epoch': 1.11}\n"
     ]
    },
    {
     "name": "stderr",
     "output_type": "stream",
     "text": [
      " 38%|███▊      | 530/1410 [1:54:08<3:10:12, 12.97s/it]"
     ]
    },
    {
     "name": "stdout",
     "output_type": "stream",
     "text": [
      "{'loss': 0.3061, 'grad_norm': 3.8242709636688232, 'learning_rate': 1.24822695035461e-08, 'epoch': 1.13}\n"
     ]
    },
    {
     "name": "stderr",
     "output_type": "stream",
     "text": [
      " 38%|███▊      | 540/1410 [1:56:19<3:08:22, 12.99s/it]"
     ]
    },
    {
     "name": "stdout",
     "output_type": "stream",
     "text": [
      "{'loss': 0.2329, 'grad_norm': 3.195796251296997, 'learning_rate': 1.2340425531914894e-08, 'epoch': 1.15}\n"
     ]
    },
    {
     "name": "stderr",
     "output_type": "stream",
     "text": [
      " 39%|███▉      | 550/1410 [1:58:29<3:05:10, 12.92s/it]"
     ]
    },
    {
     "name": "stdout",
     "output_type": "stream",
     "text": [
      "{'loss': 0.2835, 'grad_norm': 3.1722326278686523, 'learning_rate': 1.2198581560283688e-08, 'epoch': 1.17}\n"
     ]
    },
    {
     "name": "stderr",
     "output_type": "stream",
     "text": [
      " 40%|███▉      | 560/1410 [2:00:39<3:03:29, 12.95s/it]"
     ]
    },
    {
     "name": "stdout",
     "output_type": "stream",
     "text": [
      "{'loss': 0.2236, 'grad_norm': 3.997420310974121, 'learning_rate': 1.2056737588652482e-08, 'epoch': 1.19}\n"
     ]
    },
    {
     "name": "stderr",
     "output_type": "stream",
     "text": [
      " 40%|████      | 570/1410 [2:02:49<3:01:42, 12.98s/it]"
     ]
    },
    {
     "name": "stdout",
     "output_type": "stream",
     "text": [
      "{'loss': 0.1781, 'grad_norm': 2.4055466651916504, 'learning_rate': 1.1914893617021276e-08, 'epoch': 1.21}\n"
     ]
    },
    {
     "name": "stderr",
     "output_type": "stream",
     "text": [
      " 41%|████      | 580/1410 [2:04:58<2:58:56, 12.94s/it]"
     ]
    },
    {
     "name": "stdout",
     "output_type": "stream",
     "text": [
      "{'loss': 0.3628, 'grad_norm': 3.3016483783721924, 'learning_rate': 1.177304964539007e-08, 'epoch': 1.23}\n"
     ]
    },
    {
     "name": "stderr",
     "output_type": "stream",
     "text": [
      " 42%|████▏     | 590/1410 [2:07:08<2:57:05, 12.96s/it]"
     ]
    },
    {
     "name": "stdout",
     "output_type": "stream",
     "text": [
      "{'loss': 0.3096, 'grad_norm': 3.211503505706787, 'learning_rate': 1.1631205673758864e-08, 'epoch': 1.26}\n"
     ]
    },
    {
     "name": "stderr",
     "output_type": "stream",
     "text": [
      " 43%|████▎     | 600/1410 [2:09:18<2:55:09, 12.98s/it]"
     ]
    },
    {
     "name": "stdout",
     "output_type": "stream",
     "text": [
      "{'loss': 0.3123, 'grad_norm': 2.514883279800415, 'learning_rate': 1.1489361702127661e-08, 'epoch': 1.28}\n"
     ]
    },
    {
     "name": "stderr",
     "output_type": "stream",
     "text": [
      " 43%|████▎     | 610/1410 [2:11:28<2:52:48, 12.96s/it]"
     ]
    },
    {
     "name": "stdout",
     "output_type": "stream",
     "text": [
      "{'loss': 0.3328, 'grad_norm': 4.229534149169922, 'learning_rate': 1.1347517730496455e-08, 'epoch': 1.3}\n"
     ]
    },
    {
     "name": "stderr",
     "output_type": "stream",
     "text": [
      " 44%|████▍     | 620/1410 [2:13:37<2:50:29, 12.95s/it]"
     ]
    },
    {
     "name": "stdout",
     "output_type": "stream",
     "text": [
      "{'loss': 0.2792, 'grad_norm': 3.635962963104248, 'learning_rate': 1.120567375886525e-08, 'epoch': 1.32}\n"
     ]
    },
    {
     "name": "stderr",
     "output_type": "stream",
     "text": [
      " 45%|████▍     | 630/1410 [2:15:47<2:48:05, 12.93s/it]"
     ]
    },
    {
     "name": "stdout",
     "output_type": "stream",
     "text": [
      "{'loss': 0.2544, 'grad_norm': 2.4591751098632812, 'learning_rate': 1.1063829787234043e-08, 'epoch': 1.34}\n"
     ]
    },
    {
     "name": "stderr",
     "output_type": "stream",
     "text": [
      " 45%|████▌     | 640/1410 [2:17:57<2:46:42, 12.99s/it]"
     ]
    },
    {
     "name": "stdout",
     "output_type": "stream",
     "text": [
      "{'loss': 0.3273, 'grad_norm': 6.615872859954834, 'learning_rate': 1.0921985815602837e-08, 'epoch': 1.36}\n"
     ]
    },
    {
     "name": "stderr",
     "output_type": "stream",
     "text": [
      " 46%|████▌     | 650/1410 [2:20:07<2:43:43, 12.93s/it]"
     ]
    },
    {
     "name": "stdout",
     "output_type": "stream",
     "text": [
      "{'loss': 0.2867, 'grad_norm': 3.6989712715148926, 'learning_rate': 1.0780141843971631e-08, 'epoch': 1.38}\n"
     ]
    },
    {
     "name": "stderr",
     "output_type": "stream",
     "text": [
      " 47%|████▋     | 660/1410 [2:22:16<2:41:13, 12.90s/it]"
     ]
    },
    {
     "name": "stdout",
     "output_type": "stream",
     "text": [
      "{'loss': 0.3253, 'grad_norm': 3.2314815521240234, 'learning_rate': 1.0638297872340425e-08, 'epoch': 1.4}\n"
     ]
    },
    {
     "name": "stderr",
     "output_type": "stream",
     "text": [
      " 48%|████▊     | 670/1410 [2:24:26<2:39:50, 12.96s/it]"
     ]
    },
    {
     "name": "stdout",
     "output_type": "stream",
     "text": [
      "{'loss': 0.2953, 'grad_norm': 2.8293204307556152, 'learning_rate': 1.0496453900709219e-08, 'epoch': 1.43}\n"
     ]
    },
    {
     "name": "stderr",
     "output_type": "stream",
     "text": [
      " 48%|████▊     | 680/1410 [2:26:36<2:37:13, 12.92s/it]"
     ]
    },
    {
     "name": "stdout",
     "output_type": "stream",
     "text": [
      "{'loss': 0.2554, 'grad_norm': 2.7370870113372803, 'learning_rate': 1.0354609929078015e-08, 'epoch': 1.45}\n"
     ]
    },
    {
     "name": "stderr",
     "output_type": "stream",
     "text": [
      " 49%|████▉     | 690/1410 [2:28:46<2:35:17, 12.94s/it]"
     ]
    },
    {
     "name": "stdout",
     "output_type": "stream",
     "text": [
      "{'loss': 0.2418, 'grad_norm': 3.9628398418426514, 'learning_rate': 1.0212765957446808e-08, 'epoch': 1.47}\n"
     ]
    },
    {
     "name": "stderr",
     "output_type": "stream",
     "text": [
      " 50%|████▉     | 700/1410 [2:30:55<2:32:41, 12.90s/it]"
     ]
    },
    {
     "name": "stdout",
     "output_type": "stream",
     "text": [
      "{'loss': 0.3481, 'grad_norm': 1.9300477504730225, 'learning_rate': 1.0070921985815602e-08, 'epoch': 1.49}\n"
     ]
    },
    {
     "name": "stderr",
     "output_type": "stream",
     "text": [
      " 50%|█████     | 710/1410 [2:33:04<2:30:51, 12.93s/it]"
     ]
    },
    {
     "name": "stdout",
     "output_type": "stream",
     "text": [
      "{'loss': 0.2821, 'grad_norm': 3.3532238006591797, 'learning_rate': 9.929078014184398e-09, 'epoch': 1.51}\n"
     ]
    },
    {
     "name": "stderr",
     "output_type": "stream",
     "text": [
      " 51%|█████     | 720/1410 [2:35:14<2:28:33, 12.92s/it]"
     ]
    },
    {
     "name": "stdout",
     "output_type": "stream",
     "text": [
      "{'loss': 0.3174, 'grad_norm': 3.3241302967071533, 'learning_rate': 9.787234042553192e-09, 'epoch': 1.53}\n"
     ]
    },
    {
     "name": "stderr",
     "output_type": "stream",
     "text": [
      " 52%|█████▏    | 730/1410 [2:37:24<2:27:02, 12.97s/it]"
     ]
    },
    {
     "name": "stdout",
     "output_type": "stream",
     "text": [
      "{'loss': 0.2958, 'grad_norm': 7.728574275970459, 'learning_rate': 9.645390070921986e-09, 'epoch': 1.55}\n"
     ]
    },
    {
     "name": "stderr",
     "output_type": "stream",
     "text": [
      " 52%|█████▏    | 740/1410 [2:39:34<2:24:21, 12.93s/it]"
     ]
    },
    {
     "name": "stdout",
     "output_type": "stream",
     "text": [
      "{'loss': 0.2952, 'grad_norm': 2.3109922409057617, 'learning_rate': 9.503546099290781e-09, 'epoch': 1.57}\n"
     ]
    },
    {
     "name": "stderr",
     "output_type": "stream",
     "text": [
      " 53%|█████▎    | 750/1410 [2:41:44<2:22:59, 13.00s/it]"
     ]
    },
    {
     "name": "stdout",
     "output_type": "stream",
     "text": [
      "{'loss': 0.3382, 'grad_norm': 3.154874086380005, 'learning_rate': 9.361702127659575e-09, 'epoch': 1.6}\n"
     ]
    },
    {
     "name": "stderr",
     "output_type": "stream",
     "text": [
      " 54%|█████▍    | 760/1410 [2:43:54<2:20:59, 13.01s/it]"
     ]
    },
    {
     "name": "stdout",
     "output_type": "stream",
     "text": [
      "{'loss': 0.2201, 'grad_norm': 2.905703544616699, 'learning_rate': 9.21985815602837e-09, 'epoch': 1.62}\n"
     ]
    },
    {
     "name": "stderr",
     "output_type": "stream",
     "text": [
      " 55%|█████▍    | 770/1410 [2:46:04<2:18:06, 12.95s/it]"
     ]
    },
    {
     "name": "stdout",
     "output_type": "stream",
     "text": [
      "{'loss': 0.3505, 'grad_norm': 3.48734712600708, 'learning_rate': 9.078014184397163e-09, 'epoch': 1.64}\n"
     ]
    },
    {
     "name": "stderr",
     "output_type": "stream",
     "text": [
      " 55%|█████▌    | 780/1410 [2:48:14<2:16:24, 12.99s/it]"
     ]
    },
    {
     "name": "stdout",
     "output_type": "stream",
     "text": [
      "{'loss': 0.2571, 'grad_norm': 3.42716908454895, 'learning_rate': 8.936170212765957e-09, 'epoch': 1.66}\n"
     ]
    },
    {
     "name": "stderr",
     "output_type": "stream",
     "text": [
      " 56%|█████▌    | 790/1410 [2:50:24<2:13:57, 12.96s/it]"
     ]
    },
    {
     "name": "stdout",
     "output_type": "stream",
     "text": [
      "{'loss': 0.3148, 'grad_norm': 8.046710968017578, 'learning_rate': 8.794326241134753e-09, 'epoch': 1.68}\n"
     ]
    },
    {
     "name": "stderr",
     "output_type": "stream",
     "text": [
      " 57%|█████▋    | 800/1410 [2:52:33<2:11:10, 12.90s/it]"
     ]
    },
    {
     "name": "stdout",
     "output_type": "stream",
     "text": [
      "{'loss': 0.3023, 'grad_norm': 3.951936960220337, 'learning_rate': 8.652482269503547e-09, 'epoch': 1.7}\n"
     ]
    },
    {
     "name": "stderr",
     "output_type": "stream",
     "text": [
      " 57%|█████▋    | 810/1410 [2:54:43<2:09:36, 12.96s/it]"
     ]
    },
    {
     "name": "stdout",
     "output_type": "stream",
     "text": [
      "{'loss': 0.2445, 'grad_norm': 4.572831630706787, 'learning_rate': 8.51063829787234e-09, 'epoch': 1.72}\n"
     ]
    },
    {
     "name": "stderr",
     "output_type": "stream",
     "text": [
      " 58%|█████▊    | 820/1410 [2:56:53<2:07:33, 12.97s/it]"
     ]
    },
    {
     "name": "stdout",
     "output_type": "stream",
     "text": [
      "{'loss': 0.2931, 'grad_norm': 2.840482234954834, 'learning_rate': 8.368794326241135e-09, 'epoch': 1.74}\n"
     ]
    },
    {
     "name": "stderr",
     "output_type": "stream",
     "text": [
      " 59%|█████▉    | 830/1410 [2:59:03<2:05:25, 12.98s/it]"
     ]
    },
    {
     "name": "stdout",
     "output_type": "stream",
     "text": [
      "{'loss': 0.3262, 'grad_norm': 3.476762056350708, 'learning_rate': 8.226950354609929e-09, 'epoch': 1.77}\n"
     ]
    },
    {
     "name": "stderr",
     "output_type": "stream",
     "text": [
      " 60%|█████▉    | 840/1410 [3:01:13<2:03:08, 12.96s/it]"
     ]
    },
    {
     "name": "stdout",
     "output_type": "stream",
     "text": [
      "{'loss': 0.2151, 'grad_norm': 1.9626638889312744, 'learning_rate': 8.085106382978722e-09, 'epoch': 1.79}\n"
     ]
    },
    {
     "name": "stderr",
     "output_type": "stream",
     "text": [
      " 60%|██████    | 850/1410 [3:03:23<2:01:29, 13.02s/it]"
     ]
    },
    {
     "name": "stdout",
     "output_type": "stream",
     "text": [
      "{'loss': 0.1751, 'grad_norm': 2.623939275741577, 'learning_rate': 7.943262411347518e-09, 'epoch': 1.81}\n"
     ]
    },
    {
     "name": "stderr",
     "output_type": "stream",
     "text": [
      " 61%|██████    | 860/1410 [3:05:33<1:58:51, 12.97s/it]"
     ]
    },
    {
     "name": "stdout",
     "output_type": "stream",
     "text": [
      "{'loss': 0.2709, 'grad_norm': 2.35152006149292, 'learning_rate': 7.801418439716312e-09, 'epoch': 1.83}\n"
     ]
    },
    {
     "name": "stderr",
     "output_type": "stream",
     "text": [
      " 62%|██████▏   | 870/1410 [3:07:43<1:56:00, 12.89s/it]"
     ]
    },
    {
     "name": "stdout",
     "output_type": "stream",
     "text": [
      "{'loss': 0.3952, 'grad_norm': 3.101929187774658, 'learning_rate': 7.659574468085106e-09, 'epoch': 1.85}\n"
     ]
    },
    {
     "name": "stderr",
     "output_type": "stream",
     "text": [
      " 62%|██████▏   | 880/1410 [3:09:52<1:54:14, 12.93s/it]"
     ]
    },
    {
     "name": "stdout",
     "output_type": "stream",
     "text": [
      "{'loss': 0.2602, 'grad_norm': 2.123598098754883, 'learning_rate': 7.5177304964539e-09, 'epoch': 1.87}\n"
     ]
    },
    {
     "name": "stderr",
     "output_type": "stream",
     "text": [
      " 63%|██████▎   | 890/1410 [3:12:02<1:52:17, 12.96s/it]"
     ]
    },
    {
     "name": "stdout",
     "output_type": "stream",
     "text": [
      "{'loss': 0.2639, 'grad_norm': 2.9031379222869873, 'learning_rate': 7.375886524822695e-09, 'epoch': 1.89}\n"
     ]
    },
    {
     "name": "stderr",
     "output_type": "stream",
     "text": [
      " 64%|██████▍   | 900/1410 [3:14:12<1:49:49, 12.92s/it]"
     ]
    },
    {
     "name": "stdout",
     "output_type": "stream",
     "text": [
      "{'loss': 0.2736, 'grad_norm': 2.5881357192993164, 'learning_rate': 7.23404255319149e-09, 'epoch': 1.91}\n"
     ]
    },
    {
     "name": "stderr",
     "output_type": "stream",
     "text": [
      " 65%|██████▍   | 910/1410 [3:16:22<1:47:47, 12.93s/it]"
     ]
    },
    {
     "name": "stdout",
     "output_type": "stream",
     "text": [
      "{'loss': 0.384, 'grad_norm': 3.3363046646118164, 'learning_rate': 7.092198581560284e-09, 'epoch': 1.94}\n"
     ]
    },
    {
     "name": "stderr",
     "output_type": "stream",
     "text": [
      " 65%|██████▌   | 920/1410 [3:18:32<1:45:54, 12.97s/it]"
     ]
    },
    {
     "name": "stdout",
     "output_type": "stream",
     "text": [
      "{'loss': 0.258, 'grad_norm': 3.13215708732605, 'learning_rate': 6.950354609929078e-09, 'epoch': 1.96}\n"
     ]
    },
    {
     "name": "stderr",
     "output_type": "stream",
     "text": [
      " 66%|██████▌   | 930/1410 [3:20:42<1:43:35, 12.95s/it]"
     ]
    },
    {
     "name": "stdout",
     "output_type": "stream",
     "text": [
      "{'loss': 0.3316, 'grad_norm': 5.4038262367248535, 'learning_rate': 6.808510638297872e-09, 'epoch': 1.98}\n"
     ]
    },
    {
     "name": "stderr",
     "output_type": "stream",
     "text": [
      " 67%|██████▋   | 940/1410 [3:22:46<1:26:56, 11.10s/it]"
     ]
    },
    {
     "name": "stdout",
     "output_type": "stream",
     "text": [
      "{'loss': 0.2826, 'grad_norm': 3.9561991691589355, 'learning_rate': 6.666666666666667e-09, 'epoch': 2.0}\n"
     ]
    },
    {
     "name": "stderr",
     "output_type": "stream",
     "text": [
      " 67%|██████▋   | 950/1410 [3:24:56<1:38:52, 12.90s/it]"
     ]
    },
    {
     "name": "stdout",
     "output_type": "stream",
     "text": [
      "{'loss': 0.3667, 'grad_norm': 2.5829577445983887, 'learning_rate': 6.5248226950354616e-09, 'epoch': 2.02}\n"
     ]
    },
    {
     "name": "stderr",
     "output_type": "stream",
     "text": [
      " 68%|██████▊   | 960/1410 [3:27:06<1:37:00, 12.93s/it]"
     ]
    },
    {
     "name": "stdout",
     "output_type": "stream",
     "text": [
      "{'loss': 0.3099, 'grad_norm': 3.6017038822174072, 'learning_rate': 6.3829787234042555e-09, 'epoch': 2.04}\n"
     ]
    },
    {
     "name": "stderr",
     "output_type": "stream",
     "text": [
      " 69%|██████▉   | 970/1410 [3:29:15<1:34:45, 12.92s/it]"
     ]
    },
    {
     "name": "stdout",
     "output_type": "stream",
     "text": [
      "{'loss': 0.2809, 'grad_norm': 4.402766704559326, 'learning_rate': 6.24113475177305e-09, 'epoch': 2.06}\n"
     ]
    },
    {
     "name": "stderr",
     "output_type": "stream",
     "text": [
      " 70%|██████▉   | 980/1410 [3:31:25<1:32:34, 12.92s/it]"
     ]
    },
    {
     "name": "stdout",
     "output_type": "stream",
     "text": [
      "{'loss': 0.359, 'grad_norm': 2.4762418270111084, 'learning_rate': 6.099290780141844e-09, 'epoch': 2.09}\n"
     ]
    },
    {
     "name": "stderr",
     "output_type": "stream",
     "text": [
      " 70%|███████   | 990/1410 [3:33:35<1:31:22, 13.05s/it]"
     ]
    },
    {
     "name": "stdout",
     "output_type": "stream",
     "text": [
      "{'loss': 0.2567, 'grad_norm': 3.2493839263916016, 'learning_rate': 5.957446808510638e-09, 'epoch': 2.11}\n"
     ]
    },
    {
     "name": "stderr",
     "output_type": "stream",
     "text": [
      " 71%|███████   | 1000/1410 [3:35:45<1:28:30, 12.95s/it]"
     ]
    },
    {
     "name": "stdout",
     "output_type": "stream",
     "text": [
      "{'loss': 0.2933, 'grad_norm': 0.9806045889854431, 'learning_rate': 5.815602836879432e-09, 'epoch': 2.13}\n"
     ]
    },
    {
     "name": "stderr",
     "output_type": "stream",
     "text": [
      " 72%|███████▏  | 1010/1410 [3:37:55<1:26:05, 12.91s/it]"
     ]
    },
    {
     "name": "stdout",
     "output_type": "stream",
     "text": [
      "{'loss': 0.3059, 'grad_norm': 3.304204225540161, 'learning_rate': 5.673758865248228e-09, 'epoch': 2.15}\n"
     ]
    },
    {
     "name": "stderr",
     "output_type": "stream",
     "text": [
      " 72%|███████▏  | 1020/1410 [3:40:05<1:24:10, 12.95s/it]"
     ]
    },
    {
     "name": "stdout",
     "output_type": "stream",
     "text": [
      "{'loss': 0.2964, 'grad_norm': 3.2387781143188477, 'learning_rate': 5.531914893617022e-09, 'epoch': 2.17}\n"
     ]
    },
    {
     "name": "stderr",
     "output_type": "stream",
     "text": [
      " 73%|███████▎  | 1030/1410 [3:42:15<1:22:09, 12.97s/it]"
     ]
    },
    {
     "name": "stdout",
     "output_type": "stream",
     "text": [
      "{'loss': 0.2211, 'grad_norm': 2.555340528488159, 'learning_rate': 5.3900709219858155e-09, 'epoch': 2.19}\n"
     ]
    },
    {
     "name": "stderr",
     "output_type": "stream",
     "text": [
      " 74%|███████▍  | 1040/1410 [3:44:25<1:19:52, 12.95s/it]"
     ]
    },
    {
     "name": "stdout",
     "output_type": "stream",
     "text": [
      "{'loss': 0.3352, 'grad_norm': 5.9702911376953125, 'learning_rate': 5.2482269503546095e-09, 'epoch': 2.21}\n"
     ]
    },
    {
     "name": "stderr",
     "output_type": "stream",
     "text": [
      " 74%|███████▍  | 1050/1410 [3:46:35<1:17:41, 12.95s/it]"
     ]
    },
    {
     "name": "stdout",
     "output_type": "stream",
     "text": [
      "{'loss': 0.3204, 'grad_norm': 2.9228947162628174, 'learning_rate': 5.106382978723404e-09, 'epoch': 2.23}\n"
     ]
    },
    {
     "name": "stderr",
     "output_type": "stream",
     "text": [
      " 75%|███████▌  | 1060/1410 [3:48:44<1:15:05, 12.87s/it]"
     ]
    },
    {
     "name": "stdout",
     "output_type": "stream",
     "text": [
      "{'loss': 0.273, 'grad_norm': 2.0135598182678223, 'learning_rate': 4.964539007092199e-09, 'epoch': 2.26}\n"
     ]
    },
    {
     "name": "stderr",
     "output_type": "stream",
     "text": [
      " 76%|███████▌  | 1070/1410 [3:50:53<1:12:59, 12.88s/it]"
     ]
    },
    {
     "name": "stdout",
     "output_type": "stream",
     "text": [
      "{'loss': 0.3343, 'grad_norm': 1.9246928691864014, 'learning_rate': 4.822695035460993e-09, 'epoch': 2.28}\n"
     ]
    },
    {
     "name": "stderr",
     "output_type": "stream",
     "text": [
      " 77%|███████▋  | 1080/1410 [3:53:02<1:10:38, 12.84s/it]"
     ]
    },
    {
     "name": "stdout",
     "output_type": "stream",
     "text": [
      "{'loss': 0.2092, 'grad_norm': 2.4619996547698975, 'learning_rate': 4.680851063829788e-09, 'epoch': 2.3}\n"
     ]
    },
    {
     "name": "stderr",
     "output_type": "stream",
     "text": [
      " 77%|███████▋  | 1090/1410 [3:55:11<1:08:43, 12.89s/it]"
     ]
    },
    {
     "name": "stdout",
     "output_type": "stream",
     "text": [
      "{'loss': 0.3313, 'grad_norm': 1.899316430091858, 'learning_rate': 4.539007092198582e-09, 'epoch': 2.32}\n"
     ]
    },
    {
     "name": "stderr",
     "output_type": "stream",
     "text": [
      " 78%|███████▊  | 1100/1410 [3:57:20<1:06:29, 12.87s/it]"
     ]
    },
    {
     "name": "stdout",
     "output_type": "stream",
     "text": [
      "{'loss': 0.2674, 'grad_norm': 3.0258049964904785, 'learning_rate': 4.397163120567376e-09, 'epoch': 2.34}\n"
     ]
    },
    {
     "name": "stderr",
     "output_type": "stream",
     "text": [
      " 79%|███████▊  | 1110/1410 [3:59:29<1:04:15, 12.85s/it]"
     ]
    },
    {
     "name": "stdout",
     "output_type": "stream",
     "text": [
      "{'loss': 0.3905, 'grad_norm': 2.411266565322876, 'learning_rate': 4.25531914893617e-09, 'epoch': 2.36}\n"
     ]
    },
    {
     "name": "stderr",
     "output_type": "stream",
     "text": [
      " 79%|███████▉  | 1120/1410 [4:01:38<1:02:21, 12.90s/it]"
     ]
    },
    {
     "name": "stdout",
     "output_type": "stream",
     "text": [
      "{'loss': 0.3214, 'grad_norm': 2.0877304077148438, 'learning_rate': 4.113475177304964e-09, 'epoch': 2.38}\n"
     ]
    },
    {
     "name": "stderr",
     "output_type": "stream",
     "text": [
      " 80%|████████  | 1130/1410 [4:03:47<1:00:11, 12.90s/it]"
     ]
    },
    {
     "name": "stdout",
     "output_type": "stream",
     "text": [
      "{'loss': 0.3042, 'grad_norm': 3.4119675159454346, 'learning_rate': 3.971631205673759e-09, 'epoch': 2.4}\n"
     ]
    },
    {
     "name": "stderr",
     "output_type": "stream",
     "text": [
      " 81%|████████  | 1140/1410 [4:05:56<58:06, 12.91s/it]  "
     ]
    },
    {
     "name": "stdout",
     "output_type": "stream",
     "text": [
      "{'loss': 0.2136, 'grad_norm': 2.55631160736084, 'learning_rate': 3.829787234042553e-09, 'epoch': 2.43}\n"
     ]
    },
    {
     "name": "stderr",
     "output_type": "stream",
     "text": [
      " 82%|████████▏ | 1150/1410 [4:08:05<55:53, 12.90s/it]"
     ]
    },
    {
     "name": "stdout",
     "output_type": "stream",
     "text": [
      "{'loss': 0.2996, 'grad_norm': 2.486405849456787, 'learning_rate': 3.6879432624113473e-09, 'epoch': 2.45}\n"
     ]
    },
    {
     "name": "stderr",
     "output_type": "stream",
     "text": [
      " 82%|████████▏ | 1160/1410 [4:10:15<53:37, 12.87s/it]"
     ]
    },
    {
     "name": "stdout",
     "output_type": "stream",
     "text": [
      "{'loss': 0.2489, 'grad_norm': 3.591240644454956, 'learning_rate': 3.546099290780142e-09, 'epoch': 2.47}\n"
     ]
    },
    {
     "name": "stderr",
     "output_type": "stream",
     "text": [
      " 83%|████████▎ | 1170/1410 [4:12:24<51:17, 12.82s/it]"
     ]
    },
    {
     "name": "stdout",
     "output_type": "stream",
     "text": [
      "{'loss': 0.3362, 'grad_norm': 3.161414861679077, 'learning_rate': 3.404255319148936e-09, 'epoch': 2.49}\n"
     ]
    },
    {
     "name": "stderr",
     "output_type": "stream",
     "text": [
      " 84%|████████▎ | 1180/1410 [4:14:33<49:21, 12.88s/it]"
     ]
    },
    {
     "name": "stdout",
     "output_type": "stream",
     "text": [
      "{'loss': 0.2778, 'grad_norm': 4.795899391174316, 'learning_rate': 3.2624113475177308e-09, 'epoch': 2.51}\n"
     ]
    },
    {
     "name": "stderr",
     "output_type": "stream",
     "text": [
      " 84%|████████▍ | 1190/1410 [4:16:42<47:13, 12.88s/it]"
     ]
    },
    {
     "name": "stdout",
     "output_type": "stream",
     "text": [
      "{'loss': 0.2898, 'grad_norm': 1.5021796226501465, 'learning_rate': 3.120567375886525e-09, 'epoch': 2.53}\n"
     ]
    },
    {
     "name": "stderr",
     "output_type": "stream",
     "text": [
      " 85%|████████▌ | 1200/1410 [4:18:51<45:03, 12.87s/it]"
     ]
    },
    {
     "name": "stdout",
     "output_type": "stream",
     "text": [
      "{'loss': 0.2666, 'grad_norm': 2.0192489624023438, 'learning_rate': 2.978723404255319e-09, 'epoch': 2.55}\n"
     ]
    },
    {
     "name": "stderr",
     "output_type": "stream",
     "text": [
      " 86%|████████▌ | 1210/1410 [4:21:00<42:56, 12.88s/it]"
     ]
    },
    {
     "name": "stdout",
     "output_type": "stream",
     "text": [
      "{'loss': 0.2837, 'grad_norm': 2.947258710861206, 'learning_rate': 2.836879432624114e-09, 'epoch': 2.57}\n"
     ]
    },
    {
     "name": "stderr",
     "output_type": "stream",
     "text": [
      " 87%|████████▋ | 1220/1410 [4:23:10<41:00, 12.95s/it]"
     ]
    },
    {
     "name": "stdout",
     "output_type": "stream",
     "text": [
      "{'loss': 0.234, 'grad_norm': 2.3881194591522217, 'learning_rate': 2.6950354609929078e-09, 'epoch': 2.6}\n"
     ]
    },
    {
     "name": "stderr",
     "output_type": "stream",
     "text": [
      " 87%|████████▋ | 1230/1410 [4:25:19<38:56, 12.98s/it]"
     ]
    },
    {
     "name": "stdout",
     "output_type": "stream",
     "text": [
      "{'loss': 0.3402, 'grad_norm': 1.739137887954712, 'learning_rate': 2.553191489361702e-09, 'epoch': 2.62}\n"
     ]
    },
    {
     "name": "stderr",
     "output_type": "stream",
     "text": [
      " 88%|████████▊ | 1240/1410 [4:27:29<36:30, 12.88s/it]"
     ]
    },
    {
     "name": "stdout",
     "output_type": "stream",
     "text": [
      "{'loss': 0.2575, 'grad_norm': 2.6193735599517822, 'learning_rate': 2.4113475177304965e-09, 'epoch': 2.64}\n"
     ]
    },
    {
     "name": "stderr",
     "output_type": "stream",
     "text": [
      " 89%|████████▊ | 1250/1410 [4:29:38<34:19, 12.87s/it]"
     ]
    },
    {
     "name": "stdout",
     "output_type": "stream",
     "text": [
      "{'loss': 0.3383, 'grad_norm': 3.617649793624878, 'learning_rate': 2.269503546099291e-09, 'epoch': 2.66}\n"
     ]
    },
    {
     "name": "stderr",
     "output_type": "stream",
     "text": [
      " 89%|████████▉ | 1260/1410 [4:31:47<32:19, 12.93s/it]"
     ]
    },
    {
     "name": "stdout",
     "output_type": "stream",
     "text": [
      "{'loss': 0.2744, 'grad_norm': 0.03982473909854889, 'learning_rate': 2.127659574468085e-09, 'epoch': 2.68}\n"
     ]
    },
    {
     "name": "stderr",
     "output_type": "stream",
     "text": [
      " 90%|█████████ | 1270/1410 [4:33:57<30:07, 12.91s/it]"
     ]
    },
    {
     "name": "stdout",
     "output_type": "stream",
     "text": [
      "{'loss': 0.3501, 'grad_norm': 2.5984485149383545, 'learning_rate': 1.9858156028368795e-09, 'epoch': 2.7}\n"
     ]
    },
    {
     "name": "stderr",
     "output_type": "stream",
     "text": [
      " 91%|█████████ | 1280/1410 [4:36:06<28:01, 12.94s/it]"
     ]
    },
    {
     "name": "stdout",
     "output_type": "stream",
     "text": [
      "{'loss': 0.2134, 'grad_norm': 2.943904399871826, 'learning_rate': 1.8439716312056737e-09, 'epoch': 2.72}\n"
     ]
    },
    {
     "name": "stderr",
     "output_type": "stream",
     "text": [
      " 91%|█████████▏| 1290/1410 [4:38:16<25:50, 12.92s/it]"
     ]
    },
    {
     "name": "stdout",
     "output_type": "stream",
     "text": [
      "{'loss': 0.2477, 'grad_norm': 4.242483615875244, 'learning_rate': 1.702127659574468e-09, 'epoch': 2.74}\n"
     ]
    },
    {
     "name": "stderr",
     "output_type": "stream",
     "text": [
      " 92%|█████████▏| 1300/1410 [4:40:25<23:43, 12.94s/it]"
     ]
    },
    {
     "name": "stdout",
     "output_type": "stream",
     "text": [
      "{'loss': 0.3038, 'grad_norm': 2.574753999710083, 'learning_rate': 1.5602836879432626e-09, 'epoch': 2.77}\n"
     ]
    },
    {
     "name": "stderr",
     "output_type": "stream",
     "text": [
      " 93%|█████████▎| 1310/1410 [4:42:34<21:25, 12.85s/it]"
     ]
    },
    {
     "name": "stdout",
     "output_type": "stream",
     "text": [
      "{'loss': 0.2397, 'grad_norm': 2.763162136077881, 'learning_rate': 1.418439716312057e-09, 'epoch': 2.79}\n"
     ]
    },
    {
     "name": "stderr",
     "output_type": "stream",
     "text": [
      " 94%|█████████▎| 1320/1410 [4:44:44<19:19, 12.89s/it]"
     ]
    },
    {
     "name": "stdout",
     "output_type": "stream",
     "text": [
      "{'loss': 0.2637, 'grad_norm': 3.131744384765625, 'learning_rate': 1.276595744680851e-09, 'epoch': 2.81}\n"
     ]
    },
    {
     "name": "stderr",
     "output_type": "stream",
     "text": [
      " 94%|█████████▍| 1330/1410 [4:46:53<17:12, 12.90s/it]"
     ]
    },
    {
     "name": "stdout",
     "output_type": "stream",
     "text": [
      "{'loss': 0.3402, 'grad_norm': 2.8588297367095947, 'learning_rate': 1.1347517730496454e-09, 'epoch': 2.83}\n"
     ]
    },
    {
     "name": "stderr",
     "output_type": "stream",
     "text": [
      " 95%|█████████▌| 1340/1410 [4:49:02<15:00, 12.87s/it]"
     ]
    },
    {
     "name": "stdout",
     "output_type": "stream",
     "text": [
      "{'loss': 0.161, 'grad_norm': 1.5570167303085327, 'learning_rate': 9.929078014184398e-10, 'epoch': 2.85}\n"
     ]
    },
    {
     "name": "stderr",
     "output_type": "stream",
     "text": [
      " 96%|█████████▌| 1350/1410 [4:51:12<12:54, 12.91s/it]"
     ]
    },
    {
     "name": "stdout",
     "output_type": "stream",
     "text": [
      "{'loss': 0.2393, 'grad_norm': 2.7229833602905273, 'learning_rate': 8.51063829787234e-10, 'epoch': 2.87}\n"
     ]
    },
    {
     "name": "stderr",
     "output_type": "stream",
     "text": [
      " 96%|█████████▋| 1360/1410 [4:53:21<10:44, 12.89s/it]"
     ]
    },
    {
     "name": "stdout",
     "output_type": "stream",
     "text": [
      "{'loss': 0.3475, 'grad_norm': 6.58236026763916, 'learning_rate': 7.092198581560285e-10, 'epoch': 2.89}\n"
     ]
    },
    {
     "name": "stderr",
     "output_type": "stream",
     "text": [
      " 97%|█████████▋| 1370/1410 [4:55:31<08:37, 12.94s/it]"
     ]
    },
    {
     "name": "stdout",
     "output_type": "stream",
     "text": [
      "{'loss': 0.324, 'grad_norm': 3.146263360977173, 'learning_rate': 5.673758865248227e-10, 'epoch': 2.91}\n"
     ]
    },
    {
     "name": "stderr",
     "output_type": "stream",
     "text": [
      " 98%|█████████▊| 1380/1410 [4:57:40<06:27, 12.93s/it]"
     ]
    },
    {
     "name": "stdout",
     "output_type": "stream",
     "text": [
      "{'loss': 0.2159, 'grad_norm': 1.8104416131973267, 'learning_rate': 4.25531914893617e-10, 'epoch': 2.94}\n"
     ]
    },
    {
     "name": "stderr",
     "output_type": "stream",
     "text": [
      " 99%|█████████▊| 1390/1410 [4:59:50<04:18, 12.94s/it]"
     ]
    },
    {
     "name": "stdout",
     "output_type": "stream",
     "text": [
      "{'loss': 0.295, 'grad_norm': 7.297471523284912, 'learning_rate': 2.8368794326241135e-10, 'epoch': 2.96}\n"
     ]
    },
    {
     "name": "stderr",
     "output_type": "stream",
     "text": [
      " 99%|█████████▉| 1400/1410 [5:02:00<02:09, 12.96s/it]"
     ]
    },
    {
     "name": "stdout",
     "output_type": "stream",
     "text": [
      "{'loss': 0.2406, 'grad_norm': 2.1115171909332275, 'learning_rate': 1.4184397163120568e-10, 'epoch': 2.98}\n"
     ]
    },
    {
     "name": "stderr",
     "output_type": "stream",
     "text": [
      "100%|██████████| 1410/1410 [5:04:03<00:00, 12.94s/it]"
     ]
    },
    {
     "name": "stdout",
     "output_type": "stream",
     "text": [
      "{'loss': 0.2684, 'grad_norm': 7.029175758361816, 'learning_rate': 0.0, 'epoch': 3.0}\n",
      "{'train_runtime': 18243.5609, 'train_samples_per_second': 1.853, 'train_steps_per_second': 0.077, 'train_loss': 0.28651398555606816, 'epoch': 3.0}\n"
     ]
    },
    {
     "name": "stderr",
     "output_type": "stream",
     "text": [
      "\n"
     ]
    },
    {
     "data": {
      "text/plain": [
       "TrainOutput(global_step=1410, training_loss=0.28651398555606816, metrics={'train_runtime': 18243.5609, 'train_samples_per_second': 1.853, 'train_steps_per_second': 0.077, 'train_loss': 0.28651398555606816, 'epoch': 3.0})"
      ]
     },
     "execution_count": 21,
     "metadata": {},
     "output_type": "execute_result"
    }
   ],
   "source": [
    "#show the result of the model\n",
    "trainer.train()\n"
   ]
  },
  {
   "cell_type": "code",
   "execution_count": null,
   "metadata": {},
   "outputs": [],
   "source": []
  },
  {
   "cell_type": "code",
   "execution_count": null,
   "metadata": {},
   "outputs": [],
   "source": []
  },
  {
   "cell_type": "code",
   "execution_count": null,
   "metadata": {},
   "outputs": [],
   "source": []
  }
 ],
 "metadata": {
  "kernelspec": {
   "display_name": "tensorflow",
   "language": "python",
   "name": "python3"
  },
  "language_info": {
   "codemirror_mode": {
    "name": "ipython",
    "version": 3
   },
   "file_extension": ".py",
   "mimetype": "text/x-python",
   "name": "python",
   "nbconvert_exporter": "python",
   "pygments_lexer": "ipython3",
   "version": "3.10.12"
  }
 },
 "nbformat": 4,
 "nbformat_minor": 2
}
